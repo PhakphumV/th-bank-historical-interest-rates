{
 "cells": [
  {
   "cell_type": "code",
   "execution_count": 1,
   "id": "20fbdbd4",
   "metadata": {},
   "outputs": [],
   "source": [
    "import urllib.parse\n",
    "import requests\n",
    "import pandas as pd\n",
    "import datetime\n",
    "import io"
   ]
  },
  {
   "cell_type": "code",
   "execution_count": 2,
   "id": "774742d3",
   "metadata": {},
   "outputs": [],
   "source": [
    "startYear = 1996\n",
    "today = datetime.date.today()\n",
    "currentYear = today.year"
   ]
  },
  {
   "cell_type": "code",
   "execution_count": 3,
   "id": "33a0e053",
   "metadata": {},
   "outputs": [],
   "source": [
    "def buddishYear(year):\n",
    "    return year+543"
   ]
  },
  {
   "cell_type": "code",
   "execution_count": 4,
   "id": "33adf6a1",
   "metadata": {},
   "outputs": [],
   "source": [
    "# dlType = \"interestCSV\" # interestCSV or interestXLS\n",
    "# dateFrom = \"01/1/2565\" # dd/mm/YYYY * Year in Buddhist calendar. Eg. 13/1/2565\n",
    "# dateTo = \"31/12/2565\" # dd/mm/YYYY * Year in Buddhist calendar. Eg. 13/1/2565\n",
    "# bankValue = \"002\" # bankId\n",
    "# bankName = \"กรุงเทพ\" # bankName\n",
    "# rdoTypeStr = \"1\" # 0 for deposit or 1 for loan\n",
    "\n",
    "def getBOT_URL(dateFrom,dateTo,bankValue,bankName,rdoTypeStr):\n",
    "    payload = {\n",
    "        \"dlType\" : dlType,\n",
    "        \"dateFrom\" : dateFrom,\n",
    "        \"dateTo\" : dateTo,\n",
    "        \"bankValue\" : bankValue,\n",
    "        \"bankName\" : bankName,\n",
    "        \"rdoTypeStr\" : rdoTypeStr\n",
    "    }\n",
    "    \n",
    "    url = \"https://www.bot.or.th/thai/statistics/_layouts/application/interest_rate/DownloadFile.aspx?\"\n",
    "\n",
    "#     res = requests.get(url,params=payload)\n",
    "    \n",
    "    return url+urllib.parse.urlencode(payload)"
   ]
  },
  {
   "cell_type": "code",
   "execution_count": 5,
   "id": "f81e7720",
   "metadata": {},
   "outputs": [],
   "source": [
    "all_dfs = []"
   ]
  },
  {
   "cell_type": "code",
   "execution_count": 6,
   "id": "705e8ad4",
   "metadata": {},
   "outputs": [],
   "source": [
    "year = startYear\n",
    "while year<=currentYear:\n",
    "    dateFrom = \"01/01/{}\".format(buddishYear(year))\n",
    "    dateTo = \"31/12/{}\".format(buddishYear(year))\n",
    "    \n",
    "    if(year==startYear):\n",
    "        dateFrom=\"31/01/{}\".format(buddishYear(year))\n",
    "    elif(year==currentYear):\n",
    "        date = today.day\n",
    "        month = today.month\n",
    "        dateTo = \"{}/{}/{}\".format(date,month,buddishYear(year))\n",
    "        \n",
    "#     print(\"Date from {} to {}\".format(dateFrom,dateTo))\n",
    "    \n",
    "    bankValue = \"002\"\n",
    "    bankName = \"กรุงเทพ\"\n",
    "    dlType = \"interestCSV\"\n",
    "    rdoTypeStr = \"1\" \n",
    "    \n",
    "    url = getBOT_URL(dateFrom,dateTo,bankValue,bankName,rdoTypeStr)\n",
    "    df = pd.read_csv(url,sep=\"|\",encoding=\"iso8859_11\",skiprows=[0,1])\n",
    "    df[\"bank\"] = bankName\n",
    "    \n",
    "    all_dfs.append(df)\n",
    "    year += 1\n",
    "        "
   ]
  },
  {
   "cell_type": "code",
   "execution_count": 9,
   "id": "18486fc6",
   "metadata": {},
   "outputs": [],
   "source": [
    "consolidated_df = pd.concat(all_dfs)"
   ]
  },
  {
   "cell_type": "code",
   "execution_count": 10,
   "id": "3546f953",
   "metadata": {},
   "outputs": [
    {
     "name": "stdout",
     "output_type": "stream",
     "text": [
      "           วันที่    MOR    MLR    MRR  สูงสุด  ผิดนัด บัตรเครดิต     bank\n",
      "0    31 ม.ค. 2539  14.00  13.75  14.00   16.00   18.00          -  กรุงเทพ\n",
      "1    29 ก.พ. 2539  13.75  13.75  13.75   15.75   18.00          -  กรุงเทพ\n",
      "2   31 มี.ค. 2539  13.75  13.75  13.75   15.75   18.00          -  กรุงเทพ\n",
      "3   30 เม.ย. 2539  13.75  13.75  13.75   15.75   18.00          -  กรุงเทพ\n",
      "4    31 พ.ค. 2539  13.75  13.25  13.75   15.75   18.00          -  กรุงเทพ\n",
      "..            ...    ...    ...    ...     ...     ...        ...      ...\n",
      "3    06 ม.ค. 2566   6.75   6.25   6.65   18.00   21.65       16.0  กรุงเทพ\n",
      "4    09 ม.ค. 2566   6.75   6.25   6.65   18.00   21.65       16.0  กรุงเทพ\n",
      "5    10 ม.ค. 2566   6.75   6.25   6.65   18.00   21.65       16.0  กรุงเทพ\n",
      "6    11 ม.ค. 2566   6.75   6.25   6.65   18.00   21.65       16.0  กรุงเทพ\n",
      "7    12 ม.ค. 2566   6.75   6.25   6.65   18.00   21.65       16.0  กรุงเทพ\n",
      "\n",
      "[5679 rows x 8 columns]\n"
     ]
    }
   ],
   "source": [
    "print(consolidated_df)"
   ]
  },
  {
   "cell_type": "code",
   "execution_count": null,
   "id": "73c17ea9",
   "metadata": {},
   "outputs": [],
   "source": []
  }
 ],
 "metadata": {
  "kernelspec": {
   "display_name": "Python 3 (ipykernel)",
   "language": "python",
   "name": "python3"
  },
  "language_info": {
   "codemirror_mode": {
    "name": "ipython",
    "version": 3
   },
   "file_extension": ".py",
   "mimetype": "text/x-python",
   "name": "python",
   "nbconvert_exporter": "python",
   "pygments_lexer": "ipython3",
   "version": "3.10.2"
  }
 },
 "nbformat": 4,
 "nbformat_minor": 5
}
