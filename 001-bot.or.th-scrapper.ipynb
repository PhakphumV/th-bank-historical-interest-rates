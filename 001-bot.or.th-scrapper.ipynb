{
 "cells": [
  {
   "cell_type": "code",
   "execution_count": 1,
   "id": "20fbdbd4",
   "metadata": {},
   "outputs": [],
   "source": [
    "import urllib.parse\n",
    "import requests\n",
    "import pandas as pd\n",
    "import datetime\n",
    "import io"
   ]
  },
  {
   "cell_type": "code",
   "execution_count": 2,
   "id": "6ee604c2",
   "metadata": {},
   "outputs": [],
   "source": [
    "startYear = 1996\n",
    "today = datetime.date.today()\n",
    "currentYear = today.year"
   ]
  },
  {
   "cell_type": "code",
   "execution_count": 3,
   "id": "1a9a03f8",
   "metadata": {},
   "outputs": [],
   "source": [
    "def buddishYear(year):\n",
    "    return year+543"
   ]
  },
  {
   "cell_type": "code",
   "execution_count": 4,
   "id": "59fe29d5",
   "metadata": {},
   "outputs": [],
   "source": [
    "# dlType = \"interestCSV\" # interestCSV or interestXLS\n",
    "# dateFrom = \"01/1/2565\" # dd/mm/YYYY * Year in Buddhist calendar. Eg. 13/1/2565\n",
    "# dateTo = \"31/12/2565\" # dd/mm/YYYY * Year in Buddhist calendar. Eg. 13/1/2565\n",
    "# bankValue = \"002\" # bankId\n",
    "# bankName = \"กรุงเทพ\" # bankName\n",
    "# rdoTypeStr = \"1\" # 0 for deposit or 1 for loan\n",
    "\n",
    "def getBOT_URL(dateFrom,dateTo,bankValue,bankName,rdoTypeStr):\n",
    "    payload = {\n",
    "        \"dlType\" : dlType,\n",
    "        \"dateFrom\" : dateFrom,\n",
    "        \"dateTo\" : dateTo,\n",
    "        \"bankValue\" : bankValue,\n",
    "        \"bankName\" : bankName,\n",
    "        \"rdoTypeStr\" : rdoTypeStr\n",
    "    }\n",
    "    \n",
    "    url = \"https://www.bot.or.th/thai/statistics/_layouts/application/interest_rate/DownloadFile.aspx?\"\n",
    "\n",
    "#     res = requests.get(url,params=payload)\n",
    "    \n",
    "    return url+urllib.parse.urlencode(payload)"
   ]
  },
  {
   "cell_type": "code",
   "execution_count": 7,
   "id": "db3c0d94",
   "metadata": {},
   "outputs": [
    {
     "name": "stdout",
     "output_type": "stream",
     "text": [
      "Empty DataFrame\n",
      "Columns: [bankValue, bankName]\n",
      "Index: []\n"
     ]
    }
   ],
   "source": [
    "bank_df = pd.read_csv(\"bank.csv\",header=0,names=[\"bankValue\",\"bankName\"])\n",
    "# bank_df = pd.read_csv(\"bank.csv\",header=0,names=[\"bankValue\",\"bankName\"])\n",
    "print(bank_df)"
   ]
  },
  {
   "cell_type": "code",
   "execution_count": null,
   "id": "4b19d4a7",
   "metadata": {},
   "outputs": [],
   "source": [
    "all_dfs = []"
   ]
  },
  {
   "cell_type": "code",
   "execution_count": null,
   "id": "0463b61b",
   "metadata": {},
   "outputs": [],
   "source": [
    "year = startYear\n",
    "while year<=currentYear:\n",
    "    dateFrom = \"01/01/{}\".format(buddishYear(year))\n",
    "    dateTo = \"31/12/{}\".format(buddishYear(year))\n",
    "    \n",
    "    if(year==startYear):\n",
    "        dateFrom=\"31/01/{}\".format(buddishYear(year))\n",
    "    elif(year==currentYear):\n",
    "        date = today.day\n",
    "        month = today.month\n",
    "        dateTo = \"{}/{}/{}\".format(date,month,buddishYear(year))\n",
    "        \n",
    "#     print(\"Date from {} to {}\".format(dateFrom,dateTo))\n",
    "    \n",
    "    bankValue = \"002\"\n",
    "    bankName = \"กรุงเทพ\"\n",
    "    dlType = \"interestCSV\"\n",
    "    rdoTypeStr = \"1\" \n",
    "    \n",
    "    url = getBOT_URL(dateFrom,dateTo,bankValue,bankName,rdoTypeStr)\n",
    "    df = pd.read_csv(url,sep=\"|\",encoding=\"iso8859_11\",skiprows=[0,1])\n",
    "    df[\"bank\"] = bankName\n",
    "    \n",
    "    all_dfs.append(df)\n",
    "    year += 1\n",
    "        "
   ]
  },
  {
   "cell_type": "code",
   "execution_count": null,
   "id": "18486fc6",
   "metadata": {},
   "outputs": [],
   "source": [
    "consolidated_df = pd.concat(all_dfs)"
   ]
  },
  {
   "cell_type": "code",
   "execution_count": null,
   "id": "3546f953",
   "metadata": {},
   "outputs": [],
   "source": [
    "print(consolidated_df)"
   ]
  },
  {
   "cell_type": "code",
   "execution_count": null,
   "id": "5a716703",
   "metadata": {},
   "outputs": [],
   "source": []
  }
 ],
 "metadata": {
  "kernelspec": {
   "display_name": "Python 3 (ipykernel)",
   "language": "python",
   "name": "python3"
  },
  "language_info": {
   "codemirror_mode": {
    "name": "ipython",
    "version": 3
   },
   "file_extension": ".py",
   "mimetype": "text/x-python",
   "name": "python",
   "nbconvert_exporter": "python",
   "pygments_lexer": "ipython3",
   "version": "3.10.2"
  }
 },
 "nbformat": 4,
 "nbformat_minor": 5
}
