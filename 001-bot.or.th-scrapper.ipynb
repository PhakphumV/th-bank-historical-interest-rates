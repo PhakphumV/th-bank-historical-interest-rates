{
 "cells": [
  {
   "cell_type": "code",
   "execution_count": null,
   "id": "20fbdbd4",
   "metadata": {},
   "outputs": [],
   "source": [
    "import requests\n"
   ]
  },
  {
   "cell_type": "code",
   "execution_count": null,
   "id": "18486fc6",
   "metadata": {},
   "outputs": [],
   "source": [
    "dlType = \"interestCSV\" # interestCSV or interestXLS\n",
    "dateFrom = \"01/1/2565\" # dd/mm/YYYY * Year in Buddhist calendar. Eg. 13/1/2565\n",
    "dateTo = \"31/12/2565\" # dd/mm/YYYY * Year in Buddhist calendar. Eg. 13/1/2565\n",
    "bankValue = \"002\" # bankId\n",
    "bankName = \"กรุงเทพ\" # bankName\n",
    "rdoTypeStr = \"1\" # 0 for deposit or 1 for loan"
   ]
  },
  {
   "cell_type": "code",
   "execution_count": null,
   "id": "3546f953",
   "metadata": {},
   "outputs": [],
   "source": [
    "payload = {\n",
    "    \"dlType\" : dlType,\n",
    "    \"dateFrom\" : dateFrom,\n",
    "    \"dateTo\" : dateTo,\n",
    "    \"bankValue\" : bankValue,\n",
    "    \"bankName\" : bankName,\n",
    "    \"rdoTypeStr\" : rdoTypeStr\n",
    "}"
   ]
  },
  {
   "cell_type": "code",
   "execution_count": null,
   "id": "c6b7c958",
   "metadata": {},
   "outputs": [],
   "source": [
    "url = \"https://www.bot.or.th/thai/statistics/_layouts/application/interest_rate/DownloadFile.aspx\"\n",
    "\n",
    "res = requests.get(url,params=payload)"
   ]
  },
  {
   "cell_type": "code",
   "execution_count": null,
   "id": "10f9e0c1",
   "metadata": {},
   "outputs": [],
   "source": [
    "print(res.text)"
   ]
  },
  {
   "cell_type": "code",
   "execution_count": null,
   "id": "bc80463c",
   "metadata": {},
   "outputs": [],
   "source": []
  }
 ],
 "metadata": {
  "kernelspec": {
   "display_name": "Python 3 (ipykernel)",
   "language": "python",
   "name": "python3"
  },
  "language_info": {
   "codemirror_mode": {
    "name": "ipython",
    "version": 3
   },
   "file_extension": ".py",
   "mimetype": "text/x-python",
   "name": "python",
   "nbconvert_exporter": "python",
   "pygments_lexer": "ipython3",
   "version": "3.11.1"
  }
 },
 "nbformat": 4,
 "nbformat_minor": 5
}
