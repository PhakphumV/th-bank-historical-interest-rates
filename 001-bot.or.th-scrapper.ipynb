{
 "cells": [
  {
   "cell_type": "code",
   "execution_count": null,
   "id": "20fbdbd4",
   "metadata": {},
   "outputs": [],
   "source": [
    "import urllib.parse\n",
    "import requests\n",
    "import pandas as pd\n",
    "import datetime\n",
    "import io"
   ]
  },
  {
   "cell_type": "code",
   "execution_count": null,
   "id": "97a0a2b9",
   "metadata": {},
   "outputs": [],
   "source": [
    "startYear = 1996\n",
    "today = datetime.date.today()\n",
    "currentYear = today.year"
   ]
  },
  {
   "cell_type": "code",
   "execution_count": null,
   "id": "fb9e6d47",
   "metadata": {},
   "outputs": [],
   "source": [
    "def buddishYear(year):\n",
    "    return year+543"
   ]
  },
  {
   "cell_type": "code",
   "execution_count": null,
   "id": "ed8ea35d",
   "metadata": {},
   "outputs": [],
   "source": [
    "# dlType = \"interestCSV\" # interestCSV or interestXLS\n",
    "# dateFrom = \"01/1/2565\" # dd/mm/YYYY * Year in Buddhist calendar. Eg. 13/1/2565\n",
    "# dateTo = \"31/12/2565\" # dd/mm/YYYY * Year in Buddhist calendar. Eg. 13/1/2565\n",
    "# bankValue = \"002\" # bankId\n",
    "# bankName = \"กรุงเทพ\" # bankName\n",
    "# rdoTypeStr = \"1\" # 0 for deposit or 1 for loan\n",
    "\n",
    "def getBOT_URL(dateFrom,dateTo,bankValue,bankName,rdoTypeStr):\n",
    "    payload = {\n",
    "        \"dlType\" : dlType,\n",
    "        \"dateFrom\" : dateFrom,\n",
    "        \"dateTo\" : dateTo,\n",
    "        \"bankValue\" : bankValue,\n",
    "        \"bankName\" : bankName,\n",
    "        \"rdoTypeStr\" : rdoTypeStr\n",
    "    }\n",
    "    \n",
    "    url = \"https://www.bot.or.th/thai/statistics/_layouts/application/interest_rate/DownloadFile.aspx?\"\n",
    "\n",
    "#     res = requests.get(url,params=payload)\n",
    "    \n",
    "    return url+urllib.parse.urlencode(payload)"
   ]
  },
  {
   "cell_type": "code",
   "execution_count": null,
   "id": "1c87c3d7",
   "metadata": {},
   "outputs": [],
   "source": []
  },
  {
   "cell_type": "code",
   "execution_count": null,
   "id": "889b4e55",
   "metadata": {},
   "outputs": [],
   "source": [
    "all_dfs = []"
   ]
  },
  {
   "cell_type": "code",
   "execution_count": null,
   "id": "f15add23",
   "metadata": {},
   "outputs": [],
   "source": [
    "year = startYear\n",
    "while year<=currentYear:\n",
    "    dateFrom = \"01/01/{}\".format(buddishYear(year))\n",
    "    dateTo = \"31/12/{}\".format(buddishYear(year))\n",
    "    \n",
    "    if(year==startYear):\n",
    "        dateFrom=\"31/01/{}\".format(buddishYear(year))\n",
    "    elif(year==currentYear):\n",
    "        date = today.day\n",
    "        month = today.month\n",
    "        dateTo = \"{}/{}/{}\".format(date,month,buddishYear(year))\n",
    "        \n",
    "#     print(\"Date from {} to {}\".format(dateFrom,dateTo))\n",
    "    \n",
    "    bankValue = \"002\"\n",
    "    bankName = \"กรุงเทพ\"\n",
    "    dlType = \"interestCSV\"\n",
    "    rdoTypeStr = \"1\" \n",
    "    \n",
    "    url = getBOT_URL(dateFrom,dateTo,bankValue,bankName,rdoTypeStr)\n",
    "    df = pd.read_csv(url,sep=\"|\",encoding=\"iso8859_11\",skiprows=[0,1])\n",
    "    df[\"bank\"] = bankName\n",
    "    \n",
    "    all_dfs.append(df)\n",
    "    year += 1\n",
    "        "
   ]
  },
  {
   "cell_type": "code",
   "execution_count": null,
   "id": "18486fc6",
   "metadata": {},
   "outputs": [],
   "source": [
    "consolidated_df = pd.concat(all_dfs)"
   ]
  },
  {
   "cell_type": "code",
   "execution_count": null,
   "id": "3546f953",
   "metadata": {},
   "outputs": [],
   "source": [
    "print(consolidated_df)"
   ]
  },
  {
   "cell_type": "code",
   "execution_count": null,
   "id": "01162293",
   "metadata": {},
   "outputs": [],
   "source": []
  }
 ],
 "metadata": {
  "kernelspec": {
   "display_name": "Python 3 (ipykernel)",
   "language": "python",
   "name": "python3"
  },
  "language_info": {
   "codemirror_mode": {
    "name": "ipython",
    "version": 3
   },
   "file_extension": ".py",
   "mimetype": "text/x-python",
   "name": "python",
   "nbconvert_exporter": "python",
   "pygments_lexer": "ipython3",
   "version": "3.10.2"
  }
 },
 "nbformat": 4,
 "nbformat_minor": 5
}
