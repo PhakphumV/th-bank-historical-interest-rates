{
 "cells": [
  {
   "cell_type": "code",
   "execution_count": null,
   "id": "20fbdbd4",
   "metadata": {},
   "outputs": [],
   "source": [
    "import requests\n",
    "import pandas as pd\n",
    "import datetime"
   ]
  },
  {
   "cell_type": "code",
   "execution_count": null,
   "id": "8b958656",
   "metadata": {},
   "outputs": [],
   "source": [
    "startYear = 1996\n",
    "today = datetime.date.today()\n",
    "currentYear = today.year"
   ]
  },
  {
   "cell_type": "code",
   "execution_count": null,
   "id": "35dab270",
   "metadata": {},
   "outputs": [],
   "source": [
    "def buddishYear(year):\n",
    "    return year+543"
   ]
  },
  {
   "cell_type": "code",
   "execution_count": null,
   "id": "3801d074",
   "metadata": {},
   "outputs": [],
   "source": [
    "def getBOTFile(dateFrom,dateTo,bankValue,bankName,rdoTypeStr):\n",
    "    payload = {\n",
    "        \"dlType\" : dlType,\n",
    "        \"dateFrom\" : dateFrom,\n",
    "        \"dateTo\" : dateTo,\n",
    "        \"bankValue\" : bankValue,\n",
    "        \"bankName\" : bankName,\n",
    "        \"rdoTypeStr\" : rdoTypeStr\n",
    "    }\n",
    "    \n",
    "    url = \"https://www.bot.or.th/thai/statistics/_layouts/application/interest_rate/DownloadFile.aspx\"\n",
    "\n",
    "    res = requests.get(url,params=payload)\n",
    "    \n",
    "    return res"
   ]
  },
  {
   "cell_type": "code",
   "execution_count": null,
   "id": "7f7fbd0e",
   "metadata": {},
   "outputs": [],
   "source": [
    "year = startYear\n",
    "while year<=currentYear:\n",
    "    dateFrom = \"01/01/{}\".format(buddishYear(year))\n",
    "    dateTo = \"31/12/{}\".format(buddishYear(year))\n",
    "    \n",
    "    if(year==startYear):\n",
    "        dateFrom=\"31/01/{}\".format(buddishYear(year))\n",
    "    elif(year==currentYear):\n",
    "        date = today.day\n",
    "        month = today.month\n",
    "        dateTo = \"{}/{}/{}\".format(date,month,buddishYear(year))\n",
    "        \n",
    "    print(\"Date from {} to {}\".format(dateFrom,dateTo))\n",
    "    \n",
    "    year += 1\n",
    "        "
   ]
  },
  {
   "cell_type": "code",
   "execution_count": null,
   "id": "18486fc6",
   "metadata": {},
   "outputs": [],
   "source": [
    "# dlType = \"interestCSV\" # interestCSV or interestXLS\n",
    "# dateFrom = \"01/1/2565\" # dd/mm/YYYY * Year in Buddhist calendar. Eg. 13/1/2565\n",
    "# dateTo = \"31/12/2565\" # dd/mm/YYYY * Year in Buddhist calendar. Eg. 13/1/2565\n",
    "# bankValue = \"002\" # bankId\n",
    "# bankName = \"กรุงเทพ\" # bankName\n",
    "# rdoTypeStr = \"1\" # 0 for deposit or 1 for loan"
   ]
  },
  {
   "cell_type": "code",
   "execution_count": null,
   "id": "3546f953",
   "metadata": {},
   "outputs": [],
   "source": []
  }
 ],
 "metadata": {
  "kernelspec": {
   "display_name": "Python 3 (ipykernel)",
   "language": "python",
   "name": "python3"
  },
  "language_info": {
   "codemirror_mode": {
    "name": "ipython",
    "version": 3
   },
   "file_extension": ".py",
   "mimetype": "text/x-python",
   "name": "python",
   "nbconvert_exporter": "python",
   "pygments_lexer": "ipython3",
   "version": "3.10.2"
  }
 },
 "nbformat": 4,
 "nbformat_minor": 5
}
