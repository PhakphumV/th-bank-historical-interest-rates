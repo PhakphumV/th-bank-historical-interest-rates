{
 "cells": [
  {
   "cell_type": "code",
   "execution_count": 3,
   "id": "20fbdbd4",
   "metadata": {},
   "outputs": [],
   "source": [
    "import urllib.parse\n",
    "import requests\n",
    "import pandas as pd\n",
    "import datetime\n",
    "import io\n",
    "import re\n",
    "import progressbar\n",
    "from pythainlp.util.date import thai_strptime"
   ]
  },
  {
   "cell_type": "code",
   "execution_count": null,
   "id": "be23de70",
   "metadata": {},
   "outputs": [],
   "source": [
    "startYear = 1996\n",
    "today = datetime.date.today()\n",
    "currentYear = today.year\n",
    "all_dfs = []"
   ]
  },
  {
   "cell_type": "code",
   "execution_count": null,
   "id": "1ba55892",
   "metadata": {},
   "outputs": [],
   "source": [
    "def buddhistYear(year):\n",
    "    return year+543"
   ]
  },
  {
   "cell_type": "code",
   "execution_count": null,
   "id": "23b6b5da",
   "metadata": {},
   "outputs": [],
   "source": [
    "# dlType = \"interestCSV\" # interestCSV or interestXLS\n",
    "# dateFrom = \"01/1/2565\" # dd/mm/YYYY * Year in Buddhist calendar. Eg. 13/1/2565\n",
    "# dateTo = \"31/12/2565\" # dd/mm/YYYY * Year in Buddhist calendar. Eg. 13/1/2565\n",
    "# bankValue = \"002\" # bankId\n",
    "# bankName = \"กรุงเทพ\" # bankName\n",
    "# rdoTypeStr = \"1\" # 0 for deposit or 1 for loan\n",
    "\n",
    "def getBOT_URL(dateFrom,dateTo,bankValue,bankName,rdoTypeStr):\n",
    "    payload = {\n",
    "        \"dlType\" : dlType,\n",
    "        \"dateFrom\" : dateFrom,\n",
    "        \"dateTo\" : dateTo,\n",
    "        \"bankValue\" : bankValue,\n",
    "        \"bankName\" : bankName,\n",
    "        \"rdoTypeStr\" : rdoTypeStr\n",
    "    }\n",
    "    url = \"https://www.bot.or.th/thai/statistics/_layouts/application/interest_rate/DownloadFile.aspx?\"    \n",
    "    return url+urllib.parse.urlencode(payload)"
   ]
  },
  {
   "cell_type": "code",
   "execution_count": null,
   "id": "7e336a1c",
   "metadata": {},
   "outputs": [],
   "source": [
    "bank_df = pd.read_csv(\"bank.csv\",header=0,names=[\"bankValue\",\"bankName\"],dtype={\"bankValue\":str,\"bankName\":str})"
   ]
  },
  {
   "cell_type": "code",
   "execution_count": null,
   "id": "18e50368",
   "metadata": {},
   "outputs": [],
   "source": [
    "# overallBar = progressbar.ProgressBar()"
   ]
  },
  {
   "cell_type": "code",
   "execution_count": null,
   "id": "a816b946",
   "metadata": {},
   "outputs": [],
   "source": [
    "for index,row in bank_df.iterrows():\n",
    "    bankValue = row.bankValue\n",
    "    bankName = row.bankName\n",
    "    bankBar = progressbar.ProgressBar()\n",
    "    print(\"Bank : {}\".format(bankName))\n",
    "    for year in bankBar(range(startYear,currentYear+1)):\n",
    "        dateFrom = \"01/01/{}\".format(buddhistYear(year))\n",
    "        dateTo = \"31/12/{}\".format(buddhistYear(year))\n",
    "\n",
    "        if(year==startYear):\n",
    "            dateFrom=\"31/01/{}\".format(buddhistYear(year))\n",
    "        elif(year==currentYear):\n",
    "            date = today.day\n",
    "            month = today.month\n",
    "            dateTo = \"{}/{}/{}\".format(date,month,buddhistYear(year))\n",
    "\n",
    "        dlType = \"interestCSV\"\n",
    "        rdoTypeStr = \"1\" \n",
    "\n",
    "        url = getBOT_URL(dateFrom,dateTo,bankValue,bankName,rdoTypeStr)\n",
    "        res = requests.get(url)\n",
    "        if(re.search(\"ไม่พบข้อมูลสำหรับสร้างไฟล์\",res.text)):\n",
    "            print(\"Skip {} for year {}\".format(bankName,year))\n",
    "        else:\n",
    "            df = pd.read_csv(io.StringIO(res.text),sep=\"|\",encoding=\"iso8859_11\",skiprows=[0,1])\n",
    "            df[\"bank\"] = bankName\n",
    "            all_dfs.append(df)"
   ]
  },
  {
   "cell_type": "code",
   "execution_count": null,
   "id": "18486fc6",
   "metadata": {},
   "outputs": [],
   "source": [
    "consolidated_df = pd.concat(all_dfs)"
   ]
  },
  {
   "cell_type": "code",
   "execution_count": null,
   "id": "3546f953",
   "metadata": {},
   "outputs": [],
   "source": [
    "# print(consolidated_df)"
   ]
  },
  {
   "cell_type": "code",
   "execution_count": 30,
   "id": "4584c30a",
   "metadata": {},
   "outputs": [],
   "source": [
    "consolidated_df.to_csv(\"./output/loan-interest-rates.csv\",index=False)"
   ]
  },
  {
   "cell_type": "code",
   "execution_count": 6,
   "id": "cc231bb5",
   "metadata": {},
   "outputs": [],
   "source": [
    "consolidated_df = pd.read_csv(\"./output/loan-interest-rates.csv\",index_col=False)"
   ]
  },
  {
   "cell_type": "code",
   "execution_count": 28,
   "id": "3e00f92b",
   "metadata": {
    "scrolled": true
   },
   "outputs": [
    {
     "name": "stdout",
     "output_type": "stream",
     "text": [
      "        Unnamed: 0         วันที่     MOR    MLR    MRR  สูงสุด  ผิดนัด  \\\n",
      "0                0   31 ม.ค. 2539  14.000  13.75  14.25   16.25    18.0   \n",
      "1                1   29 ก.พ. 2539  14.000  13.75  14.25   16.25    18.0   \n",
      "2                2  31 มี.ค. 2539  13.750  13.75  14.25   16.25    18.0   \n",
      "3                3  30 เม.ย. 2539  13.750  13.75  14.25   16.25    18.0   \n",
      "4                4   31 พ.ค. 2539  13.750  13.75  13.75   15.75    18.0   \n",
      "...            ...            ...     ...    ...    ...     ...     ...   \n",
      "292536           3   06 ม.ค. 2566   6.875   6.00    NaN   15.00    15.0   \n",
      "292537           4   09 ม.ค. 2566   6.875   6.00    NaN   15.00    15.0   \n",
      "292538           5   10 ม.ค. 2566   6.875   6.00    NaN   15.00    15.0   \n",
      "292539           6   11 ม.ค. 2566   6.875   6.00    NaN   15.00    15.0   \n",
      "292540           7   12 ม.ค. 2566   6.875   6.00    NaN   15.00    15.0   \n",
      "\n",
      "       บัตรเครดิต                           bank                      date  \n",
      "0               -                        กรุงไทย 1996-01-31 00:00:00+07:00  \n",
      "1               -                        กรุงไทย                       NaT  \n",
      "2               -                        กรุงไทย 1996-03-31 00:00:00+07:00  \n",
      "3               -                        กรุงไทย 1996-04-30 00:00:00+07:00  \n",
      "4               -                        กรุงไทย 1996-05-31 00:00:00+07:00  \n",
      "...           ...                            ...                       ...  \n",
      "292536          -  ซูมิโตโม มิตซุย ทรัสต์  (ไทย) 2023-01-06 00:00:00+07:00  \n",
      "292537          -  ซูมิโตโม มิตซุย ทรัสต์  (ไทย) 2023-01-09 00:00:00+07:00  \n",
      "292538          -  ซูมิโตโม มิตซุย ทรัสต์  (ไทย) 2023-01-10 00:00:00+07:00  \n",
      "292539          -  ซูมิโตโม มิตซุย ทรัสต์  (ไทย) 2023-01-11 00:00:00+07:00  \n",
      "292540          -  ซูมิโตโม มิตซุย ทรัสต์  (ไทย) 2023-01-12 00:00:00+07:00  \n",
      "\n",
      "[292541 rows x 10 columns]\n"
     ]
    }
   ],
   "source": [
    "print(consolidated_df)"
   ]
  },
  {
   "cell_type": "code",
   "execution_count": 26,
   "id": "e28b809f",
   "metadata": {},
   "outputs": [],
   "source": [
    "def convert_date(txt):\n",
    "    try:\n",
    "        return thai_strptime(txt,'%d %B %Y')\n",
    "    except:\n",
    "        return ''"
   ]
  },
  {
   "cell_type": "code",
   "execution_count": 27,
   "id": "fecd43e4",
   "metadata": {},
   "outputs": [
    {
     "name": "stderr",
     "output_type": "stream",
     "text": [
      "/tmp/ipykernel_75511/2239779024.py:1: FutureWarning: Inferring datetime64[ns, Asia/Bangkok] from data containing strings is deprecated and will be removed in a future version. To retain the old behavior explicitly pass Series(data, dtype=datetime64[ns, Asia/Bangkok])\n",
      "  consolidated_df['date'] = consolidated_df['วันที่'].apply(convert_date)\n"
     ]
    }
   ],
   "source": [
    "consolidated_df['date'] = consolidated_df['วันที่'].apply(convert_date)"
   ]
  },
  {
   "cell_type": "code",
   "execution_count": 31,
   "id": "70089d0a",
   "metadata": {},
   "outputs": [
    {
     "ename": "IndexError",
     "evalue": "list index out of range",
     "output_type": "error",
     "traceback": [
      "\u001b[0;31m---------------------------------------------------------------------------\u001b[0m",
      "\u001b[0;31mIndexError\u001b[0m                                Traceback (most recent call last)",
      "Cell \u001b[0;32mIn[31], line 1\u001b[0m\n\u001b[0;32m----> 1\u001b[0m \u001b[43mthai_strptime\u001b[49m\u001b[43m(\u001b[49m\u001b[38;5;124;43m\"\u001b[39;49m\u001b[38;5;124;43m29 ก.พ. 2539\u001b[39;49m\u001b[38;5;124;43m\"\u001b[39;49m\u001b[43m,\u001b[49m\u001b[38;5;124;43m\"\u001b[39;49m\u001b[38;5;132;43;01m%d\u001b[39;49;00m\u001b[38;5;124;43m \u001b[39;49m\u001b[38;5;124;43m%\u001b[39;49m\u001b[38;5;124;43mB \u001b[39;49m\u001b[38;5;124;43m%\u001b[39;49m\u001b[38;5;124;43mY\u001b[39;49m\u001b[38;5;124;43m\"\u001b[39;49m\u001b[43m)\u001b[49m\n",
      "File \u001b[0;32m~/Projects/2023/Q1-finsurgent/th-bank-historical-interest-rates/venv/lib/python3.10/site-packages/pythainlp/util/date.py:256\u001b[0m, in \u001b[0;36mthai_strptime\u001b[0;34m(text, fmt, year, add_year, tzinfo)\u001b[0m\n\u001b[1;32m    254\u001b[0m     fmt \u001b[38;5;241m=\u001b[39m fmt\u001b[38;5;241m.\u001b[39mreplace(\u001b[38;5;124m\"\u001b[39m\u001b[38;5;124m%\u001b[39m\u001b[38;5;124mB\u001b[39m\u001b[38;5;124m\"\u001b[39m, thai_full_month_lists_regex)\n\u001b[1;32m    255\u001b[0m \u001b[38;5;28;01mif\u001b[39;00m \u001b[38;5;124m\"\u001b[39m\u001b[38;5;124m%\u001b[39m\u001b[38;5;124mY\u001b[39m\u001b[38;5;124m\"\u001b[39m \u001b[38;5;129;01min\u001b[39;00m fmt:\n\u001b[0;32m--> 256\u001b[0m     fmt \u001b[38;5;241m=\u001b[39m fmt\u001b[38;5;241m.\u001b[39mreplace(\u001b[38;5;124m\"\u001b[39m\u001b[38;5;124m%\u001b[39m\u001b[38;5;124mY\u001b[39m\u001b[38;5;124m\"\u001b[39m, year_all_regex)\n\u001b[1;32m    257\u001b[0m \u001b[38;5;28;01mif\u001b[39;00m \u001b[38;5;124m\"\u001b[39m\u001b[38;5;124m%\u001b[39m\u001b[38;5;124mH\u001b[39m\u001b[38;5;124m\"\u001b[39m \u001b[38;5;129;01min\u001b[39;00m fmt:\n\u001b[1;32m    258\u001b[0m     fmt \u001b[38;5;241m=\u001b[39m fmt\u001b[38;5;241m.\u001b[39mreplace(\u001b[38;5;124m\"\u001b[39m\u001b[38;5;124m%\u001b[39m\u001b[38;5;124mH\u001b[39m\u001b[38;5;124m\"\u001b[39m, \u001b[38;5;124mr\u001b[39m\u001b[38;5;124m\"\u001b[39m\u001b[38;5;124m(\u001b[39m\u001b[38;5;124m\\\u001b[39m\u001b[38;5;124md\u001b[39m\u001b[38;5;124m\\\u001b[39m\u001b[38;5;124md|\u001b[39m\u001b[38;5;124m\\\u001b[39m\u001b[38;5;124md)\u001b[39m\u001b[38;5;124m\"\u001b[39m)\n",
      "\u001b[0;31mIndexError\u001b[0m: list index out of range"
     ]
    }
   ],
   "source": [
    "thai_strptime(\"29 ก.พ. 2539\",\"%d %B %Y\")"
   ]
  },
  {
   "cell_type": "code",
   "execution_count": null,
   "id": "4b500889",
   "metadata": {},
   "outputs": [],
   "source": []
  }
 ],
 "metadata": {
  "kernelspec": {
   "display_name": "Python 3 (ipykernel)",
   "language": "python",
   "name": "python3"
  },
  "language_info": {
   "codemirror_mode": {
    "name": "ipython",
    "version": 3
   },
   "file_extension": ".py",
   "mimetype": "text/x-python",
   "name": "python",
   "nbconvert_exporter": "python",
   "pygments_lexer": "ipython3",
   "version": "3.10.6"
  },
  "vscode": {
   "interpreter": {
    "hash": "c8854027efda5f33bfc7bd9b0296086f9c5bc1581bf19ec0642c6fb37b77ba8f"
   }
  }
 },
 "nbformat": 4,
 "nbformat_minor": 5
}
