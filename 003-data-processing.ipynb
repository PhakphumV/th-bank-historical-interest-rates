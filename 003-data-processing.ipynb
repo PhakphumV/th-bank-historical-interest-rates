{
 "cells": [
  {
   "cell_type": "code",
   "execution_count": 1,
   "id": "99ad819b",
   "metadata": {},
   "outputs": [],
   "source": [
    "import pandas as pd\n",
    "from datetime import datetime\n",
    "import seaborn as sns\n",
    "import matplotlib"
   ]
  },
  {
   "cell_type": "code",
   "execution_count": 2,
   "id": "4e14f58f",
   "metadata": {},
   "outputs": [],
   "source": [
    "loan_df = pd.read_csv(\"./output/loan-interest-rates_EN.csv\",index_col=False)\n",
    "deposit_df = pd.read_csv(\"./output/deposit-interest-rates_EN.csv\",index_col=False)"
   ]
  },
  {
   "cell_type": "code",
   "execution_count": 5,
   "id": "ebf01980",
   "metadata": {},
   "outputs": [],
   "source": [
    "def convert_date(txt):\n",
    "    return datetime.strptime(txt,\"%d %b %Y\")"
   ]
  },
  {
   "cell_type": "code",
   "execution_count": 6,
   "id": "34a34115",
   "metadata": {},
   "outputs": [],
   "source": [
    "loan_df['datetime'] = loan_df['Date'].apply(convert_date)"
   ]
  },
  {
   "cell_type": "code",
   "execution_count": 21,
   "id": "2e4c8f76",
   "metadata": {},
   "outputs": [],
   "source": [
    "mor_df = loan_df[['datetime','MOR','bank']].astype({\"bank\":\"string\"}).dropna()"
   ]
  },
  {
   "cell_type": "code",
   "execution_count": 22,
   "id": "22c05320",
   "metadata": {
    "scrolled": false
   },
   "outputs": [
    {
     "name": "stdout",
     "output_type": "stream",
     "text": [
      "         datetime     MOR                                bank\n",
      "0      1996-01-31  14.000                     Krung Thai Bank\n",
      "1      1996-02-29  14.000                     Krung Thai Bank\n",
      "2      1996-03-31  13.750                     Krung Thai Bank\n",
      "3      1996-04-30  13.750                     Krung Thai Bank\n",
      "4      1996-05-31  13.750                     Krung Thai Bank\n",
      "...           ...     ...                                 ...\n",
      "288863 2023-01-24   6.875  Sumitomo Mitsui Trust Bank (Thai) \n",
      "288864 2023-01-25   6.875  Sumitomo Mitsui Trust Bank (Thai) \n",
      "288865 2023-01-26   6.875  Sumitomo Mitsui Trust Bank (Thai) \n",
      "288866 2023-01-27   6.875  Sumitomo Mitsui Trust Bank (Thai) \n",
      "288867 2023-01-30   6.875  Sumitomo Mitsui Trust Bank (Thai) \n",
      "\n",
      "[277955 rows x 3 columns]\n"
     ]
    }
   ],
   "source": [
    "print(mor_df)"
   ]
  },
  {
   "cell_type": "code",
   "execution_count": 23,
   "id": "71d14f96",
   "metadata": {
    "scrolled": true
   },
   "outputs": [
    {
     "name": "stdout",
     "output_type": "stream",
     "text": [
      "datetime    datetime64[ns]\n",
      "MOR                float64\n",
      "bank                string\n",
      "dtype: object\n"
     ]
    }
   ],
   "source": [
    "print(mor_df.dtypes)"
   ]
  },
  {
   "cell_type": "code",
   "execution_count": 24,
   "id": "84a4b57f",
   "metadata": {},
   "outputs": [
    {
     "name": "stdout",
     "output_type": "stream",
     "text": [
      "Empty DataFrame\n",
      "Columns: [datetime, MOR, bank]\n",
      "Index: []\n"
     ]
    }
   ],
   "source": [
    "print(mor_df[mor_df[\"MOR\"].isnull()])"
   ]
  },
  {
   "cell_type": "code",
   "execution_count": null,
   "id": "dab8c27a",
   "metadata": {},
   "outputs": [],
   "source": [
    "sns.relplot(\n",
    "    data=mor_df, kind=\"line\",\n",
    "    x=\"datetime\", y=\"MOR\", col=\"bank\",\n",
    ")\n"
   ]
  },
  {
   "cell_type": "code",
   "execution_count": null,
   "id": "19e4385c",
   "metadata": {},
   "outputs": [],
   "source": []
  }
 ],
 "metadata": {
  "kernelspec": {
   "display_name": "Python 3 (ipykernel)",
   "language": "python",
   "name": "python3"
  },
  "language_info": {
   "codemirror_mode": {
    "name": "ipython",
    "version": 3
   },
   "file_extension": ".py",
   "mimetype": "text/x-python",
   "name": "python",
   "nbconvert_exporter": "python",
   "pygments_lexer": "ipython3",
   "version": "3.10.6"
  }
 },
 "nbformat": 4,
 "nbformat_minor": 5
}
