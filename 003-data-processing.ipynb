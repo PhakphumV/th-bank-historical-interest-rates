{
 "cells": [
  {
   "cell_type": "code",
   "execution_count": 9,
   "id": "99ad819b",
   "metadata": {},
   "outputs": [],
   "source": [
    "import pandas as pd\n",
    "import datetime\n",
    "from pythainlp.util.date import thai_strptime\n",
    "import seaborn as sns\n",
    "import matplotlib"
   ]
  },
  {
   "cell_type": "code",
   "execution_count": 10,
   "id": "4e14f58f",
   "metadata": {},
   "outputs": [],
   "source": [
    "loan_df = pd.read_csv(\"./output/loan-interest-rates_EN.csv\",index_col=False)\n",
    "deposit_df = pd.read_csv(\"./output/deposit-interest-rates_EN.csv\",index_col=False)"
   ]
  },
  {
   "cell_type": "code",
   "execution_count": null,
   "id": "55699258",
   "metadata": {},
   "outputs": [],
   "source": [
    "def convert_date(txt):\n",
    "    return thai_strptime(txt,'%d %B %Y')"
   ]
  },
  {
   "cell_type": "code",
   "execution_count": null,
   "id": "08921624",
   "metadata": {},
   "outputs": [],
   "source": [
    "# loan_df['date'] = loan_df['วันที่'].apply(convert_date)\n",
    "# deposit_df['date'] = deposit_df['วันที่'].apply(convert_date)"
   ]
  },
  {
   "cell_type": "code",
   "execution_count": null,
   "id": "dab8c27a",
   "metadata": {},
   "outputs": [],
   "source": [
    "sns.relplot(\n",
    "    data=loan_df, kind=\"line\",\n",
    "    x=\"Date\", y=\"MOR\", col=\"bank\",\n",
    ")\n"
   ]
  },
  {
   "cell_type": "code",
   "execution_count": null,
   "id": "19e4385c",
   "metadata": {},
   "outputs": [],
   "source": []
  }
 ],
 "metadata": {
  "kernelspec": {
   "display_name": "Python 3 (ipykernel)",
   "language": "python",
   "name": "python3"
  },
  "language_info": {
   "codemirror_mode": {
    "name": "ipython",
    "version": 3
   },
   "file_extension": ".py",
   "mimetype": "text/x-python",
   "name": "python",
   "nbconvert_exporter": "python",
   "pygments_lexer": "ipython3",
   "version": "3.10.6"
  }
 },
 "nbformat": 4,
 "nbformat_minor": 5
}
