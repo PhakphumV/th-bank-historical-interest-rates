{
 "cells": [
  {
   "cell_type": "code",
   "execution_count": null,
   "id": "99ad819b",
   "metadata": {},
   "outputs": [],
   "source": [
    "import pandas as pd\n",
    "from datetime import datetime\n",
    "import seaborn as sns\n",
    "import matplotlib.pyplot as plt"
   ]
  },
  {
   "cell_type": "code",
   "execution_count": null,
   "id": "4e14f58f",
   "metadata": {},
   "outputs": [],
   "source": [
    "loan_df = pd.read_csv(\"./output/loan-interest-rates_EN.csv\",index_col=False)\n",
    "deposit_df = pd.read_csv(\"./output/deposit-interest-rates_EN.csv\",index_col=False)"
   ]
  },
  {
   "cell_type": "code",
   "execution_count": null,
   "id": "fa287c70",
   "metadata": {},
   "outputs": [],
   "source": [
    "filtered_banks = [\n",
    "    'Kasikornbank',\n",
    "    'Krung Thai Bank',\n",
    "    'The Siam Commercial Bank',\n",
    "    'TMBThanachart Bank Public Company Limited',\n",
    "    'Bangkok Metropolitan Bank',\n",
    "    'Thanachart Bank',\n",
    "    'Land and Houses  Bank',\n",
    "    'Kiatnakin Bank',\n",
    "    'Bank of Ayudhya',\n",
    "    'TISCO Bank',\n",
    "]"
   ]
  },
  {
   "cell_type": "code",
   "execution_count": null,
   "id": "b78aa26b",
   "metadata": {},
   "outputs": [],
   "source": [
    "def convert_date(txt):\n",
    "    return datetime.strptime(txt,\"%d %b %Y\")"
   ]
  },
  {
   "cell_type": "code",
   "execution_count": null,
   "id": "c2a4fa06",
   "metadata": {},
   "outputs": [],
   "source": [
    "loan_df['datetime'] = loan_df['Date'].apply(convert_date)"
   ]
  },
  {
   "cell_type": "code",
   "execution_count": null,
   "id": "abfec080",
   "metadata": {},
   "outputs": [],
   "source": [
    "mor_df = loan_df[['datetime','MOR','bank']].astype({\"bank\":\"string\"}).dropna()"
   ]
  },
  {
   "cell_type": "code",
   "execution_count": null,
   "id": "e2507ea9",
   "metadata": {},
   "outputs": [],
   "source": [
    "mor_df_average = mor_df[['datetime','MOR']].groupby(['datetime']).agg('mean').reset_index()"
   ]
  },
  {
   "cell_type": "code",
   "execution_count": null,
   "id": "602e871c",
   "metadata": {},
   "outputs": [],
   "source": [
    "plt.figure(figsize=(16, 9))\n",
    "ax = sns.relplot(\n",
    "    data=mor_df_average, kind=\"line\",\n",
    "    x=\"datetime\", y=\"MOR\",\n",
    "    height=9,aspect=1.77\n",
    ")\n",
    "ax.tick_params(axis='both',which='both',reset=True,grid_alpha=1,grid_linewidth=1)\n",
    "plt.savefig(\"loan-interest-rate-mor-average.png\")"
   ]
  },
  {
   "cell_type": "code",
   "execution_count": null,
   "id": "b07fd237",
   "metadata": {},
   "outputs": [],
   "source": [
    "mor_df_filterd = mor_df[mor_df['bank'].isin(filtered_banks)]"
   ]
  },
  {
   "cell_type": "code",
   "execution_count": null,
   "id": "dab8c27a",
   "metadata": {},
   "outputs": [],
   "source": [
    "plt.figure(figsize=(16, 9))\n",
    "ax = sns.relplot(\n",
    "    data=mor_df_filterd, kind=\"line\",\n",
    "    x=\"datetime\", y=\"MOR\", hue=\"bank\",style=\"bank\",\n",
    "    legend='brief',height=9,aspect=1.77\n",
    ")\n",
    "sns.move_legend(ax, \"upper center\",\n",
    "    bbox_to_anchor=(.5, 1), ncol=3, title=None, frameon=False)\n",
    "ax.tick_params(axis='both',which='both',reset=True,grid_alpha=1,grid_linewidth=1)\n",
    "plt.savefig(\"loan-interest-rate-mor-per-banks.png\")"
   ]
  },
  {
   "cell_type": "code",
   "execution_count": null,
   "id": "19e4385c",
   "metadata": {},
   "outputs": [],
   "source": [
    "mlr_df = loan_df[['datetime','MLR','bank']].astype({\"MLR\":\"float\",\"bank\":\"string\"}).dropna()"
   ]
  },
  {
   "cell_type": "code",
   "execution_count": null,
   "id": "c6849556",
   "metadata": {},
   "outputs": [],
   "source": [
    "mlr_df_average = mlr_df[['datetime','MLR']].groupby(['datetime']).agg('mean').reset_index()"
   ]
  },
  {
   "cell_type": "code",
   "execution_count": null,
   "id": "f53c64a4",
   "metadata": {},
   "outputs": [],
   "source": [
    "plt.figure(figsize=(16, 9))\n",
    "ax = sns.relplot(\n",
    "    data=mlr_df_average, kind=\"line\",\n",
    "    x=\"datetime\", y=\"MLR\",\n",
    "    height=9,aspect=1.77\n",
    ")\n",
    "ax.tick_params(axis='both',which='both',reset=True,grid_alpha=1,grid_linewidth=1)\n",
    "plt.savefig(\"loan-interest-rate-mlr-average.png\")"
   ]
  },
  {
   "cell_type": "code",
   "execution_count": null,
   "id": "19de5199",
   "metadata": {},
   "outputs": [],
   "source": [
    "mlr_df_filterd = mlr_df[mlr_df['bank'].isin(filtered_banks)]"
   ]
  },
  {
   "cell_type": "code",
   "execution_count": null,
   "id": "f0c08ab9",
   "metadata": {},
   "outputs": [],
   "source": [
    "plt.figure(figsize=(16, 9))\n",
    "ax = sns.relplot(\n",
    "    data=mlr_df_filterd, kind=\"line\",\n",
    "    x=\"datetime\", y=\"MLR\", hue=\"bank\",style=\"bank\",\n",
    "    legend='brief', height=9,aspect=1.77\n",
    ")\n",
    "sns.move_legend(ax, \"upper center\",\n",
    "    bbox_to_anchor=(.5, 1), ncol=3, title=None, frameon=False)\n",
    "ax.tick_params(axis='both',which='both',reset=True,grid_alpha=1,grid_linewidth=1)\n",
    "plt.savefig(\"loan-interest-rate-mlr-per-banks.png\")"
   ]
  },
  {
   "cell_type": "code",
   "execution_count": null,
   "id": "1553b9ac",
   "metadata": {},
   "outputs": [],
   "source": []
  },
  {
   "cell_type": "code",
   "execution_count": null,
   "id": "6380138a",
   "metadata": {},
   "outputs": [],
   "source": []
  }
 ],
 "metadata": {
  "kernelspec": {
   "display_name": "Python 3 (ipykernel)",
   "language": "python",
   "name": "python3"
  },
  "language_info": {
   "codemirror_mode": {
    "name": "ipython",
    "version": 3
   },
   "file_extension": ".py",
   "mimetype": "text/x-python",
   "name": "python",
   "nbconvert_exporter": "python",
   "pygments_lexer": "ipython3",
   "version": "3.10.6"
  }
 },
 "nbformat": 4,
 "nbformat_minor": 5
}
