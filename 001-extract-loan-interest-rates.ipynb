{
 "cells": [
  {
   "cell_type": "code",
   "execution_count": null,
   "id": "20fbdbd4",
   "metadata": {},
   "outputs": [],
   "source": [
    "import urllib.parse\n",
    "import requests\n",
    "import pandas as pd\n",
    "import datetime\n",
    "import io\n",
    "import re\n",
    "import progressbar"
   ]
  },
  {
   "cell_type": "code",
   "execution_count": null,
   "id": "be23de70",
   "metadata": {},
   "outputs": [],
   "source": [
    "startYear = 1996\n",
    "today = datetime.date.today()\n",
    "currentYear = today.year\n",
    "all_dfs = []"
   ]
  },
  {
   "cell_type": "code",
   "execution_count": null,
   "id": "1ba55892",
   "metadata": {},
   "outputs": [],
   "source": [
    "# def buddhistYear(year):\n",
    "#     return year+543"
   ]
  },
  {
   "cell_type": "code",
   "execution_count": null,
   "id": "23b6b5da",
   "metadata": {},
   "outputs": [],
   "source": [
    "# dlType = \"interestCSV\" # interestCSV or interestXLS\n",
    "# dateFrom = \"01/1/2565\" # dd/mm/YYYY * Year in Buddhist calendar. Eg. 13/1/2565\n",
    "# dateTo = \"31/12/2565\" # dd/mm/YYYY * Year in Buddhist calendar. Eg. 13/1/2565\n",
    "# bankValue = \"002\" # bankId\n",
    "# bankName = \"กรุงเทพ\" # bankName\n",
    "# rdoTypeStr = \"1\" # 0 for deposit or 1 for loan\n",
    "\n",
    "def getBOT_URL(dateFrom,dateTo,bankValue,bankName,rdoTypeStr):\n",
    "    payload = {\n",
    "        \"dlType\" : dlType,\n",
    "        \"dateFrom\" : dateFrom,\n",
    "        \"dateTo\" : dateTo,\n",
    "        \"bankValue\" : bankValue,\n",
    "        \"bankName\" : bankName,\n",
    "        \"rdoTypeStr\" : rdoTypeStr\n",
    "    }\n",
    "    # url = \"https://www.bot.or.th/thai/statistics/_layouts/application/interest_rate/DownloadFile.aspx?\"    \n",
    "    url = \"https://www.bot.or.th/english/statistics/_layouts/application/interest_rate/DownloadFile.aspx?\"\n",
    "    return url+urllib.parse.urlencode(payload)"
   ]
  },
  {
   "cell_type": "code",
   "execution_count": null,
   "id": "7e336a1c",
   "metadata": {},
   "outputs": [],
   "source": [
    "bank_df = pd.read_csv(\"bank_en.csv\",sep=\";\",header=0,names=[\"bankValue\",\"bankName\"],dtype={\"bankValue\":str,\"bankName\":str})"
   ]
  },
  {
   "cell_type": "code",
   "execution_count": null,
   "id": "a816b946",
   "metadata": {},
   "outputs": [],
   "source": [
    "for index,row in bank_df.iterrows():\n",
    "    bankValue = row.bankValue\n",
    "    bankName = row.bankName\n",
    "    bankBar = progressbar.ProgressBar()\n",
    "    print(\"Bank : {}\".format(bankName))\n",
    "    for year in bankBar(range(startYear,currentYear+1)):\n",
    "        dateFrom = \"01/01/{}\".format(year)\n",
    "        dateTo = \"31/12/{}\".format(year)\n",
    "\n",
    "        if(year==startYear):\n",
    "            dateFrom=\"31/01/{}\".format(year)\n",
    "        elif(year==currentYear):\n",
    "            date = today.day\n",
    "            month = today.month\n",
    "            dateTo = \"{}/{}/{}\".format(date,month,year)\n",
    "\n",
    "        dlType = \"interestCSV\"\n",
    "        rdoTypeStr = \"1\" \n",
    "\n",
    "        url = getBOT_URL(dateFrom,dateTo,bankValue,bankName,rdoTypeStr)\n",
    "        res = requests.get(url)\n",
    "        if(re.search(\"The selected date has no data to generate file.\",res.text)):\n",
    "            print(\"Skip {} for year {}\".format(bankName,year))\n",
    "        else:\n",
    "            df = pd.read_csv(io.StringIO(res.text),sep=\"|\",encoding=\"iso8859_11\",skiprows=[0,1])\n",
    "            df[\"bank\"] = bankName\n",
    "            all_dfs.append(df)"
   ]
  },
  {
   "cell_type": "code",
   "execution_count": null,
   "id": "18486fc6",
   "metadata": {},
   "outputs": [],
   "source": [
    "consolidated_df = pd.concat(all_dfs)"
   ]
  },
  {
   "cell_type": "code",
   "execution_count": null,
   "id": "a6f81896",
   "metadata": {},
   "outputs": [],
   "source": [
    "consolidated_df.to_csv(\"./output/loan-interest-rates_EN.csv\",index=False)"
   ]
  },
  {
   "cell_type": "code",
   "execution_count": null,
   "id": "c9dc9d94",
   "metadata": {},
   "outputs": [],
   "source": []
  }
 ],
 "metadata": {
  "kernelspec": {
   "display_name": "Python 3 (ipykernel)",
   "language": "python",
   "name": "python3"
  },
  "language_info": {
   "codemirror_mode": {
    "name": "ipython",
    "version": 3
   },
   "file_extension": ".py",
   "mimetype": "text/x-python",
   "name": "python",
   "nbconvert_exporter": "python",
   "pygments_lexer": "ipython3",
   "version": "3.10.6"
  },
  "vscode": {
   "interpreter": {
    "hash": "c8854027efda5f33bfc7bd9b0296086f9c5bc1581bf19ec0642c6fb37b77ba8f"
   }
  }
 },
 "nbformat": 4,
 "nbformat_minor": 5
}
