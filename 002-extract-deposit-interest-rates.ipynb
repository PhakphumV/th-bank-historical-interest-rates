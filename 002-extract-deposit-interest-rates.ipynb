{
 "cells": [
  {
   "cell_type": "code",
   "execution_count": 1,
   "id": "20fbdbd4",
   "metadata": {},
   "outputs": [],
   "source": [
    "import urllib.parse\n",
    "import requests\n",
    "import pandas as pd\n",
    "import datetime\n",
    "import io\n",
    "import re\n",
    "import progressbar"
   ]
  },
  {
   "cell_type": "code",
   "execution_count": 2,
   "id": "be23de70",
   "metadata": {},
   "outputs": [],
   "source": [
    "startYear = 1996\n",
    "today = datetime.date.today()\n",
    "currentYear = today.year\n",
    "all_dfs = []"
   ]
  },
  {
   "cell_type": "code",
   "execution_count": 3,
   "id": "1ba55892",
   "metadata": {},
   "outputs": [],
   "source": [
    "def buddhistYear(year):\n",
    "    return year+543"
   ]
  },
  {
   "cell_type": "code",
   "execution_count": 4,
   "id": "23b6b5da",
   "metadata": {},
   "outputs": [],
   "source": [
    "# dlType = \"interestCSV\" # interestCSV or interestXLS\n",
    "# dateFrom = \"01/1/2565\" # dd/mm/YYYY * Year in Buddhist calendar. Eg. 13/1/2565\n",
    "# dateTo = \"31/12/2565\" # dd/mm/YYYY * Year in Buddhist calendar. Eg. 13/1/2565\n",
    "# bankValue = \"002\" # bankId\n",
    "# bankName = \"กรุงเทพ\" # bankName\n",
    "# rdoTypeStr = \"1\" # 0 for deposit or 1 for loan\n",
    "\n",
    "def getBOT_URL(dateFrom,dateTo,bankValue,bankName,rdoTypeStr):\n",
    "    payload = {\n",
    "        \"dlType\" : dlType,\n",
    "        \"dateFrom\" : dateFrom,\n",
    "        \"dateTo\" : dateTo,\n",
    "        \"bankValue\" : bankValue,\n",
    "        \"bankName\" : bankName,\n",
    "        \"rdoTypeStr\" : rdoTypeStr\n",
    "    }\n",
    "    # url = \"https://www.bot.or.th/thai/statistics/_layouts/application/interest_rate/DownloadFile.aspx?\"    \n",
    "    url = \"https://www.bot.or.th/english/statistics/_layouts/application/interest_rate/DownloadFile.aspx?\"\n",
    "    return url+urllib.parse.urlencode(payload)"
   ]
  },
  {
   "cell_type": "code",
   "execution_count": 5,
   "id": "7e336a1c",
   "metadata": {},
   "outputs": [],
   "source": [
    "bank_df = pd.read_csv(\"bank_en.csv\",header=0,names=[\"bankValue\",\"bankName\"],dtype={\"bankValue\":str,\"bankName\":str})"
   ]
  },
  {
   "cell_type": "code",
   "execution_count": 6,
   "id": "a816b946",
   "metadata": {},
   "outputs": [
    {
     "name": "stderr",
     "output_type": "stream",
     "text": [
      "\r\n",
      "  0% (0 of 28) |                         | Elapsed Time: 0:00:00 ETA:  --:--:--"
     ]
    },
    {
     "name": "stdout",
     "output_type": "stream",
     "text": [
      "Bank : กรุงไทย\n"
     ]
    },
    {
     "name": "stderr",
     "output_type": "stream",
     "text": [
      "100% (28 of 28) |########################| Elapsed Time: 0:00:17 Time:  0:00:17\n",
      "  0% (0 of 28) |                         | Elapsed Time: 0:00:00 ETA:  --:--:--"
     ]
    },
    {
     "name": "stdout",
     "output_type": "stream",
     "text": [
      "Bank : กสิกรไทย\n"
     ]
    },
    {
     "name": "stderr",
     "output_type": "stream",
     "text": [
      "100% (28 of 28) |########################| Elapsed Time: 0:00:15 Time:  0:00:15\n",
      "  0% (0 of 28) |                         | Elapsed Time: 0:00:00 ETA:  --:--:--"
     ]
    },
    {
     "name": "stdout",
     "output_type": "stream",
     "text": [
      "Bank : ไทยพาณิชย์\n"
     ]
    },
    {
     "name": "stderr",
     "output_type": "stream",
     "text": [
      "100% (28 of 28) |########################| Elapsed Time: 0:00:16 Time:  0:00:16\n",
      "  0% (0 of 28) |                         | Elapsed Time: 0:00:00 ETA:  --:--:--"
     ]
    },
    {
     "name": "stdout",
     "output_type": "stream",
     "text": [
      "Bank : กรุงศรีอยุธยา\n"
     ]
    },
    {
     "name": "stderr",
     "output_type": "stream",
     "text": [
      "100% (28 of 28) |########################| Elapsed Time: 0:00:16 Time:  0:00:16\n",
      "  0% (0 of 28) |                         | Elapsed Time: 0:00:00 ETA:  --:--:--"
     ]
    },
    {
     "name": "stdout",
     "output_type": "stream",
     "text": [
      "Bank : ทหารไทย\n"
     ]
    },
    {
     "name": "stderr",
     "output_type": "stream",
     "text": [
      "100% (28 of 28) |########################| Elapsed Time: 0:00:16 Time:  0:00:16\n",
      "  0% (0 of 28) |                         | Elapsed Time: 0:00:00 ETA:  --:--:--"
     ]
    },
    {
     "name": "stdout",
     "output_type": "stream",
     "text": [
      "Bank : ทหารไทยธนชาต\n"
     ]
    },
    {
     "name": "stderr",
     "output_type": "stream",
     "text": [
      "100% (28 of 28) |########################| Elapsed Time: 0:00:17 Time:  0:00:17\n",
      "  0% (0 of 28) |                         | Elapsed Time: 0:00:00 ETA:  --:--:--"
     ]
    },
    {
     "name": "stdout",
     "output_type": "stream",
     "text": [
      "Bank : นครหลวงไทย\n"
     ]
    },
    {
     "name": "stderr",
     "output_type": "stream",
     "text": [
      " 60% (17 of 28) |##############          | Elapsed Time: 0:00:09 ETA:   0:00:05"
     ]
    },
    {
     "name": "stdout",
     "output_type": "stream",
     "text": [
      "Skip นครหลวงไทย for year 2012\n"
     ]
    },
    {
     "name": "stderr",
     "output_type": "stream",
     "text": [
      "\r\n",
      " 64% (18 of 28) |###############         | Elapsed Time: 0:00:09 ETA:   0:00:04"
     ]
    },
    {
     "name": "stdout",
     "output_type": "stream",
     "text": [
      "Skip นครหลวงไทย for year 2013\n"
     ]
    },
    {
     "name": "stderr",
     "output_type": "stream",
     "text": [
      " 71% (20 of 28) |#################       | Elapsed Time: 0:00:09 ETA:   0:00:02"
     ]
    },
    {
     "name": "stdout",
     "output_type": "stream",
     "text": [
      "Skip นครหลวงไทย for year 2014\n",
      "Skip นครหลวงไทย for year 2015\n"
     ]
    },
    {
     "name": "stderr",
     "output_type": "stream",
     "text": [
      "\r\n",
      " 75% (21 of 28) |##################      | Elapsed Time: 0:00:10 ETA:   0:00:02"
     ]
    },
    {
     "name": "stdout",
     "output_type": "stream",
     "text": [
      "Skip นครหลวงไทย for year 2016\n"
     ]
    },
    {
     "name": "stderr",
     "output_type": "stream",
     "text": [
      "\r\n",
      " 78% (22 of 28) |##################      | Elapsed Time: 0:00:10 ETA:   0:00:01"
     ]
    },
    {
     "name": "stdout",
     "output_type": "stream",
     "text": [
      "Skip นครหลวงไทย for year 2017\n"
     ]
    },
    {
     "name": "stderr",
     "output_type": "stream",
     "text": [
      "\r\n",
      " 82% (23 of 28) |###################     | Elapsed Time: 0:00:10 ETA:   0:00:01"
     ]
    },
    {
     "name": "stdout",
     "output_type": "stream",
     "text": [
      "Skip นครหลวงไทย for year 2018\n"
     ]
    },
    {
     "name": "stderr",
     "output_type": "stream",
     "text": [
      "\r\n",
      " 85% (24 of 28) |####################    | Elapsed Time: 0:00:11 ETA:   0:00:01"
     ]
    },
    {
     "name": "stdout",
     "output_type": "stream",
     "text": [
      "Skip นครหลวงไทย for year 2019\n"
     ]
    },
    {
     "name": "stderr",
     "output_type": "stream",
     "text": [
      "\r\n",
      " 89% (25 of 28) |#####################   | Elapsed Time: 0:00:11 ETA:   0:00:00"
     ]
    },
    {
     "name": "stdout",
     "output_type": "stream",
     "text": [
      "Skip นครหลวงไทย for year 2020\n"
     ]
    },
    {
     "name": "stderr",
     "output_type": "stream",
     "text": [
      "\r\n",
      " 92% (26 of 28) |######################  | Elapsed Time: 0:00:11 ETA:   0:00:00"
     ]
    },
    {
     "name": "stdout",
     "output_type": "stream",
     "text": [
      "Skip นครหลวงไทย for year 2021\n"
     ]
    },
    {
     "name": "stderr",
     "output_type": "stream",
     "text": [
      "\r\n",
      " 96% (27 of 28) |####################### | Elapsed Time: 0:00:12 ETA:   0:00:00"
     ]
    },
    {
     "name": "stdout",
     "output_type": "stream",
     "text": [
      "Skip นครหลวงไทย for year 2022\n"
     ]
    },
    {
     "name": "stderr",
     "output_type": "stream",
     "text": [
      "100% (28 of 28) |########################| Elapsed Time: 0:00:12 Time:  0:00:12\n",
      "  0% (0 of 28) |                         | Elapsed Time: 0:00:00 ETA:  --:--:--"
     ]
    },
    {
     "name": "stdout",
     "output_type": "stream",
     "text": [
      "Skip นครหลวงไทย for year 2023\n",
      "Bank : ศรีนคร\n"
     ]
    },
    {
     "name": "stderr",
     "output_type": "stream",
     "text": [
      " 28% (8 of 28) |#######                  | Elapsed Time: 0:00:03 ETA:   0:00:10"
     ]
    },
    {
     "name": "stdout",
     "output_type": "stream",
     "text": [
      "Skip ศรีนคร for year 2003\n"
     ]
    },
    {
     "name": "stderr",
     "output_type": "stream",
     "text": [
      "\r\n",
      " 32% (9 of 28) |########                 | Elapsed Time: 0:00:04 ETA:   0:00:09"
     ]
    },
    {
     "name": "stdout",
     "output_type": "stream",
     "text": [
      "Skip ศรีนคร for year 2004\n"
     ]
    },
    {
     "name": "stderr",
     "output_type": "stream",
     "text": [
      "\r\n",
      " 35% (10 of 28) |########                | Elapsed Time: 0:00:04 ETA:   0:00:08"
     ]
    },
    {
     "name": "stdout",
     "output_type": "stream",
     "text": [
      "Skip ศรีนคร for year 2005\n"
     ]
    },
    {
     "name": "stderr",
     "output_type": "stream",
     "text": [
      "\r\n",
      " 39% (11 of 28) |#########               | Elapsed Time: 0:00:04 ETA:   0:00:06"
     ]
    },
    {
     "name": "stdout",
     "output_type": "stream",
     "text": [
      "Skip ศรีนคร for year 2006\n"
     ]
    },
    {
     "name": "stderr",
     "output_type": "stream",
     "text": [
      "\r\n",
      " 42% (12 of 28) |##########              | Elapsed Time: 0:00:05 ETA:   0:00:05"
     ]
    },
    {
     "name": "stdout",
     "output_type": "stream",
     "text": [
      "Skip ศรีนคร for year 2007\n"
     ]
    },
    {
     "name": "stderr",
     "output_type": "stream",
     "text": [
      "\r\n",
      " 46% (13 of 28) |###########             | Elapsed Time: 0:00:05 ETA:   0:00:04"
     ]
    },
    {
     "name": "stdout",
     "output_type": "stream",
     "text": [
      "Skip ศรีนคร for year 2008\n"
     ]
    },
    {
     "name": "stderr",
     "output_type": "stream",
     "text": [
      " 53% (15 of 28) |############            | Elapsed Time: 0:00:05 ETA:   0:00:03"
     ]
    },
    {
     "name": "stdout",
     "output_type": "stream",
     "text": [
      "Skip ศรีนคร for year 2009\n",
      "Skip ศรีนคร for year 2010\n"
     ]
    },
    {
     "name": "stderr",
     "output_type": "stream",
     "text": [
      " 60% (17 of 28) |##############          | Elapsed Time: 0:00:06 ETA:   0:00:02"
     ]
    },
    {
     "name": "stdout",
     "output_type": "stream",
     "text": [
      "Skip ศรีนคร for year 2011\n",
      "Skip ศรีนคร for year 2012\n"
     ]
    },
    {
     "name": "stderr",
     "output_type": "stream",
     "text": [
      " 67% (19 of 28) |################        | Elapsed Time: 0:00:06 ETA:   0:00:02"
     ]
    },
    {
     "name": "stdout",
     "output_type": "stream",
     "text": [
      "Skip ศรีนคร for year 2013\n",
      "Skip ศรีนคร for year 2014\n"
     ]
    },
    {
     "name": "stderr",
     "output_type": "stream",
     "text": [
      "\r\n",
      " 71% (20 of 28) |#################       | Elapsed Time: 0:00:06 ETA:   0:00:01"
     ]
    },
    {
     "name": "stdout",
     "output_type": "stream",
     "text": [
      "Skip ศรีนคร for year 2015\n"
     ]
    },
    {
     "name": "stderr",
     "output_type": "stream",
     "text": [
      "\r\n",
      " 75% (21 of 28) |##################      | Elapsed Time: 0:00:07 ETA:   0:00:01"
     ]
    },
    {
     "name": "stdout",
     "output_type": "stream",
     "text": [
      "Skip ศรีนคร for year 2016\n"
     ]
    },
    {
     "name": "stderr",
     "output_type": "stream",
     "text": [
      "\r\n",
      " 78% (22 of 28) |##################      | Elapsed Time: 0:00:07 ETA:   0:00:01"
     ]
    },
    {
     "name": "stdout",
     "output_type": "stream",
     "text": [
      "Skip ศรีนคร for year 2017\n"
     ]
    },
    {
     "name": "stderr",
     "output_type": "stream",
     "text": [
      "\r\n",
      " 82% (23 of 28) |###################     | Elapsed Time: 0:00:07 ETA:   0:00:01"
     ]
    },
    {
     "name": "stdout",
     "output_type": "stream",
     "text": [
      "Skip ศรีนคร for year 2018\n"
     ]
    },
    {
     "name": "stderr",
     "output_type": "stream",
     "text": [
      "\r\n",
      " 85% (24 of 28) |####################    | Elapsed Time: 0:00:07 ETA:   0:00:00"
     ]
    },
    {
     "name": "stdout",
     "output_type": "stream",
     "text": [
      "Skip ศรีนคร for year 2019\n"
     ]
    },
    {
     "name": "stderr",
     "output_type": "stream",
     "text": [
      "\r\n",
      " 89% (25 of 28) |#####################   | Elapsed Time: 0:00:08 ETA:   0:00:00"
     ]
    },
    {
     "name": "stdout",
     "output_type": "stream",
     "text": [
      "Skip ศรีนคร for year 2020\n"
     ]
    },
    {
     "name": "stderr",
     "output_type": "stream",
     "text": [
      "\r\n",
      " 92% (26 of 28) |######################  | Elapsed Time: 0:00:08 ETA:   0:00:00"
     ]
    },
    {
     "name": "stdout",
     "output_type": "stream",
     "text": [
      "Skip ศรีนคร for year 2021\n"
     ]
    },
    {
     "name": "stderr",
     "output_type": "stream",
     "text": [
      "\r\n",
      " 96% (27 of 28) |####################### | Elapsed Time: 0:00:08 ETA:   0:00:00"
     ]
    },
    {
     "name": "stdout",
     "output_type": "stream",
     "text": [
      "Skip ศรีนคร for year 2022\n"
     ]
    },
    {
     "name": "stderr",
     "output_type": "stream",
     "text": [
      "100% (28 of 28) |########################| Elapsed Time: 0:00:09 Time:  0:00:09\n",
      "  0% (0 of 28) |                         | Elapsed Time: 0:00:00 ETA:  --:--:--"
     ]
    },
    {
     "name": "stdout",
     "output_type": "stream",
     "text": [
      "Skip ศรีนคร for year 2023\n",
      "Bank : ยูไนเต็ด โอเวอร์ซีส์ (ไทย)\n"
     ]
    },
    {
     "name": "stderr",
     "output_type": "stream",
     "text": [
      "100% (28 of 28) |########################| Elapsed Time: 0:00:18 Time:  0:00:18\n",
      "  0% (0 of 28) |                         | Elapsed Time: 0:00:00 ETA:  --:--:--"
     ]
    },
    {
     "name": "stdout",
     "output_type": "stream",
     "text": [
      "Bank : ยูโอบี\n"
     ]
    },
    {
     "name": "stderr",
     "output_type": "stream",
     "text": [
      "100% (28 of 28) |########################| Elapsed Time: 0:00:17 Time:  0:00:17\n",
      "  0% (0 of 28) |                         | Elapsed Time: 0:00:00 ETA:  --:--:--"
     ]
    },
    {
     "name": "stdout",
     "output_type": "stream",
     "text": [
      "Bank : เอเชีย\n"
     ]
    },
    {
     "name": "stderr",
     "output_type": "stream",
     "text": [
      "100% (28 of 28) |########################| Elapsed Time: 0:00:17 Time:  0:00:17\n",
      "  0% (0 of 28) |                         | Elapsed Time: 0:00:00 ETA:  --:--:--"
     ]
    },
    {
     "name": "stdout",
     "output_type": "stream",
     "text": [
      "Bank : ซีไอเอ็มบี ไทย\n"
     ]
    },
    {
     "name": "stderr",
     "output_type": "stream",
     "text": [
      "100% (28 of 28) |########################| Elapsed Time: 0:00:17 Time:  0:00:17\n",
      "  0% (0 of 28) |                         | Elapsed Time: 0:00:00 ETA:  --:--:--"
     ]
    },
    {
     "name": "stdout",
     "output_type": "stream",
     "text": [
      "Bank : ดีบีเอส ไทยทนุ\n"
     ]
    },
    {
     "name": "stderr",
     "output_type": "stream",
     "text": [
      " 35% (10 of 28) |########                | Elapsed Time: 0:00:04 ETA:   0:00:09"
     ]
    },
    {
     "name": "stdout",
     "output_type": "stream",
     "text": [
      "Skip ดีบีเอส ไทยทนุ for year 2005\n"
     ]
    },
    {
     "name": "stderr",
     "output_type": "stream",
     "text": [
      "\r\n",
      " 39% (11 of 28) |#########               | Elapsed Time: 0:00:05 ETA:   0:00:08"
     ]
    },
    {
     "name": "stdout",
     "output_type": "stream",
     "text": [
      "Skip ดีบีเอส ไทยทนุ for year 2006\n"
     ]
    },
    {
     "name": "stderr",
     "output_type": "stream",
     "text": [
      "\r\n",
      " 42% (12 of 28) |##########              | Elapsed Time: 0:00:05 ETA:   0:00:06"
     ]
    },
    {
     "name": "stdout",
     "output_type": "stream",
     "text": [
      "Skip ดีบีเอส ไทยทนุ for year 2007\n"
     ]
    },
    {
     "name": "stderr",
     "output_type": "stream",
     "text": [
      "\r\n",
      " 46% (13 of 28) |###########             | Elapsed Time: 0:00:05 ETA:   0:00:05"
     ]
    },
    {
     "name": "stdout",
     "output_type": "stream",
     "text": [
      "Skip ดีบีเอส ไทยทนุ for year 2008\n"
     ]
    },
    {
     "name": "stderr",
     "output_type": "stream",
     "text": [
      "\r\n",
      " 50% (14 of 28) |############            | Elapsed Time: 0:00:05 ETA:   0:00:05"
     ]
    },
    {
     "name": "stdout",
     "output_type": "stream",
     "text": [
      "Skip ดีบีเอส ไทยทนุ for year 2009\n"
     ]
    },
    {
     "name": "stderr",
     "output_type": "stream",
     "text": [
      " 57% (16 of 28) |#############           | Elapsed Time: 0:00:06 ETA:   0:00:03"
     ]
    },
    {
     "name": "stdout",
     "output_type": "stream",
     "text": [
      "Skip ดีบีเอส ไทยทนุ for year 2010\n",
      "Skip ดีบีเอส ไทยทนุ for year 2011\n"
     ]
    },
    {
     "name": "stderr",
     "output_type": "stream",
     "text": [
      "\r\n",
      " 60% (17 of 28) |##############          | Elapsed Time: 0:00:06 ETA:   0:00:03"
     ]
    },
    {
     "name": "stdout",
     "output_type": "stream",
     "text": [
      "Skip ดีบีเอส ไทยทนุ for year 2012\n"
     ]
    },
    {
     "name": "stderr",
     "output_type": "stream",
     "text": [
      "\r\n",
      " 64% (18 of 28) |###############         | Elapsed Time: 0:00:06 ETA:   0:00:02"
     ]
    },
    {
     "name": "stdout",
     "output_type": "stream",
     "text": [
      "Skip ดีบีเอส ไทยทนุ for year 2013\n"
     ]
    },
    {
     "name": "stderr",
     "output_type": "stream",
     "text": [
      "\r\n",
      " 67% (19 of 28) |################        | Elapsed Time: 0:00:06 ETA:   0:00:01"
     ]
    },
    {
     "name": "stdout",
     "output_type": "stream",
     "text": [
      "Skip ดีบีเอส ไทยทนุ for year 2014\n"
     ]
    },
    {
     "name": "stderr",
     "output_type": "stream",
     "text": [
      "\r\n",
      " 71% (20 of 28) |#################       | Elapsed Time: 0:00:07 ETA:   0:00:01"
     ]
    },
    {
     "name": "stdout",
     "output_type": "stream",
     "text": [
      "Skip ดีบีเอส ไทยทนุ for year 2015\n"
     ]
    },
    {
     "name": "stderr",
     "output_type": "stream",
     "text": [
      "\r\n",
      " 75% (21 of 28) |##################      | Elapsed Time: 0:00:07 ETA:   0:00:01"
     ]
    },
    {
     "name": "stdout",
     "output_type": "stream",
     "text": [
      "Skip ดีบีเอส ไทยทนุ for year 2016\n"
     ]
    },
    {
     "name": "stderr",
     "output_type": "stream",
     "text": [
      "\r\n",
      " 78% (22 of 28) |##################      | Elapsed Time: 0:00:07 ETA:   0:00:01"
     ]
    },
    {
     "name": "stdout",
     "output_type": "stream",
     "text": [
      "Skip ดีบีเอส ไทยทนุ for year 2017\n"
     ]
    },
    {
     "name": "stderr",
     "output_type": "stream",
     "text": [
      "\r\n",
      " 82% (23 of 28) |###################     | Elapsed Time: 0:00:07 ETA:   0:00:01"
     ]
    },
    {
     "name": "stdout",
     "output_type": "stream",
     "text": [
      "Skip ดีบีเอส ไทยทนุ for year 2018\n"
     ]
    },
    {
     "name": "stderr",
     "output_type": "stream",
     "text": [
      " 89% (25 of 28) |#####################   | Elapsed Time: 0:00:08 ETA:   0:00:00"
     ]
    },
    {
     "name": "stdout",
     "output_type": "stream",
     "text": [
      "Skip ดีบีเอส ไทยทนุ for year 2019\n",
      "Skip ดีบีเอส ไทยทนุ for year 2020\n"
     ]
    },
    {
     "name": "stderr",
     "output_type": "stream",
     "text": [
      " 96% (27 of 28) |####################### | Elapsed Time: 0:00:08 ETA:   0:00:00"
     ]
    },
    {
     "name": "stdout",
     "output_type": "stream",
     "text": [
      "Skip ดีบีเอส ไทยทนุ for year 2021\n",
      "Skip ดีบีเอส ไทยทนุ for year 2022\n"
     ]
    },
    {
     "name": "stderr",
     "output_type": "stream",
     "text": [
      "100% (28 of 28) |########################| Elapsed Time: 0:00:08 Time:  0:00:08\n",
      "  0% (0 of 28) |                         | Elapsed Time: 0:00:00 ETA:  --:--:--"
     ]
    },
    {
     "name": "stdout",
     "output_type": "stream",
     "text": [
      "Skip ดีบีเอส ไทยทนุ for year 2023\n",
      "Bank : สแตนดาร์ดชาร์เตอร์ด (ไทย)\n"
     ]
    },
    {
     "name": "stderr",
     "output_type": "stream",
     "text": [
      "100% (28 of 28) |########################| Elapsed Time: 0:00:16 Time:  0:00:16\n",
      "  0% (0 of 28) |                         | Elapsed Time: 0:00:00 ETA:  --:--:--"
     ]
    },
    {
     "name": "stdout",
     "output_type": "stream",
     "text": [
      "Bank : สแตนดาร์ดชาร์เตอร์ดนครธน\n"
     ]
    },
    {
     "name": "stderr",
     "output_type": "stream",
     "text": [
      "100% (28 of 28) |########################| Elapsed Time: 0:00:16 Time:  0:00:16\n",
      "  0% (0 of 28) |                         | Elapsed Time: 0:00:00 ETA:  --:--:--"
     ]
    },
    {
     "name": "stdout",
     "output_type": "stream",
     "text": [
      "Bank : ยูโอบี รัตนสิน\n"
     ]
    },
    {
     "name": "stderr",
     "output_type": "stream",
     "text": [
      " 42% (12 of 28) |##########              | Elapsed Time: 0:00:05 ETA:   0:00:06"
     ]
    },
    {
     "name": "stdout",
     "output_type": "stream",
     "text": [
      "Skip ยูโอบี รัตนสิน for year 2006\n",
      "Skip ยูโอบี รัตนสิน for year 2007\n"
     ]
    },
    {
     "name": "stderr",
     "output_type": "stream",
     "text": [
      " 50% (14 of 28) |############            | Elapsed Time: 0:00:05 ETA:   0:00:04"
     ]
    },
    {
     "name": "stdout",
     "output_type": "stream",
     "text": [
      "Skip ยูโอบี รัตนสิน for year 2008\n",
      "Skip ยูโอบี รัตนสิน for year 2009\n"
     ]
    },
    {
     "name": "stderr",
     "output_type": "stream",
     "text": [
      "\r\n",
      " 53% (15 of 28) |############            | Elapsed Time: 0:00:05 ETA:   0:00:04"
     ]
    },
    {
     "name": "stdout",
     "output_type": "stream",
     "text": [
      "Skip ยูโอบี รัตนสิน for year 2010\n"
     ]
    },
    {
     "name": "stderr",
     "output_type": "stream",
     "text": [
      "\r\n",
      " 57% (16 of 28) |#############           | Elapsed Time: 0:00:06 ETA:   0:00:03"
     ]
    },
    {
     "name": "stdout",
     "output_type": "stream",
     "text": [
      "Skip ยูโอบี รัตนสิน for year 2011\n"
     ]
    },
    {
     "name": "stderr",
     "output_type": "stream",
     "text": [
      "\r\n",
      " 60% (17 of 28) |##############          | Elapsed Time: 0:00:06 ETA:   0:00:02"
     ]
    },
    {
     "name": "stdout",
     "output_type": "stream",
     "text": [
      "Skip ยูโอบี รัตนสิน for year 2012\n"
     ]
    },
    {
     "name": "stderr",
     "output_type": "stream",
     "text": [
      "\r\n",
      " 64% (18 of 28) |###############         | Elapsed Time: 0:00:06 ETA:   0:00:02"
     ]
    },
    {
     "name": "stdout",
     "output_type": "stream",
     "text": [
      "Skip ยูโอบี รัตนสิน for year 2013\n"
     ]
    },
    {
     "name": "stderr",
     "output_type": "stream",
     "text": [
      "\r\n",
      " 67% (19 of 28) |################        | Elapsed Time: 0:00:06 ETA:   0:00:02"
     ]
    },
    {
     "name": "stdout",
     "output_type": "stream",
     "text": [
      "Skip ยูโอบี รัตนสิน for year 2014\n"
     ]
    },
    {
     "name": "stderr",
     "output_type": "stream",
     "text": [
      "\r\n",
      " 71% (20 of 28) |#################       | Elapsed Time: 0:00:07 ETA:   0:00:01"
     ]
    },
    {
     "name": "stdout",
     "output_type": "stream",
     "text": [
      "Skip ยูโอบี รัตนสิน for year 2015\n"
     ]
    },
    {
     "name": "stderr",
     "output_type": "stream",
     "text": [
      "\r\n",
      " 75% (21 of 28) |##################      | Elapsed Time: 0:00:07 ETA:   0:00:01"
     ]
    },
    {
     "name": "stdout",
     "output_type": "stream",
     "text": [
      "Skip ยูโอบี รัตนสิน for year 2016\n"
     ]
    },
    {
     "name": "stderr",
     "output_type": "stream",
     "text": [
      " 82% (23 of 28) |###################     | Elapsed Time: 0:00:08 ETA:   0:00:01"
     ]
    },
    {
     "name": "stdout",
     "output_type": "stream",
     "text": [
      "Skip ยูโอบี รัตนสิน for year 2017\n",
      "Skip ยูโอบี รัตนสิน for year 2018\n"
     ]
    },
    {
     "name": "stderr",
     "output_type": "stream",
     "text": [
      " 89% (25 of 28) |#####################   | Elapsed Time: 0:00:08 ETA:   0:00:00"
     ]
    },
    {
     "name": "stdout",
     "output_type": "stream",
     "text": [
      "Skip ยูโอบี รัตนสิน for year 2019\n",
      "Skip ยูโอบี รัตนสิน for year 2020\n"
     ]
    },
    {
     "name": "stderr",
     "output_type": "stream",
     "text": [
      "\r\n",
      " 92% (26 of 28) |######################  | Elapsed Time: 0:00:08 ETA:   0:00:00"
     ]
    },
    {
     "name": "stdout",
     "output_type": "stream",
     "text": [
      "Skip ยูโอบี รัตนสิน for year 2021\n"
     ]
    },
    {
     "name": "stderr",
     "output_type": "stream",
     "text": [
      "\r\n",
      " 96% (27 of 28) |####################### | Elapsed Time: 0:00:08 ETA:   0:00:00"
     ]
    },
    {
     "name": "stdout",
     "output_type": "stream",
     "text": [
      "Skip ยูโอบี รัตนสิน for year 2022\n"
     ]
    },
    {
     "name": "stderr",
     "output_type": "stream",
     "text": [
      "100% (28 of 28) |########################| Elapsed Time: 0:00:09 Time:  0:00:09\n",
      "  0% (0 of 28) |                         | Elapsed Time: 0:00:00 ETA:  --:--:--"
     ]
    },
    {
     "name": "stdout",
     "output_type": "stream",
     "text": [
      "Skip ยูโอบี รัตนสิน for year 2023\n",
      "Bank : แห่งโตเกียว-มิตซูบิชิ\n"
     ]
    },
    {
     "name": "stderr",
     "output_type": "stream",
     "text": [
      " 71% (20 of 28) |#################       | Elapsed Time: 0:00:15 ETA:   0:00:05"
     ]
    },
    {
     "name": "stdout",
     "output_type": "stream",
     "text": [
      "Skip แห่งโตเกียว-มิตซูบิชิ for year 2015\n"
     ]
    },
    {
     "name": "stderr",
     "output_type": "stream",
     "text": [
      "\r\n",
      " 75% (21 of 28) |##################      | Elapsed Time: 0:00:16 ETA:   0:00:04"
     ]
    },
    {
     "name": "stdout",
     "output_type": "stream",
     "text": [
      "Skip แห่งโตเกียว-มิตซูบิชิ for year 2016\n"
     ]
    },
    {
     "name": "stderr",
     "output_type": "stream",
     "text": [
      "\r\n",
      " 78% (22 of 28) |##################      | Elapsed Time: 0:00:16 ETA:   0:00:03"
     ]
    },
    {
     "name": "stdout",
     "output_type": "stream",
     "text": [
      "Skip แห่งโตเกียว-มิตซูบิชิ for year 2017\n"
     ]
    },
    {
     "name": "stderr",
     "output_type": "stream",
     "text": [
      "\r\n",
      " 82% (23 of 28) |###################     | Elapsed Time: 0:00:17 ETA:   0:00:02"
     ]
    },
    {
     "name": "stdout",
     "output_type": "stream",
     "text": [
      "Skip แห่งโตเกียว-มิตซูบิชิ for year 2018\n"
     ]
    },
    {
     "name": "stderr",
     "output_type": "stream",
     "text": [
      "\r\n",
      " 85% (24 of 28) |####################    | Elapsed Time: 0:00:17 ETA:   0:00:01"
     ]
    },
    {
     "name": "stdout",
     "output_type": "stream",
     "text": [
      "Skip แห่งโตเกียว-มิตซูบิชิ for year 2019\n"
     ]
    },
    {
     "name": "stderr",
     "output_type": "stream",
     "text": [
      "\r\n",
      " 89% (25 of 28) |#####################   | Elapsed Time: 0:00:18 ETA:   0:00:01"
     ]
    },
    {
     "name": "stdout",
     "output_type": "stream",
     "text": [
      "Skip แห่งโตเกียว-มิตซูบิชิ for year 2020\n"
     ]
    },
    {
     "name": "stderr",
     "output_type": "stream",
     "text": [
      "\r\n",
      " 92% (26 of 28) |######################  | Elapsed Time: 0:00:18 ETA:   0:00:00"
     ]
    },
    {
     "name": "stdout",
     "output_type": "stream",
     "text": [
      "Skip แห่งโตเกียว-มิตซูบิชิ for year 2021\n"
     ]
    },
    {
     "name": "stderr",
     "output_type": "stream",
     "text": [
      "\r\n",
      " 96% (27 of 28) |####################### | Elapsed Time: 0:00:19 ETA:   0:00:00"
     ]
    },
    {
     "name": "stdout",
     "output_type": "stream",
     "text": [
      "Skip แห่งโตเกียว-มิตซูบิชิ for year 2022\n"
     ]
    },
    {
     "name": "stderr",
     "output_type": "stream",
     "text": [
      "100% (28 of 28) |########################| Elapsed Time: 0:00:19 Time:  0:00:19\n",
      "  0% (0 of 28) |                         | Elapsed Time: 0:00:00 ETA:  --:--:--"
     ]
    },
    {
     "name": "stdout",
     "output_type": "stream",
     "text": [
      "Skip แห่งโตเกียว-มิตซูบิชิ for year 2023\n",
      "Bank : แห่งโตเกียว-มิตซูบิชิ ยูเอฟเจ\n"
     ]
    },
    {
     "name": "stderr",
     "output_type": "stream",
     "text": [
      " 71% (20 of 28) |#################       | Elapsed Time: 0:00:10 ETA:   0:00:03"
     ]
    },
    {
     "name": "stdout",
     "output_type": "stream",
     "text": [
      "Skip แห่งโตเกียว-มิตซูบิชิ ยูเอฟเจ for year 2015\n"
     ]
    },
    {
     "name": "stderr",
     "output_type": "stream",
     "text": [
      "\r\n",
      " 75% (21 of 28) |##################      | Elapsed Time: 0:00:10 ETA:   0:00:02"
     ]
    },
    {
     "name": "stdout",
     "output_type": "stream",
     "text": [
      "Skip แห่งโตเกียว-มิตซูบิชิ ยูเอฟเจ for year 2016\n"
     ]
    },
    {
     "name": "stderr",
     "output_type": "stream",
     "text": [
      "\r\n",
      " 78% (22 of 28) |##################      | Elapsed Time: 0:00:11 ETA:   0:00:02"
     ]
    },
    {
     "name": "stdout",
     "output_type": "stream",
     "text": [
      "Skip แห่งโตเกียว-มิตซูบิชิ ยูเอฟเจ for year 2017\n"
     ]
    },
    {
     "name": "stderr",
     "output_type": "stream",
     "text": [
      "\r\n",
      " 82% (23 of 28) |###################     | Elapsed Time: 0:00:11 ETA:   0:00:01"
     ]
    },
    {
     "name": "stdout",
     "output_type": "stream",
     "text": [
      "Skip แห่งโตเกียว-มิตซูบิชิ ยูเอฟเจ for year 2018\n"
     ]
    },
    {
     "name": "stderr",
     "output_type": "stream",
     "text": [
      "\r\n",
      " 85% (24 of 28) |####################    | Elapsed Time: 0:00:11 ETA:   0:00:01"
     ]
    },
    {
     "name": "stdout",
     "output_type": "stream",
     "text": [
      "Skip แห่งโตเกียว-มิตซูบิชิ ยูเอฟเจ for year 2019\n"
     ]
    },
    {
     "name": "stderr",
     "output_type": "stream",
     "text": [
      "\r\n",
      " 89% (25 of 28) |#####################   | Elapsed Time: 0:00:11 ETA:   0:00:00"
     ]
    },
    {
     "name": "stdout",
     "output_type": "stream",
     "text": [
      "Skip แห่งโตเกียว-มิตซูบิชิ ยูเอฟเจ for year 2020\n"
     ]
    },
    {
     "name": "stderr",
     "output_type": "stream",
     "text": [
      " 96% (27 of 28) |####################### | Elapsed Time: 0:00:12 ETA:   0:00:00"
     ]
    },
    {
     "name": "stdout",
     "output_type": "stream",
     "text": [
      "Skip แห่งโตเกียว-มิตซูบิชิ ยูเอฟเจ for year 2021\n",
      "Skip แห่งโตเกียว-มิตซูบิชิ ยูเอฟเจ for year 2022\n"
     ]
    },
    {
     "name": "stderr",
     "output_type": "stream",
     "text": [
      "100% (28 of 28) |########################| Elapsed Time: 0:00:12 Time:  0:00:12\n",
      "  0% (0 of 28) |                         | Elapsed Time: 0:00:00 ETA:  --:--:--"
     ]
    },
    {
     "name": "stdout",
     "output_type": "stream",
     "text": [
      "Skip แห่งโตเกียว-มิตซูบิชิ ยูเอฟเจ for year 2023\n",
      "Bank : ซิตี้แบงก์\n"
     ]
    },
    {
     "name": "stderr",
     "output_type": "stream",
     "text": [
      "100% (28 of 28) |########################| Elapsed Time: 0:00:15 Time:  0:00:15\n",
      "  0% (0 of 28) |                         | Elapsed Time: 0:00:00 ETA:  --:--:--"
     ]
    },
    {
     "name": "stdout",
     "output_type": "stream",
     "text": [
      "Bank : ซากุระ\n"
     ]
    },
    {
     "name": "stderr",
     "output_type": "stream",
     "text": [
      "100% (28 of 28) |########################| Elapsed Time: 0:00:20 Time:  0:00:20\n",
      "  0% (0 of 28) |                         | Elapsed Time: 0:00:00 ETA:  --:--:--"
     ]
    },
    {
     "name": "stdout",
     "output_type": "stream",
     "text": [
      "Bank : ซูมิโตโม มิตซุย แบงกิ้ง คอร์ปอร์เรชั่น\n"
     ]
    },
    {
     "name": "stderr",
     "output_type": "stream",
     "text": [
      "100% (28 of 28) |########################| Elapsed Time: 0:00:18 Time:  0:00:18\n",
      "  0% (0 of 28) |                         | Elapsed Time: 0:00:00 ETA:  --:--:--"
     ]
    },
    {
     "name": "stdout",
     "output_type": "stream",
     "text": [
      "Bank : เอช เอส บี ซี\n"
     ]
    },
    {
     "name": "stderr",
     "output_type": "stream",
     "text": [
      "100% (28 of 28) |########################| Elapsed Time: 0:00:18 Time:  0:00:18\n",
      "  0% (0 of 28) |                         | Elapsed Time: 0:00:00 ETA:  --:--:--"
     ]
    },
    {
     "name": "stdout",
     "output_type": "stream",
     "text": [
      "Bank : ฮ่องกงและเซี่ยงไฮ้แบงกิ้งคอร์ปอเรชั่น\n"
     ]
    },
    {
     "name": "stderr",
     "output_type": "stream",
     "text": [
      "100% (28 of 28) |########################| Elapsed Time: 0:00:18 Time:  0:00:18\n",
      "  0% (0 of 28) |                         | Elapsed Time: 0:00:00 ETA:  --:--:--"
     ]
    },
    {
     "name": "stdout",
     "output_type": "stream",
     "text": [
      "Bank : ดอยซ์แบงก์\n"
     ]
    },
    {
     "name": "stderr",
     "output_type": "stream",
     "text": [
      "100% (28 of 28) |########################| Elapsed Time: 0:00:18 Time:  0:00:18\n",
      "  0% (0 of 28) |                         | Elapsed Time: 0:00:00 ETA:  --:--:--"
     ]
    },
    {
     "name": "stdout",
     "output_type": "stream",
     "text": [
      "Bank : สแตนดาร์ดชาร์เตอร์ด\n"
     ]
    },
    {
     "name": "stderr",
     "output_type": "stream",
     "text": [
      " 42% (12 of 28) |##########              | Elapsed Time: 0:00:05 ETA:   0:00:06"
     ]
    },
    {
     "name": "stdout",
     "output_type": "stream",
     "text": [
      "Skip สแตนดาร์ดชาร์เตอร์ด for year 2006\n",
      "Skip สแตนดาร์ดชาร์เตอร์ด for year 2007\n"
     ]
    },
    {
     "name": "stderr",
     "output_type": "stream",
     "text": [
      " 50% (14 of 28) |############            | Elapsed Time: 0:00:05 ETA:   0:00:04"
     ]
    },
    {
     "name": "stdout",
     "output_type": "stream",
     "text": [
      "Skip สแตนดาร์ดชาร์เตอร์ด for year 2008\n",
      "Skip สแตนดาร์ดชาร์เตอร์ด for year 2009\n"
     ]
    },
    {
     "name": "stderr",
     "output_type": "stream",
     "text": [
      "\r\n",
      " 53% (15 of 28) |############            | Elapsed Time: 0:00:05 ETA:   0:00:03"
     ]
    },
    {
     "name": "stdout",
     "output_type": "stream",
     "text": [
      "Skip สแตนดาร์ดชาร์เตอร์ด for year 2010\n"
     ]
    },
    {
     "name": "stderr",
     "output_type": "stream",
     "text": [
      "\r\n",
      " 57% (16 of 28) |#############           | Elapsed Time: 0:00:05 ETA:   0:00:03"
     ]
    },
    {
     "name": "stdout",
     "output_type": "stream",
     "text": [
      "Skip สแตนดาร์ดชาร์เตอร์ด for year 2011\n"
     ]
    },
    {
     "name": "stderr",
     "output_type": "stream",
     "text": [
      "\r\n",
      " 60% (17 of 28) |##############          | Elapsed Time: 0:00:06 ETA:   0:00:03"
     ]
    },
    {
     "name": "stdout",
     "output_type": "stream",
     "text": [
      "Skip สแตนดาร์ดชาร์เตอร์ด for year 2012\n"
     ]
    },
    {
     "name": "stderr",
     "output_type": "stream",
     "text": [
      "\r\n",
      " 64% (18 of 28) |###############         | Elapsed Time: 0:00:06 ETA:   0:00:02"
     ]
    },
    {
     "name": "stdout",
     "output_type": "stream",
     "text": [
      "Skip สแตนดาร์ดชาร์เตอร์ด for year 2013\n"
     ]
    },
    {
     "name": "stderr",
     "output_type": "stream",
     "text": [
      "\r\n",
      " 67% (19 of 28) |################        | Elapsed Time: 0:00:06 ETA:   0:00:02"
     ]
    },
    {
     "name": "stdout",
     "output_type": "stream",
     "text": [
      "Skip สแตนดาร์ดชาร์เตอร์ด for year 2014\n"
     ]
    },
    {
     "name": "stderr",
     "output_type": "stream",
     "text": [
      " 75% (21 of 28) |##################      | Elapsed Time: 0:00:06 ETA:   0:00:01"
     ]
    },
    {
     "name": "stdout",
     "output_type": "stream",
     "text": [
      "Skip สแตนดาร์ดชาร์เตอร์ด for year 2015\n",
      "Skip สแตนดาร์ดชาร์เตอร์ด for year 2016\n"
     ]
    },
    {
     "name": "stderr",
     "output_type": "stream",
     "text": [
      "\r\n",
      " 78% (22 of 28) |##################      | Elapsed Time: 0:00:07 ETA:   0:00:01"
     ]
    },
    {
     "name": "stdout",
     "output_type": "stream",
     "text": [
      "Skip สแตนดาร์ดชาร์เตอร์ด for year 2017\n"
     ]
    },
    {
     "name": "stderr",
     "output_type": "stream",
     "text": [
      "\r\n",
      " 82% (23 of 28) |###################     | Elapsed Time: 0:00:07 ETA:   0:00:01"
     ]
    },
    {
     "name": "stdout",
     "output_type": "stream",
     "text": [
      "Skip สแตนดาร์ดชาร์เตอร์ด for year 2018\n"
     ]
    },
    {
     "name": "stderr",
     "output_type": "stream",
     "text": [
      " 89% (25 of 28) |#####################   | Elapsed Time: 0:00:07 ETA:   0:00:00"
     ]
    },
    {
     "name": "stdout",
     "output_type": "stream",
     "text": [
      "Skip สแตนดาร์ดชาร์เตอร์ด for year 2019\n",
      "Skip สแตนดาร์ดชาร์เตอร์ด for year 2020\n"
     ]
    },
    {
     "name": "stderr",
     "output_type": "stream",
     "text": [
      "\r\n",
      " 92% (26 of 28) |######################  | Elapsed Time: 0:00:08 ETA:   0:00:00"
     ]
    },
    {
     "name": "stdout",
     "output_type": "stream",
     "text": [
      "Skip สแตนดาร์ดชาร์เตอร์ด for year 2021\n"
     ]
    },
    {
     "name": "stderr",
     "output_type": "stream",
     "text": [
      "\r\n",
      " 96% (27 of 28) |####################### | Elapsed Time: 0:00:08 ETA:   0:00:00"
     ]
    },
    {
     "name": "stdout",
     "output_type": "stream",
     "text": [
      "Skip สแตนดาร์ดชาร์เตอร์ด for year 2022\n"
     ]
    },
    {
     "name": "stderr",
     "output_type": "stream",
     "text": [
      "100% (28 of 28) |########################| Elapsed Time: 0:00:08 Time:  0:00:08\n",
      "  0% (0 of 28) |                         | Elapsed Time: 0:00:00 ETA:  --:--:--"
     ]
    },
    {
     "name": "stdout",
     "output_type": "stream",
     "text": [
      "Skip สแตนดาร์ดชาร์เตอร์ด for year 2023\n",
      "Bank : เจพีมอร์แกน เชส\n"
     ]
    },
    {
     "name": "stderr",
     "output_type": "stream",
     "text": [
      "100% (28 of 28) |########################| Elapsed Time: 0:00:16 Time:  0:00:16\n",
      "  0% (0 of 28) |                         | Elapsed Time: 0:00:00 ETA:  --:--:--"
     ]
    },
    {
     "name": "stdout",
     "output_type": "stream",
     "text": [
      "Bank : เชสแมนแฮตตัน\n"
     ]
    },
    {
     "name": "stderr",
     "output_type": "stream",
     "text": [
      "100% (28 of 28) |########################| Elapsed Time: 0:00:16 Time:  0:00:16\n",
      "  0% (0 of 28) |                         | Elapsed Time: 0:00:00 ETA:  --:--:--"
     ]
    },
    {
     "name": "stdout",
     "output_type": "stream",
     "text": [
      "Bank : คาลิยง\n"
     ]
    },
    {
     "name": "stderr",
     "output_type": "stream",
     "text": [
      " 67% (19 of 28) |################        | Elapsed Time: 0:00:10 ETA:   0:00:04"
     ]
    },
    {
     "name": "stdout",
     "output_type": "stream",
     "text": [
      "Skip คาลิยง for year 2014\n"
     ]
    },
    {
     "name": "stderr",
     "output_type": "stream",
     "text": [
      "\r\n",
      " 71% (20 of 28) |#################       | Elapsed Time: 0:00:11 ETA:   0:00:03"
     ]
    },
    {
     "name": "stdout",
     "output_type": "stream",
     "text": [
      "Skip คาลิยง for year 2015\n"
     ]
    },
    {
     "name": "stderr",
     "output_type": "stream",
     "text": [
      "\r\n",
      " 75% (21 of 28) |##################      | Elapsed Time: 0:00:11 ETA:   0:00:02"
     ]
    },
    {
     "name": "stdout",
     "output_type": "stream",
     "text": [
      "Skip คาลิยง for year 2016\n"
     ]
    },
    {
     "name": "stderr",
     "output_type": "stream",
     "text": [
      "\r\n",
      " 78% (22 of 28) |##################      | Elapsed Time: 0:00:11 ETA:   0:00:02"
     ]
    },
    {
     "name": "stdout",
     "output_type": "stream",
     "text": [
      "Skip คาลิยง for year 2017\n"
     ]
    },
    {
     "name": "stderr",
     "output_type": "stream",
     "text": [
      "\r\n",
      " 82% (23 of 28) |###################     | Elapsed Time: 0:00:11 ETA:   0:00:01"
     ]
    },
    {
     "name": "stdout",
     "output_type": "stream",
     "text": [
      "Skip คาลิยง for year 2018\n"
     ]
    },
    {
     "name": "stderr",
     "output_type": "stream",
     "text": [
      "\r\n",
      " 85% (24 of 28) |####################    | Elapsed Time: 0:00:12 ETA:   0:00:01"
     ]
    },
    {
     "name": "stdout",
     "output_type": "stream",
     "text": [
      "Skip คาลิยง for year 2019\n"
     ]
    },
    {
     "name": "stderr",
     "output_type": "stream",
     "text": [
      "\r\n",
      " 89% (25 of 28) |#####################   | Elapsed Time: 0:00:12 ETA:   0:00:00"
     ]
    },
    {
     "name": "stdout",
     "output_type": "stream",
     "text": [
      "Skip คาลิยง for year 2020\n"
     ]
    },
    {
     "name": "stderr",
     "output_type": "stream",
     "text": [
      "\r\n",
      " 92% (26 of 28) |######################  | Elapsed Time: 0:00:12 ETA:   0:00:00"
     ]
    },
    {
     "name": "stdout",
     "output_type": "stream",
     "text": [
      "Skip คาลิยง for year 2021\n"
     ]
    },
    {
     "name": "stderr",
     "output_type": "stream",
     "text": [
      "\r\n",
      " 96% (27 of 28) |####################### | Elapsed Time: 0:00:13 ETA:   0:00:00"
     ]
    },
    {
     "name": "stdout",
     "output_type": "stream",
     "text": [
      "Skip คาลิยง for year 2022\n"
     ]
    },
    {
     "name": "stderr",
     "output_type": "stream",
     "text": [
      "100% (28 of 28) |########################| Elapsed Time: 0:00:13 Time:  0:00:13\n",
      "  0% (0 of 28) |                         | Elapsed Time: 0:00:00 ETA:  --:--:--"
     ]
    },
    {
     "name": "stdout",
     "output_type": "stream",
     "text": [
      "Skip คาลิยง for year 2023\n",
      "Bank : เครดิต อะกริกอล คอร์ปอเรทแอนด์อินเวสเมนท์แบงก์ \n"
     ]
    },
    {
     "name": "stderr",
     "output_type": "stream",
     "text": [
      " 67% (19 of 28) |################        | Elapsed Time: 0:00:09 ETA:   0:00:04"
     ]
    },
    {
     "name": "stdout",
     "output_type": "stream",
     "text": [
      "Skip เครดิต อะกริกอล คอร์ปอเรทแอนด์อินเวสเมนท์แบงก์  for year 2014\n"
     ]
    },
    {
     "name": "stderr",
     "output_type": "stream",
     "text": [
      "\r\n",
      " 71% (20 of 28) |#################       | Elapsed Time: 0:00:09 ETA:   0:00:03"
     ]
    },
    {
     "name": "stdout",
     "output_type": "stream",
     "text": [
      "Skip เครดิต อะกริกอล คอร์ปอเรทแอนด์อินเวสเมนท์แบงก์  for year 2015\n"
     ]
    },
    {
     "name": "stderr",
     "output_type": "stream",
     "text": [
      "\r\n",
      " 75% (21 of 28) |##################      | Elapsed Time: 0:00:10 ETA:   0:00:02"
     ]
    },
    {
     "name": "stdout",
     "output_type": "stream",
     "text": [
      "Skip เครดิต อะกริกอล คอร์ปอเรทแอนด์อินเวสเมนท์แบงก์  for year 2016\n"
     ]
    },
    {
     "name": "stderr",
     "output_type": "stream",
     "text": [
      "\r\n",
      " 78% (22 of 28) |##################      | Elapsed Time: 0:00:10 ETA:   0:00:02"
     ]
    },
    {
     "name": "stdout",
     "output_type": "stream",
     "text": [
      "Skip เครดิต อะกริกอล คอร์ปอเรทแอนด์อินเวสเมนท์แบงก์  for year 2017\n"
     ]
    },
    {
     "name": "stderr",
     "output_type": "stream",
     "text": [
      "\r\n",
      " 82% (23 of 28) |###################     | Elapsed Time: 0:00:10 ETA:   0:00:01"
     ]
    },
    {
     "name": "stdout",
     "output_type": "stream",
     "text": [
      "Skip เครดิต อะกริกอล คอร์ปอเรทแอนด์อินเวสเมนท์แบงก์  for year 2018\n"
     ]
    },
    {
     "name": "stderr",
     "output_type": "stream",
     "text": [
      "\r\n",
      " 85% (24 of 28) |####################    | Elapsed Time: 0:00:10 ETA:   0:00:01"
     ]
    },
    {
     "name": "stdout",
     "output_type": "stream",
     "text": [
      "Skip เครดิต อะกริกอล คอร์ปอเรทแอนด์อินเวสเมนท์แบงก์  for year 2019\n"
     ]
    },
    {
     "name": "stderr",
     "output_type": "stream",
     "text": [
      "\r\n",
      " 89% (25 of 28) |#####################   | Elapsed Time: 0:00:11 ETA:   0:00:00"
     ]
    },
    {
     "name": "stdout",
     "output_type": "stream",
     "text": [
      "Skip เครดิต อะกริกอล คอร์ปอเรทแอนด์อินเวสเมนท์แบงก์  for year 2020\n"
     ]
    },
    {
     "name": "stderr",
     "output_type": "stream",
     "text": [
      "\r\n",
      " 92% (26 of 28) |######################  | Elapsed Time: 0:00:11 ETA:   0:00:00"
     ]
    },
    {
     "name": "stdout",
     "output_type": "stream",
     "text": [
      "Skip เครดิต อะกริกอล คอร์ปอเรทแอนด์อินเวสเมนท์แบงก์  for year 2021\n"
     ]
    },
    {
     "name": "stderr",
     "output_type": "stream",
     "text": [
      "\r\n",
      " 96% (27 of 28) |####################### | Elapsed Time: 0:00:11 ETA:   0:00:00"
     ]
    },
    {
     "name": "stdout",
     "output_type": "stream",
     "text": [
      "Skip เครดิต อะกริกอล คอร์ปอเรทแอนด์อินเวสเมนท์แบงก์  for year 2022\n"
     ]
    },
    {
     "name": "stderr",
     "output_type": "stream",
     "text": [
      "100% (28 of 28) |########################| Elapsed Time: 0:00:12 Time:  0:00:12\n",
      "  0% (0 of 28) |                         | Elapsed Time: 0:00:00 ETA:  --:--:--"
     ]
    },
    {
     "name": "stdout",
     "output_type": "stream",
     "text": [
      "Skip เครดิต อะกริกอล คอร์ปอเรทแอนด์อินเวสเมนท์แบงก์  for year 2023\n",
      "Bank : เครดิต อะกริกอล อินโดสุเอซ\n"
     ]
    },
    {
     "name": "stderr",
     "output_type": "stream",
     "text": [
      " 67% (19 of 28) |################        | Elapsed Time: 0:00:09 ETA:   0:00:04"
     ]
    },
    {
     "name": "stdout",
     "output_type": "stream",
     "text": [
      "Skip เครดิต อะกริกอล อินโดสุเอซ for year 2014\n"
     ]
    },
    {
     "name": "stderr",
     "output_type": "stream",
     "text": [
      "\r\n",
      " 71% (20 of 28) |#################       | Elapsed Time: 0:00:09 ETA:   0:00:03"
     ]
    },
    {
     "name": "stdout",
     "output_type": "stream",
     "text": [
      "Skip เครดิต อะกริกอล อินโดสุเอซ for year 2015\n"
     ]
    },
    {
     "name": "stderr",
     "output_type": "stream",
     "text": [
      "\r\n",
      " 75% (21 of 28) |##################      | Elapsed Time: 0:00:09 ETA:   0:00:02"
     ]
    },
    {
     "name": "stdout",
     "output_type": "stream",
     "text": [
      "Skip เครดิต อะกริกอล อินโดสุเอซ for year 2016\n"
     ]
    },
    {
     "name": "stderr",
     "output_type": "stream",
     "text": [
      "\r\n",
      " 78% (22 of 28) |##################      | Elapsed Time: 0:00:09 ETA:   0:00:02"
     ]
    },
    {
     "name": "stdout",
     "output_type": "stream",
     "text": [
      "Skip เครดิต อะกริกอล อินโดสุเอซ for year 2017\n"
     ]
    },
    {
     "name": "stderr",
     "output_type": "stream",
     "text": [
      "\r\n",
      " 82% (23 of 28) |###################     | Elapsed Time: 0:00:10 ETA:   0:00:01"
     ]
    },
    {
     "name": "stdout",
     "output_type": "stream",
     "text": [
      "Skip เครดิต อะกริกอล อินโดสุเอซ for year 2018\n"
     ]
    },
    {
     "name": "stderr",
     "output_type": "stream",
     "text": [
      "\r\n",
      " 85% (24 of 28) |####################    | Elapsed Time: 0:00:10 ETA:   0:00:01"
     ]
    },
    {
     "name": "stdout",
     "output_type": "stream",
     "text": [
      "Skip เครดิต อะกริกอล อินโดสุเอซ for year 2019\n"
     ]
    },
    {
     "name": "stderr",
     "output_type": "stream",
     "text": [
      "\r\n",
      " 89% (25 of 28) |#####################   | Elapsed Time: 0:00:10 ETA:   0:00:00"
     ]
    },
    {
     "name": "stdout",
     "output_type": "stream",
     "text": [
      "Skip เครดิต อะกริกอล อินโดสุเอซ for year 2020\n"
     ]
    },
    {
     "name": "stderr",
     "output_type": "stream",
     "text": [
      "\r\n",
      " 92% (26 of 28) |######################  | Elapsed Time: 0:00:10 ETA:   0:00:00"
     ]
    },
    {
     "name": "stdout",
     "output_type": "stream",
     "text": [
      "Skip เครดิต อะกริกอล อินโดสุเอซ for year 2021\n"
     ]
    },
    {
     "name": "stderr",
     "output_type": "stream",
     "text": [
      "\r\n",
      " 96% (27 of 28) |####################### | Elapsed Time: 0:00:11 ETA:   0:00:00"
     ]
    },
    {
     "name": "stdout",
     "output_type": "stream",
     "text": [
      "Skip เครดิต อะกริกอล อินโดสุเอซ for year 2022\n"
     ]
    },
    {
     "name": "stderr",
     "output_type": "stream",
     "text": [
      "100% (28 of 28) |########################| Elapsed Time: 0:00:11 Time:  0:00:11\n",
      "  0% (0 of 28) |                         | Elapsed Time: 0:00:00 ETA:  --:--:--"
     ]
    },
    {
     "name": "stdout",
     "output_type": "stream",
     "text": [
      "Skip เครดิต อะกริกอล อินโดสุเอซ for year 2023\n",
      "Bank : แห่งอเมริกาเนชั่นแนลแอสโซซิเอชั่น\n"
     ]
    },
    {
     "name": "stderr",
     "output_type": "stream",
     "text": [
      "100% (28 of 28) |########################| Elapsed Time: 0:00:16 Time:  0:00:16\n",
      "  0% (0 of 28) |                         | Elapsed Time: 0:00:00 ETA:  --:--:--"
     ]
    },
    {
     "name": "stdout",
     "output_type": "stream",
     "text": [
      "Bank : ภารตโอเวอร์ซีส์\n"
     ]
    },
    {
     "name": "stderr",
     "output_type": "stream",
     "text": [
      "100% (28 of 28) |########################| Elapsed Time: 0:00:17 Time:  0:00:17\n",
      "  0% (0 of 28) |                         | Elapsed Time: 0:00:00 ETA:  --:--:--"
     ]
    },
    {
     "name": "stdout",
     "output_type": "stream",
     "text": [
      "Bank : อินเดียนโอเวอร์ซีส์\n"
     ]
    },
    {
     "name": "stderr",
     "output_type": "stream",
     "text": [
      "100% (28 of 28) |########################| Elapsed Time: 0:00:16 Time:  0:00:16\n",
      "  0% (0 of 28) |                         | Elapsed Time: 0:00:00 ETA:  --:--:--"
     ]
    },
    {
     "name": "stdout",
     "output_type": "stream",
     "text": [
      "Bank : เดอะรอยัลแบงก์อ๊อฟสกอตแลนด์ พีแอลซี \n"
     ]
    },
    {
     "name": "stderr",
     "output_type": "stream",
     "text": [
      " 78% (22 of 28) |##################      | Elapsed Time: 0:00:11 ETA:   0:00:02"
     ]
    },
    {
     "name": "stdout",
     "output_type": "stream",
     "text": [
      "Skip เดอะรอยัลแบงก์อ๊อฟสกอตแลนด์ พีแอลซี  for year 2017\n"
     ]
    },
    {
     "name": "stderr",
     "output_type": "stream",
     "text": [
      "\r\n",
      " 82% (23 of 28) |###################     | Elapsed Time: 0:00:11 ETA:   0:00:02"
     ]
    },
    {
     "name": "stdout",
     "output_type": "stream",
     "text": [
      "Skip เดอะรอยัลแบงก์อ๊อฟสกอตแลนด์ พีแอลซี  for year 2018\n"
     ]
    },
    {
     "name": "stderr",
     "output_type": "stream",
     "text": [
      "\r\n",
      " 85% (24 of 28) |####################    | Elapsed Time: 0:00:12 ETA:   0:00:01"
     ]
    },
    {
     "name": "stdout",
     "output_type": "stream",
     "text": [
      "Skip เดอะรอยัลแบงก์อ๊อฟสกอตแลนด์ พีแอลซี  for year 2019\n"
     ]
    },
    {
     "name": "stderr",
     "output_type": "stream",
     "text": [
      "\r\n",
      " 89% (25 of 28) |#####################   | Elapsed Time: 0:00:12 ETA:   0:00:01"
     ]
    },
    {
     "name": "stdout",
     "output_type": "stream",
     "text": [
      "Skip เดอะรอยัลแบงก์อ๊อฟสกอตแลนด์ พีแอลซี  for year 2020\n"
     ]
    },
    {
     "name": "stderr",
     "output_type": "stream",
     "text": [
      "\r\n",
      " 92% (26 of 28) |######################  | Elapsed Time: 0:00:12 ETA:   0:00:00"
     ]
    },
    {
     "name": "stdout",
     "output_type": "stream",
     "text": [
      "Skip เดอะรอยัลแบงก์อ๊อฟสกอตแลนด์ พีแอลซี  for year 2021\n"
     ]
    },
    {
     "name": "stderr",
     "output_type": "stream",
     "text": [
      "\r\n",
      " 96% (27 of 28) |####################### | Elapsed Time: 0:00:12 ETA:   0:00:00"
     ]
    },
    {
     "name": "stdout",
     "output_type": "stream",
     "text": [
      "Skip เดอะรอยัลแบงก์อ๊อฟสกอตแลนด์ พีแอลซี  for year 2022\n"
     ]
    },
    {
     "name": "stderr",
     "output_type": "stream",
     "text": [
      "100% (28 of 28) |########################| Elapsed Time: 0:00:12 Time:  0:00:12\n",
      "  0% (0 of 28) |                         | Elapsed Time: 0:00:00 ETA:  --:--:--"
     ]
    },
    {
     "name": "stdout",
     "output_type": "stream",
     "text": [
      "Skip เดอะรอยัลแบงก์อ๊อฟสกอตแลนด์ พีแอลซี  for year 2023\n",
      "Bank : เดอะรอยัลแบงก์อ๊อฟสกอตแลนด์ เอ็น.วี.\n"
     ]
    },
    {
     "name": "stderr",
     "output_type": "stream",
     "text": [
      " 78% (22 of 28) |##################      | Elapsed Time: 0:00:10 ETA:   0:00:02"
     ]
    },
    {
     "name": "stdout",
     "output_type": "stream",
     "text": [
      "Skip เดอะรอยัลแบงก์อ๊อฟสกอตแลนด์ เอ็น.วี. for year 2017\n"
     ]
    },
    {
     "name": "stderr",
     "output_type": "stream",
     "text": [
      "\r\n",
      " 82% (23 of 28) |###################     | Elapsed Time: 0:00:11 ETA:   0:00:02"
     ]
    },
    {
     "name": "stdout",
     "output_type": "stream",
     "text": [
      "Skip เดอะรอยัลแบงก์อ๊อฟสกอตแลนด์ เอ็น.วี. for year 2018\n"
     ]
    },
    {
     "name": "stderr",
     "output_type": "stream",
     "text": [
      "\r\n",
      " 85% (24 of 28) |####################    | Elapsed Time: 0:00:11 ETA:   0:00:01"
     ]
    },
    {
     "name": "stdout",
     "output_type": "stream",
     "text": [
      "Skip เดอะรอยัลแบงก์อ๊อฟสกอตแลนด์ เอ็น.วี. for year 2019\n"
     ]
    },
    {
     "name": "stderr",
     "output_type": "stream",
     "text": [
      "\r\n",
      " 89% (25 of 28) |#####################   | Elapsed Time: 0:00:11 ETA:   0:00:01"
     ]
    },
    {
     "name": "stdout",
     "output_type": "stream",
     "text": [
      "Skip เดอะรอยัลแบงก์อ๊อฟสกอตแลนด์ เอ็น.วี. for year 2020\n"
     ]
    },
    {
     "name": "stderr",
     "output_type": "stream",
     "text": [
      "\r\n",
      " 92% (26 of 28) |######################  | Elapsed Time: 0:00:12 ETA:   0:00:00"
     ]
    },
    {
     "name": "stdout",
     "output_type": "stream",
     "text": [
      "Skip เดอะรอยัลแบงก์อ๊อฟสกอตแลนด์ เอ็น.วี. for year 2021\n"
     ]
    },
    {
     "name": "stderr",
     "output_type": "stream",
     "text": [
      "\r\n",
      " 96% (27 of 28) |####################### | Elapsed Time: 0:00:12 ETA:   0:00:00"
     ]
    },
    {
     "name": "stdout",
     "output_type": "stream",
     "text": [
      "Skip เดอะรอยัลแบงก์อ๊อฟสกอตแลนด์ เอ็น.วี. for year 2022\n"
     ]
    },
    {
     "name": "stderr",
     "output_type": "stream",
     "text": [
      "100% (28 of 28) |########################| Elapsed Time: 0:00:12 Time:  0:00:12\n",
      "  0% (0 of 28) |                         | Elapsed Time: 0:00:00 ETA:  --:--:--"
     ]
    },
    {
     "name": "stdout",
     "output_type": "stream",
     "text": [
      "Skip เดอะรอยัลแบงก์อ๊อฟสกอตแลนด์ เอ็น.วี. for year 2023\n",
      "Bank : เอบีเอ็น แอมโร เอ็น.วี.\n"
     ]
    },
    {
     "name": "stderr",
     "output_type": "stream",
     "text": [
      " 78% (22 of 28) |##################      | Elapsed Time: 0:00:11 ETA:   0:00:02"
     ]
    },
    {
     "name": "stdout",
     "output_type": "stream",
     "text": [
      "Skip เอบีเอ็น แอมโร เอ็น.วี. for year 2017\n"
     ]
    },
    {
     "name": "stderr",
     "output_type": "stream",
     "text": [
      "\r\n",
      " 82% (23 of 28) |###################     | Elapsed Time: 0:00:11 ETA:   0:00:02"
     ]
    },
    {
     "name": "stdout",
     "output_type": "stream",
     "text": [
      "Skip เอบีเอ็น แอมโร เอ็น.วี. for year 2018\n"
     ]
    },
    {
     "name": "stderr",
     "output_type": "stream",
     "text": [
      "\r\n",
      " 85% (24 of 28) |####################    | Elapsed Time: 0:00:12 ETA:   0:00:01"
     ]
    },
    {
     "name": "stdout",
     "output_type": "stream",
     "text": [
      "Skip เอบีเอ็น แอมโร เอ็น.วี. for year 2019\n"
     ]
    },
    {
     "name": "stderr",
     "output_type": "stream",
     "text": [
      "\r\n",
      " 89% (25 of 28) |#####################   | Elapsed Time: 0:00:12 ETA:   0:00:01"
     ]
    },
    {
     "name": "stdout",
     "output_type": "stream",
     "text": [
      "Skip เอบีเอ็น แอมโร เอ็น.วี. for year 2020\n"
     ]
    },
    {
     "name": "stderr",
     "output_type": "stream",
     "text": [
      "\r\n",
      " 92% (26 of 28) |######################  | Elapsed Time: 0:00:12 ETA:   0:00:00"
     ]
    },
    {
     "name": "stdout",
     "output_type": "stream",
     "text": [
      "Skip เอบีเอ็น แอมโร เอ็น.วี. for year 2021\n"
     ]
    },
    {
     "name": "stderr",
     "output_type": "stream",
     "text": [
      "\r\n",
      " 96% (27 of 28) |####################### | Elapsed Time: 0:00:12 ETA:   0:00:00"
     ]
    },
    {
     "name": "stdout",
     "output_type": "stream",
     "text": [
      "Skip เอบีเอ็น แอมโร เอ็น.วี. for year 2022\n"
     ]
    },
    {
     "name": "stderr",
     "output_type": "stream",
     "text": [
      "100% (28 of 28) |########################| Elapsed Time: 0:00:13 Time:  0:00:13\n",
      "  0% (0 of 28) |                         | Elapsed Time: 0:00:00 ETA:  --:--:--"
     ]
    },
    {
     "name": "stdout",
     "output_type": "stream",
     "text": [
      "Skip เอบีเอ็น แอมโร เอ็น.วี. for year 2023\n",
      "Bank : สากลพาณิชย์แห่งประเทศจีน\n"
     ]
    },
    {
     "name": "stderr",
     "output_type": "stream",
     "text": [
      "100% (28 of 28) |########################| Elapsed Time: 0:00:16 Time:  0:00:16\n",
      "  0% (0 of 28) |                         | Elapsed Time: 0:00:00 ETA:  --:--:--"
     ]
    },
    {
     "name": "stdout",
     "output_type": "stream",
     "text": [
      "Bank : อาร์ เอช บี\n"
     ]
    },
    {
     "name": "stderr",
     "output_type": "stream",
     "text": [
      "100% (28 of 28) |########################| Elapsed Time: 0:00:15 Time:  0:00:15\n",
      "  0% (0 of 28) |                         | Elapsed Time: 0:00:00 ETA:  --:--:--"
     ]
    },
    {
     "name": "stdout",
     "output_type": "stream",
     "text": [
      "Bank : โอเวอร์ซี-ไชนิสแบงกิ้งคอร์ปอเรชั่น\n"
     ]
    },
    {
     "name": "stderr",
     "output_type": "stream",
     "text": [
      "100% (28 of 28) |########################| Elapsed Time: 0:00:17 Time:  0:00:17\n",
      "  3% (1 of 28) |                         | Elapsed Time: 0:00:00 ETA:   0:00:04"
     ]
    },
    {
     "name": "stdout",
     "output_type": "stream",
     "text": [
      "Bank : เพื่อการอุตสาหกรรมแห่งประเทศญี่ปุ่น\n",
      "Skip เพื่อการอุตสาหกรรมแห่งประเทศญี่ปุ่น for year 1996\n"
     ]
    },
    {
     "name": "stderr",
     "output_type": "stream",
     "text": [
      " 25% (7 of 28) |######                   | Elapsed Time: 0:00:02 ETA:   0:00:08"
     ]
    },
    {
     "name": "stdout",
     "output_type": "stream",
     "text": [
      "Skip เพื่อการอุตสาหกรรมแห่งประเทศญี่ปุ่น for year 2002\n"
     ]
    },
    {
     "name": "stderr",
     "output_type": "stream",
     "text": [
      " 32% (9 of 28) |########                 | Elapsed Time: 0:00:03 ETA:   0:00:06"
     ]
    },
    {
     "name": "stdout",
     "output_type": "stream",
     "text": [
      "Skip เพื่อการอุตสาหกรรมแห่งประเทศญี่ปุ่น for year 2003\n",
      "Skip เพื่อการอุตสาหกรรมแห่งประเทศญี่ปุ่น for year 2004\n"
     ]
    },
    {
     "name": "stderr",
     "output_type": "stream",
     "text": [
      " 39% (11 of 28) |#########               | Elapsed Time: 0:00:03 ETA:   0:00:04"
     ]
    },
    {
     "name": "stdout",
     "output_type": "stream",
     "text": [
      "Skip เพื่อการอุตสาหกรรมแห่งประเทศญี่ปุ่น for year 2005\n",
      "Skip เพื่อการอุตสาหกรรมแห่งประเทศญี่ปุ่น for year 2006\n"
     ]
    },
    {
     "name": "stderr",
     "output_type": "stream",
     "text": [
      " 46% (13 of 28) |###########             | Elapsed Time: 0:00:03 ETA:   0:00:03"
     ]
    },
    {
     "name": "stdout",
     "output_type": "stream",
     "text": [
      "Skip เพื่อการอุตสาหกรรมแห่งประเทศญี่ปุ่น for year 2007\n",
      "Skip เพื่อการอุตสาหกรรมแห่งประเทศญี่ปุ่น for year 2008\n"
     ]
    },
    {
     "name": "stderr",
     "output_type": "stream",
     "text": [
      " 53% (15 of 28) |############            | Elapsed Time: 0:00:03 ETA:   0:00:02"
     ]
    },
    {
     "name": "stdout",
     "output_type": "stream",
     "text": [
      "Skip เพื่อการอุตสาหกรรมแห่งประเทศญี่ปุ่น for year 2009\n",
      "Skip เพื่อการอุตสาหกรรมแห่งประเทศญี่ปุ่น for year 2010\n"
     ]
    },
    {
     "name": "stderr",
     "output_type": "stream",
     "text": [
      " 60% (17 of 28) |##############          | Elapsed Time: 0:00:04 ETA:   0:00:02"
     ]
    },
    {
     "name": "stdout",
     "output_type": "stream",
     "text": [
      "Skip เพื่อการอุตสาหกรรมแห่งประเทศญี่ปุ่น for year 2011\n",
      "Skip เพื่อการอุตสาหกรรมแห่งประเทศญี่ปุ่น for year 2012\n"
     ]
    },
    {
     "name": "stderr",
     "output_type": "stream",
     "text": [
      " 67% (19 of 28) |################        | Elapsed Time: 0:00:04 ETA:   0:00:01"
     ]
    },
    {
     "name": "stdout",
     "output_type": "stream",
     "text": [
      "Skip เพื่อการอุตสาหกรรมแห่งประเทศญี่ปุ่น for year 2013\n",
      "Skip เพื่อการอุตสาหกรรมแห่งประเทศญี่ปุ่น for year 2014\n"
     ]
    },
    {
     "name": "stderr",
     "output_type": "stream",
     "text": [
      " 75% (21 of 28) |##################      | Elapsed Time: 0:00:04 ETA:   0:00:01"
     ]
    },
    {
     "name": "stdout",
     "output_type": "stream",
     "text": [
      "Skip เพื่อการอุตสาหกรรมแห่งประเทศญี่ปุ่น for year 2015\n",
      "Skip เพื่อการอุตสาหกรรมแห่งประเทศญี่ปุ่น for year 2016\n"
     ]
    },
    {
     "name": "stderr",
     "output_type": "stream",
     "text": [
      " 82% (23 of 28) |###################     | Elapsed Time: 0:00:05 ETA:   0:00:00"
     ]
    },
    {
     "name": "stdout",
     "output_type": "stream",
     "text": [
      "Skip เพื่อการอุตสาหกรรมแห่งประเทศญี่ปุ่น for year 2017\n",
      "Skip เพื่อการอุตสาหกรรมแห่งประเทศญี่ปุ่น for year 2018\n"
     ]
    },
    {
     "name": "stderr",
     "output_type": "stream",
     "text": [
      " 89% (25 of 28) |#####################   | Elapsed Time: 0:00:05 ETA:   0:00:00"
     ]
    },
    {
     "name": "stdout",
     "output_type": "stream",
     "text": [
      "Skip เพื่อการอุตสาหกรรมแห่งประเทศญี่ปุ่น for year 2019\n",
      "Skip เพื่อการอุตสาหกรรมแห่งประเทศญี่ปุ่น for year 2020\n"
     ]
    },
    {
     "name": "stderr",
     "output_type": "stream",
     "text": [
      " 96% (27 of 28) |####################### | Elapsed Time: 0:00:05 ETA:   0:00:00"
     ]
    },
    {
     "name": "stdout",
     "output_type": "stream",
     "text": [
      "Skip เพื่อการอุตสาหกรรมแห่งประเทศญี่ปุ่น for year 2021\n",
      "Skip เพื่อการอุตสาหกรรมแห่งประเทศญี่ปุ่น for year 2022\n"
     ]
    },
    {
     "name": "stderr",
     "output_type": "stream",
     "text": [
      "100% (28 of 28) |########################| Elapsed Time: 0:00:06 Time:  0:00:06\n",
      "  3% (1 of 28) |                         | Elapsed Time: 0:00:00 ETA:   0:00:03"
     ]
    },
    {
     "name": "stdout",
     "output_type": "stream",
     "text": [
      "Skip เพื่อการอุตสาหกรรมแห่งประเทศญี่ปุ่น for year 2023\n",
      "Bank : ซูมิโตโม\n",
      "Skip ซูมิโตโม for year 1996\n"
     ]
    },
    {
     "name": "stderr",
     "output_type": "stream",
     "text": [
      " 25% (7 of 28) |######                   | Elapsed Time: 0:00:02 ETA:   0:00:07"
     ]
    },
    {
     "name": "stdout",
     "output_type": "stream",
     "text": [
      "Skip ซูมิโตโม for year 2002\n"
     ]
    },
    {
     "name": "stderr",
     "output_type": "stream",
     "text": [
      " 32% (9 of 28) |########                 | Elapsed Time: 0:00:02 ETA:   0:00:05"
     ]
    },
    {
     "name": "stdout",
     "output_type": "stream",
     "text": [
      "Skip ซูมิโตโม for year 2003\n",
      "Skip ซูมิโตโม for year 2004\n"
     ]
    },
    {
     "name": "stderr",
     "output_type": "stream",
     "text": [
      " 39% (11 of 28) |#########               | Elapsed Time: 0:00:02 ETA:   0:00:04"
     ]
    },
    {
     "name": "stdout",
     "output_type": "stream",
     "text": [
      "Skip ซูมิโตโม for year 2005\n",
      "Skip ซูมิโตโม for year 2006\n"
     ]
    },
    {
     "name": "stderr",
     "output_type": "stream",
     "text": [
      " 46% (13 of 28) |###########             | Elapsed Time: 0:00:03 ETA:   0:00:03"
     ]
    },
    {
     "name": "stdout",
     "output_type": "stream",
     "text": [
      "Skip ซูมิโตโม for year 2007\n",
      "Skip ซูมิโตโม for year 2008\n"
     ]
    },
    {
     "name": "stderr",
     "output_type": "stream",
     "text": [
      "\r\n",
      " 50% (14 of 28) |############            | Elapsed Time: 0:00:03 ETA:   0:00:03"
     ]
    },
    {
     "name": "stdout",
     "output_type": "stream",
     "text": [
      "Skip ซูมิโตโม for year 2009\n"
     ]
    },
    {
     "name": "stderr",
     "output_type": "stream",
     "text": [
      "\r\n",
      " 53% (15 of 28) |############            | Elapsed Time: 0:00:03 ETA:   0:00:02"
     ]
    },
    {
     "name": "stdout",
     "output_type": "stream",
     "text": [
      "Skip ซูมิโตโม for year 2010\n",
      "Skip ซูมิโตโม for year 2011\n"
     ]
    },
    {
     "name": "stderr",
     "output_type": "stream",
     "text": [
      " 60% (17 of 28) |##############          | Elapsed Time: 0:00:04 ETA:   0:00:02"
     ]
    },
    {
     "name": "stdout",
     "output_type": "stream",
     "text": [
      "Skip ซูมิโตโม for year 2012\n"
     ]
    },
    {
     "name": "stderr",
     "output_type": "stream",
     "text": [
      " 67% (19 of 28) |################        | Elapsed Time: 0:00:04 ETA:   0:00:01"
     ]
    },
    {
     "name": "stdout",
     "output_type": "stream",
     "text": [
      "Skip ซูมิโตโม for year 2013\n",
      "Skip ซูมิโตโม for year 2014\n"
     ]
    },
    {
     "name": "stderr",
     "output_type": "stream",
     "text": [
      "\r\n",
      " 71% (20 of 28) |#################       | Elapsed Time: 0:00:04 ETA:   0:00:01"
     ]
    },
    {
     "name": "stdout",
     "output_type": "stream",
     "text": [
      "Skip ซูมิโตโม for year 2015\n"
     ]
    },
    {
     "name": "stderr",
     "output_type": "stream",
     "text": [
      " 78% (22 of 28) |##################      | Elapsed Time: 0:00:04 ETA:   0:00:01"
     ]
    },
    {
     "name": "stdout",
     "output_type": "stream",
     "text": [
      "Skip ซูมิโตโม for year 2016\n",
      "Skip ซูมิโตโม for year 2017\n"
     ]
    },
    {
     "name": "stderr",
     "output_type": "stream",
     "text": [
      " 85% (24 of 28) |####################    | Elapsed Time: 0:00:05 ETA:   0:00:00"
     ]
    },
    {
     "name": "stdout",
     "output_type": "stream",
     "text": [
      "Skip ซูมิโตโม for year 2018\n",
      "Skip ซูมิโตโม for year 2019\n"
     ]
    },
    {
     "name": "stderr",
     "output_type": "stream",
     "text": [
      " 92% (26 of 28) |######################  | Elapsed Time: 0:00:05 ETA:   0:00:00"
     ]
    },
    {
     "name": "stdout",
     "output_type": "stream",
     "text": [
      "Skip ซูมิโตโม for year 2020\n",
      "Skip ซูมิโตโม for year 2021\n"
     ]
    },
    {
     "name": "stderr",
     "output_type": "stream",
     "text": [
      "100% (28 of 28) |########################| Elapsed Time: 0:00:05 Time:  0:00:05\n",
      "  0% (0 of 28) |                         | Elapsed Time: 0:00:00 ETA:  --:--:--"
     ]
    },
    {
     "name": "stdout",
     "output_type": "stream",
     "text": [
      "Skip ซูมิโตโม for year 2022\n",
      "Skip ซูมิโตโม for year 2023\n",
      "Bank : แห่งประเทศจีน\n"
     ]
    },
    {
     "name": "stderr",
     "output_type": "stream",
     "text": [
      "\r\n",
      "  3% (1 of 28) |                         | Elapsed Time: 0:00:00 ETA:   0:00:05"
     ]
    },
    {
     "name": "stdout",
     "output_type": "stream",
     "text": [
      "Skip แห่งประเทศจีน for year 1996\n"
     ]
    },
    {
     "name": "stderr",
     "output_type": "stream",
     "text": [
      "100% (28 of 28) |########################| Elapsed Time: 0:00:17 Time:  0:00:17\n",
      "  0% (0 of 28) |                         | Elapsed Time: 0:00:00 ETA:  --:--:--"
     ]
    },
    {
     "name": "stdout",
     "output_type": "stream",
     "text": [
      "Bank : ได-อิจิ คังเงียว\n"
     ]
    },
    {
     "name": "stderr",
     "output_type": "stream",
     "text": [
      "\r\n",
      "  3% (1 of 28) |                         | Elapsed Time: 0:00:00 ETA:   0:00:08"
     ]
    },
    {
     "name": "stdout",
     "output_type": "stream",
     "text": [
      "Skip ได-อิจิ คังเงียว for year 1996\n"
     ]
    },
    {
     "name": "stderr",
     "output_type": "stream",
     "text": [
      "100% (28 of 28) |########################| Elapsed Time: 0:00:17 Time:  0:00:17\n",
      "  0% (0 of 28) |                         | Elapsed Time: 0:00:00 ETA:  --:--:--"
     ]
    },
    {
     "name": "stdout",
     "output_type": "stream",
     "text": [
      "Bank : มิซูโฮ\n"
     ]
    },
    {
     "name": "stderr",
     "output_type": "stream",
     "text": [
      "\r\n",
      "  3% (1 of 28) |                         | Elapsed Time: 0:00:00 ETA:   0:00:05"
     ]
    },
    {
     "name": "stdout",
     "output_type": "stream",
     "text": [
      "Skip มิซูโฮ for year 1996\n"
     ]
    },
    {
     "name": "stderr",
     "output_type": "stream",
     "text": [
      "100% (28 of 28) |########################| Elapsed Time: 0:00:15 Time:  0:00:15\n",
      "  0% (0 of 28) |                         | Elapsed Time: 0:00:00 ETA:  --:--:--"
     ]
    },
    {
     "name": "stdout",
     "output_type": "stream",
     "text": [
      "Bank : มิซูโฮ คอร์ปอเรต\n"
     ]
    },
    {
     "name": "stderr",
     "output_type": "stream",
     "text": [
      "\r\n",
      "  3% (1 of 28) |                         | Elapsed Time: 0:00:00 ETA:   0:00:10"
     ]
    },
    {
     "name": "stdout",
     "output_type": "stream",
     "text": [
      "Skip มิซูโฮ คอร์ปอเรต for year 1996\n"
     ]
    },
    {
     "name": "stderr",
     "output_type": "stream",
     "text": [
      "100% (28 of 28) |########################| Elapsed Time: 0:00:15 Time:  0:00:15\n",
      "  3% (1 of 28) |                         | Elapsed Time: 0:00:00 ETA:   0:00:05"
     ]
    },
    {
     "name": "stdout",
     "output_type": "stream",
     "text": [
      "Bank : เดรสต์เนอร์ เอจี\n",
      "Skip เดรสต์เนอร์ เอจี for year 1996\n"
     ]
    },
    {
     "name": "stderr",
     "output_type": "stream",
     "text": [
      " 28% (8 of 28) |#######                  | Elapsed Time: 0:00:02 ETA:   0:00:06"
     ]
    },
    {
     "name": "stdout",
     "output_type": "stream",
     "text": [
      "Skip เดรสต์เนอร์ เอจี for year 2002\n",
      "Skip เดรสต์เนอร์ เอจี for year 2003\n"
     ]
    },
    {
     "name": "stderr",
     "output_type": "stream",
     "text": [
      "\r\n",
      " 32% (9 of 28) |########                 | Elapsed Time: 0:00:02 ETA:   0:00:06"
     ]
    },
    {
     "name": "stdout",
     "output_type": "stream",
     "text": [
      "Skip เดรสต์เนอร์ เอจี for year 2004\n"
     ]
    },
    {
     "name": "stderr",
     "output_type": "stream",
     "text": [
      "\r\n",
      " 35% (10 of 28) |########                | Elapsed Time: 0:00:02 ETA:   0:00:05"
     ]
    },
    {
     "name": "stdout",
     "output_type": "stream",
     "text": [
      "Skip เดรสต์เนอร์ เอจี for year 2005\n"
     ]
    },
    {
     "name": "stderr",
     "output_type": "stream",
     "text": [
      "\r\n",
      " 39% (11 of 28) |#########               | Elapsed Time: 0:00:03 ETA:   0:00:04"
     ]
    },
    {
     "name": "stdout",
     "output_type": "stream",
     "text": [
      "Skip เดรสต์เนอร์ เอจี for year 2006\n"
     ]
    },
    {
     "name": "stderr",
     "output_type": "stream",
     "text": [
      " 46% (13 of 28) |###########             | Elapsed Time: 0:00:03 ETA:   0:00:03"
     ]
    },
    {
     "name": "stdout",
     "output_type": "stream",
     "text": [
      "Skip เดรสต์เนอร์ เอจี for year 2007\n",
      "Skip เดรสต์เนอร์ เอจี for year 2008\n"
     ]
    },
    {
     "name": "stderr",
     "output_type": "stream",
     "text": [
      "\r\n",
      " 50% (14 of 28) |############            | Elapsed Time: 0:00:03 ETA:   0:00:03"
     ]
    },
    {
     "name": "stdout",
     "output_type": "stream",
     "text": [
      "Skip เดรสต์เนอร์ เอจี for year 2009\n"
     ]
    },
    {
     "name": "stderr",
     "output_type": "stream",
     "text": [
      "\r\n",
      " 53% (15 of 28) |############            | Elapsed Time: 0:00:03 ETA:   0:00:02"
     ]
    },
    {
     "name": "stdout",
     "output_type": "stream",
     "text": [
      "Skip เดรสต์เนอร์ เอจี for year 2010\n"
     ]
    },
    {
     "name": "stderr",
     "output_type": "stream",
     "text": [
      " 60% (17 of 28) |##############          | Elapsed Time: 0:00:04 ETA:   0:00:02"
     ]
    },
    {
     "name": "stdout",
     "output_type": "stream",
     "text": [
      "Skip เดรสต์เนอร์ เอจี for year 2011\n",
      "Skip เดรสต์เนอร์ เอจี for year 2012\n"
     ]
    },
    {
     "name": "stderr",
     "output_type": "stream",
     "text": [
      " 67% (19 of 28) |################        | Elapsed Time: 0:00:04 ETA:   0:00:01"
     ]
    },
    {
     "name": "stdout",
     "output_type": "stream",
     "text": [
      "Skip เดรสต์เนอร์ เอจี for year 2013\n",
      "Skip เดรสต์เนอร์ เอจี for year 2014\n"
     ]
    },
    {
     "name": "stderr",
     "output_type": "stream",
     "text": [
      " 75% (21 of 28) |##################      | Elapsed Time: 0:00:05 ETA:   0:00:01"
     ]
    },
    {
     "name": "stdout",
     "output_type": "stream",
     "text": [
      "Skip เดรสต์เนอร์ เอจี for year 2015\n",
      "Skip เดรสต์เนอร์ เอจี for year 2016\n"
     ]
    },
    {
     "name": "stderr",
     "output_type": "stream",
     "text": [
      "\r\n",
      " 78% (22 of 28) |##################      | Elapsed Time: 0:00:05 ETA:   0:00:01"
     ]
    },
    {
     "name": "stdout",
     "output_type": "stream",
     "text": [
      "Skip เดรสต์เนอร์ เอจี for year 2017\n"
     ]
    },
    {
     "name": "stderr",
     "output_type": "stream",
     "text": [
      " 85% (24 of 28) |####################    | Elapsed Time: 0:00:05 ETA:   0:00:00"
     ]
    },
    {
     "name": "stdout",
     "output_type": "stream",
     "text": [
      "Skip เดรสต์เนอร์ เอจี for year 2018\n",
      "Skip เดรสต์เนอร์ เอจี for year 2019\n"
     ]
    },
    {
     "name": "stderr",
     "output_type": "stream",
     "text": [
      " 92% (26 of 28) |######################  | Elapsed Time: 0:00:06 ETA:   0:00:00"
     ]
    },
    {
     "name": "stdout",
     "output_type": "stream",
     "text": [
      "Skip เดรสต์เนอร์ เอจี for year 2020\n",
      "Skip เดรสต์เนอร์ เอจี for year 2021\n"
     ]
    },
    {
     "name": "stderr",
     "output_type": "stream",
     "text": [
      "100% (28 of 28) |########################| Elapsed Time: 0:00:06 Time:  0:00:06\n",
      "  0% (0 of 28) |                         | Elapsed Time: 0:00:00 ETA:  --:--:--"
     ]
    },
    {
     "name": "stdout",
     "output_type": "stream",
     "text": [
      "Skip เดรสต์เนอร์ เอจี for year 2022\n",
      "Skip เดรสต์เนอร์ เอจี for year 2023\n",
      "Bank : แห่งโนวาสโกเทีย\n"
     ]
    },
    {
     "name": "stderr",
     "output_type": "stream",
     "text": [
      "\r\n",
      "  3% (1 of 28) |                         | Elapsed Time: 0:00:00 ETA:   0:00:06"
     ]
    },
    {
     "name": "stdout",
     "output_type": "stream",
     "text": [
      "Skip แห่งโนวาสโกเทีย for year 1996\n"
     ]
    },
    {
     "name": "stderr",
     "output_type": "stream",
     "text": [
      "\r\n",
      "  7% (2 of 28) |#                        | Elapsed Time: 0:00:00 ETA:   0:00:05"
     ]
    },
    {
     "name": "stdout",
     "output_type": "stream",
     "text": [
      "Skip แห่งโนวาสโกเทีย for year 1997\n"
     ]
    },
    {
     "name": "stderr",
     "output_type": "stream",
     "text": [
      " 50% (14 of 28) |############            | Elapsed Time: 0:00:06 ETA:   0:00:06"
     ]
    },
    {
     "name": "stdout",
     "output_type": "stream",
     "text": [
      "Skip แห่งโนวาสโกเทีย for year 2008\n",
      "Skip แห่งโนวาสโกเทีย for year 2009\n"
     ]
    },
    {
     "name": "stderr",
     "output_type": "stream",
     "text": [
      "\r\n",
      " 53% (15 of 28) |############            | Elapsed Time: 0:00:06 ETA:   0:00:05"
     ]
    },
    {
     "name": "stdout",
     "output_type": "stream",
     "text": [
      "Skip แห่งโนวาสโกเทีย for year 2010\n"
     ]
    },
    {
     "name": "stderr",
     "output_type": "stream",
     "text": [
      "\r\n",
      " 57% (16 of 28) |#############           | Elapsed Time: 0:00:06 ETA:   0:00:04"
     ]
    },
    {
     "name": "stdout",
     "output_type": "stream",
     "text": [
      "Skip แห่งโนวาสโกเทีย for year 2011\n"
     ]
    },
    {
     "name": "stderr",
     "output_type": "stream",
     "text": [
      "\r\n",
      " 60% (17 of 28) |##############          | Elapsed Time: 0:00:06 ETA:   0:00:03"
     ]
    },
    {
     "name": "stdout",
     "output_type": "stream",
     "text": [
      "Skip แห่งโนวาสโกเทีย for year 2012\n"
     ]
    },
    {
     "name": "stderr",
     "output_type": "stream",
     "text": [
      "\r\n",
      " 64% (18 of 28) |###############         | Elapsed Time: 0:00:07 ETA:   0:00:03"
     ]
    },
    {
     "name": "stdout",
     "output_type": "stream",
     "text": [
      "Skip แห่งโนวาสโกเทีย for year 2013\n"
     ]
    },
    {
     "name": "stderr",
     "output_type": "stream",
     "text": [
      "\r\n",
      " 67% (19 of 28) |################        | Elapsed Time: 0:00:07 ETA:   0:00:02"
     ]
    },
    {
     "name": "stdout",
     "output_type": "stream",
     "text": [
      "Skip แห่งโนวาสโกเทีย for year 2014\n"
     ]
    },
    {
     "name": "stderr",
     "output_type": "stream",
     "text": [
      "\r\n",
      " 71% (20 of 28) |#################       | Elapsed Time: 0:00:08 ETA:   0:00:02"
     ]
    },
    {
     "name": "stdout",
     "output_type": "stream",
     "text": [
      "Skip แห่งโนวาสโกเทีย for year 2015\n"
     ]
    },
    {
     "name": "stderr",
     "output_type": "stream",
     "text": [
      "\r\n",
      " 75% (21 of 28) |##################      | Elapsed Time: 0:00:08 ETA:   0:00:02"
     ]
    },
    {
     "name": "stdout",
     "output_type": "stream",
     "text": [
      "Skip แห่งโนวาสโกเทีย for year 2016\n"
     ]
    },
    {
     "name": "stderr",
     "output_type": "stream",
     "text": [
      "\r\n",
      " 78% (22 of 28) |##################      | Elapsed Time: 0:00:08 ETA:   0:00:02"
     ]
    },
    {
     "name": "stdout",
     "output_type": "stream",
     "text": [
      "Skip แห่งโนวาสโกเทีย for year 2017\n",
      "Skip แห่งโนวาสโกเทีย for year 2018\n"
     ]
    },
    {
     "name": "stderr",
     "output_type": "stream",
     "text": [
      " 85% (24 of 28) |####################    | Elapsed Time: 0:00:09 ETA:   0:00:01"
     ]
    },
    {
     "name": "stdout",
     "output_type": "stream",
     "text": [
      "Skip แห่งโนวาสโกเทีย for year 2019\n"
     ]
    },
    {
     "name": "stderr",
     "output_type": "stream",
     "text": [
      "\r\n",
      " 89% (25 of 28) |#####################   | Elapsed Time: 0:00:09 ETA:   0:00:00"
     ]
    },
    {
     "name": "stdout",
     "output_type": "stream",
     "text": [
      "Skip แห่งโนวาสโกเทีย for year 2020\n"
     ]
    },
    {
     "name": "stderr",
     "output_type": "stream",
     "text": [
      " 96% (27 of 28) |####################### | Elapsed Time: 0:00:09 ETA:   0:00:00"
     ]
    },
    {
     "name": "stdout",
     "output_type": "stream",
     "text": [
      "Skip แห่งโนวาสโกเทีย for year 2021\n",
      "Skip แห่งโนวาสโกเทีย for year 2022\n"
     ]
    },
    {
     "name": "stderr",
     "output_type": "stream",
     "text": [
      "100% (28 of 28) |########################| Elapsed Time: 0:00:10 Time:  0:00:10\n",
      "  0% (0 of 28) |                         | Elapsed Time: 0:00:00 ETA:  --:--:--"
     ]
    },
    {
     "name": "stdout",
     "output_type": "stream",
     "text": [
      "Skip แห่งโนวาสโกเทีย for year 2023\n",
      "Bank : บีเอ็นพี พารีบาส์\n"
     ]
    },
    {
     "name": "stderr",
     "output_type": "stream",
     "text": [
      "\r\n",
      "  3% (1 of 28) |                         | Elapsed Time: 0:00:00 ETA:   0:00:12"
     ]
    },
    {
     "name": "stdout",
     "output_type": "stream",
     "text": [
      "Skip บีเอ็นพี พารีบาส์ for year 1996\n"
     ]
    },
    {
     "name": "stderr",
     "output_type": "stream",
     "text": [
      "\r\n",
      "  7% (2 of 28) |#                        | Elapsed Time: 0:00:00 ETA:   0:00:09"
     ]
    },
    {
     "name": "stdout",
     "output_type": "stream",
     "text": [
      "Skip บีเอ็นพี พารีบาส์ for year 1997\n"
     ]
    },
    {
     "name": "stderr",
     "output_type": "stream",
     "text": [
      "\r\n",
      " 10% (3 of 28) |##                       | Elapsed Time: 0:00:00 ETA:   0:00:08"
     ]
    },
    {
     "name": "stdout",
     "output_type": "stream",
     "text": [
      "Skip บีเอ็นพี พารีบาส์ for year 1998\n"
     ]
    },
    {
     "name": "stderr",
     "output_type": "stream",
     "text": [
      "100% (28 of 28) |########################| Elapsed Time: 0:00:18 Time:  0:00:18\n",
      "  0% (0 of 28) |                         | Elapsed Time: 0:00:00 ETA:  --:--:--"
     ]
    },
    {
     "name": "stdout",
     "output_type": "stream",
     "text": [
      "Bank : ธนชาต\n"
     ]
    },
    {
     "name": "stderr",
     "output_type": "stream",
     "text": [
      "\r\n",
      "  3% (1 of 28) |                         | Elapsed Time: 0:00:00 ETA:   0:00:05"
     ]
    },
    {
     "name": "stdout",
     "output_type": "stream",
     "text": [
      "Skip ธนชาต for year 1996\n"
     ]
    },
    {
     "name": "stderr",
     "output_type": "stream",
     "text": [
      " 10% (3 of 28) |##                       | Elapsed Time: 0:00:00 ETA:   0:00:05"
     ]
    },
    {
     "name": "stdout",
     "output_type": "stream",
     "text": [
      "Skip ธนชาต for year 1997\n",
      "Skip ธนชาต for year 1998\n"
     ]
    },
    {
     "name": "stderr",
     "output_type": "stream",
     "text": [
      " 17% (5 of 28) |####                     | Elapsed Time: 0:00:01 ETA:   0:00:04"
     ]
    },
    {
     "name": "stdout",
     "output_type": "stream",
     "text": [
      "Skip ธนชาต for year 1999\n",
      "Skip ธนชาต for year 2000\n"
     ]
    },
    {
     "name": "stderr",
     "output_type": "stream",
     "text": [
      "\r\n",
      " 21% (6 of 28) |#####                    | Elapsed Time: 0:00:01 ETA:   0:00:04"
     ]
    },
    {
     "name": "stdout",
     "output_type": "stream",
     "text": [
      "Skip ธนชาต for year 2001\n"
     ]
    },
    {
     "name": "stderr",
     "output_type": "stream",
     "text": [
      "\r\n",
      " 25% (7 of 28) |######                   | Elapsed Time: 0:00:01 ETA:   0:00:04"
     ]
    },
    {
     "name": "stdout",
     "output_type": "stream",
     "text": [
      "Skip ธนชาต for year 2002\n"
     ]
    },
    {
     "name": "stderr",
     "output_type": "stream",
     "text": [
      "\r\n",
      " 28% (8 of 28) |#######                  | Elapsed Time: 0:00:01 ETA:   0:00:04"
     ]
    },
    {
     "name": "stdout",
     "output_type": "stream",
     "text": [
      "Skip ธนชาต for year 2003\n"
     ]
    },
    {
     "name": "stderr",
     "output_type": "stream",
     "text": [
      "\r\n",
      " 32% (9 of 28) |########                 | Elapsed Time: 0:00:02 ETA:   0:00:04"
     ]
    },
    {
     "name": "stdout",
     "output_type": "stream",
     "text": [
      "Skip ธนชาต for year 2004\n"
     ]
    },
    {
     "name": "stderr",
     "output_type": "stream",
     "text": [
      " 96% (27 of 28) |####################### | Elapsed Time: 0:00:14 ETA:   0:00:00"
     ]
    },
    {
     "name": "stdout",
     "output_type": "stream",
     "text": [
      "Skip ธนชาต for year 2022\n"
     ]
    },
    {
     "name": "stderr",
     "output_type": "stream",
     "text": [
      "100% (28 of 28) |########################| Elapsed Time: 0:00:14 Time:  0:00:14\n",
      "  0% (0 of 28) |                         | Elapsed Time: 0:00:00 ETA:  --:--:--"
     ]
    },
    {
     "name": "stdout",
     "output_type": "stream",
     "text": [
      "Skip ธนชาต for year 2023\n",
      "Bank : กรุงเทพฯ พาณิชยการ\n"
     ]
    },
    {
     "name": "stderr",
     "output_type": "stream",
     "text": [
      " 17% (5 of 28) |####                     | Elapsed Time: 0:00:01 ETA:   0:00:06"
     ]
    },
    {
     "name": "stdout",
     "output_type": "stream",
     "text": [
      "Skip กรุงเทพฯ พาณิชยการ for year 1999\n",
      "Skip กรุงเทพฯ พาณิชยการ for year 2000\n"
     ]
    },
    {
     "name": "stderr",
     "output_type": "stream",
     "text": [
      "\r\n",
      " 21% (6 of 28) |#####                    | Elapsed Time: 0:00:01 ETA:   0:00:05"
     ]
    },
    {
     "name": "stdout",
     "output_type": "stream",
     "text": [
      "Skip กรุงเทพฯ พาณิชยการ for year 2001\n"
     ]
    },
    {
     "name": "stderr",
     "output_type": "stream",
     "text": [
      " 28% (8 of 28) |#######                  | Elapsed Time: 0:00:01 ETA:   0:00:04"
     ]
    },
    {
     "name": "stdout",
     "output_type": "stream",
     "text": [
      "Skip กรุงเทพฯ พาณิชยการ for year 2002\n",
      "Skip กรุงเทพฯ พาณิชยการ for year 2003\n"
     ]
    },
    {
     "name": "stderr",
     "output_type": "stream",
     "text": [
      "\r\n",
      " 32% (9 of 28) |########                 | Elapsed Time: 0:00:02 ETA:   0:00:04"
     ]
    },
    {
     "name": "stdout",
     "output_type": "stream",
     "text": [
      "Skip กรุงเทพฯ พาณิชยการ for year 2004\n"
     ]
    },
    {
     "name": "stderr",
     "output_type": "stream",
     "text": [
      "\r\n",
      " 35% (10 of 28) |########                | Elapsed Time: 0:00:02 ETA:   0:00:04"
     ]
    },
    {
     "name": "stdout",
     "output_type": "stream",
     "text": [
      "Skip กรุงเทพฯ พาณิชยการ for year 2005\n"
     ]
    },
    {
     "name": "stderr",
     "output_type": "stream",
     "text": [
      " 42% (12 of 28) |##########              | Elapsed Time: 0:00:02 ETA:   0:00:03"
     ]
    },
    {
     "name": "stdout",
     "output_type": "stream",
     "text": [
      "Skip กรุงเทพฯ พาณิชยการ for year 2006\n",
      "Skip กรุงเทพฯ พาณิชยการ for year 2007\n"
     ]
    },
    {
     "name": "stderr",
     "output_type": "stream",
     "text": [
      " 50% (14 of 28) |############            | Elapsed Time: 0:00:03 ETA:   0:00:02"
     ]
    },
    {
     "name": "stdout",
     "output_type": "stream",
     "text": [
      "Skip กรุงเทพฯ พาณิชยการ for year 2008\n",
      "Skip กรุงเทพฯ พาณิชยการ for year 2009\n"
     ]
    },
    {
     "name": "stderr",
     "output_type": "stream",
     "text": [
      "\r\n",
      " 53% (15 of 28) |############            | Elapsed Time: 0:00:03 ETA:   0:00:02"
     ]
    },
    {
     "name": "stdout",
     "output_type": "stream",
     "text": [
      "Skip กรุงเทพฯ พาณิชยการ for year 2010\n",
      "Skip กรุงเทพฯ พาณิชยการ for year 2011\n"
     ]
    },
    {
     "name": "stderr",
     "output_type": "stream",
     "text": [
      " 60% (17 of 28) |##############          | Elapsed Time: 0:00:03 ETA:   0:00:02"
     ]
    },
    {
     "name": "stdout",
     "output_type": "stream",
     "text": [
      "Skip กรุงเทพฯ พาณิชยการ for year 2012\n"
     ]
    },
    {
     "name": "stderr",
     "output_type": "stream",
     "text": [
      " 67% (19 of 28) |################        | Elapsed Time: 0:00:04 ETA:   0:00:01"
     ]
    },
    {
     "name": "stdout",
     "output_type": "stream",
     "text": [
      "Skip กรุงเทพฯ พาณิชยการ for year 2013\n",
      "Skip กรุงเทพฯ พาณิชยการ for year 2014\n"
     ]
    },
    {
     "name": "stderr",
     "output_type": "stream",
     "text": [
      " 75% (21 of 28) |##################      | Elapsed Time: 0:00:04 ETA:   0:00:01"
     ]
    },
    {
     "name": "stdout",
     "output_type": "stream",
     "text": [
      "Skip กรุงเทพฯ พาณิชยการ for year 2015\n",
      "Skip กรุงเทพฯ พาณิชยการ for year 2016\n"
     ]
    },
    {
     "name": "stderr",
     "output_type": "stream",
     "text": [
      " 82% (23 of 28) |###################     | Elapsed Time: 0:00:04 ETA:   0:00:00"
     ]
    },
    {
     "name": "stdout",
     "output_type": "stream",
     "text": [
      "Skip กรุงเทพฯ พาณิชยการ for year 2017\n",
      "Skip กรุงเทพฯ พาณิชยการ for year 2018\n"
     ]
    },
    {
     "name": "stderr",
     "output_type": "stream",
     "text": [
      " 89% (25 of 28) |#####################   | Elapsed Time: 0:00:05 ETA:   0:00:00"
     ]
    },
    {
     "name": "stdout",
     "output_type": "stream",
     "text": [
      "Skip กรุงเทพฯ พาณิชยการ for year 2019\n",
      "Skip กรุงเทพฯ พาณิชยการ for year 2020\n"
     ]
    },
    {
     "name": "stderr",
     "output_type": "stream",
     "text": [
      " 96% (27 of 28) |####################### | Elapsed Time: 0:00:05 ETA:   0:00:00"
     ]
    },
    {
     "name": "stdout",
     "output_type": "stream",
     "text": [
      "Skip กรุงเทพฯ พาณิชยการ for year 2021\n",
      "Skip กรุงเทพฯ พาณิชยการ for year 2022\n"
     ]
    },
    {
     "name": "stderr",
     "output_type": "stream",
     "text": [
      "100% (28 of 28) |########################| Elapsed Time: 0:00:05 Time:  0:00:05\n",
      "  0% (0 of 28) |                         | Elapsed Time: 0:00:00 ETA:  --:--:--"
     ]
    },
    {
     "name": "stdout",
     "output_type": "stream",
     "text": [
      "Skip กรุงเทพฯ พาณิชยการ for year 2023\n",
      "Bank : ทิสโก้\n"
     ]
    },
    {
     "name": "stderr",
     "output_type": "stream",
     "text": [
      "\r\n",
      "  3% (1 of 28) |                         | Elapsed Time: 0:00:00 ETA:   0:00:06"
     ]
    },
    {
     "name": "stdout",
     "output_type": "stream",
     "text": [
      "Skip ทิสโก้ for year 1996\n"
     ]
    },
    {
     "name": "stderr",
     "output_type": "stream",
     "text": [
      "\r\n",
      "  7% (2 of 28) |#                        | Elapsed Time: 0:00:00 ETA:   0:00:05"
     ]
    },
    {
     "name": "stdout",
     "output_type": "stream",
     "text": [
      "Skip ทิสโก้ for year 1997\n"
     ]
    },
    {
     "name": "stderr",
     "output_type": "stream",
     "text": [
      "\r\n",
      " 10% (3 of 28) |##                       | Elapsed Time: 0:00:00 ETA:   0:00:05"
     ]
    },
    {
     "name": "stdout",
     "output_type": "stream",
     "text": [
      "Skip ทิสโก้ for year 1998\n"
     ]
    },
    {
     "name": "stderr",
     "output_type": "stream",
     "text": [
      "\r\n",
      " 14% (4 of 28) |###                      | Elapsed Time: 0:00:00 ETA:   0:00:05"
     ]
    },
    {
     "name": "stdout",
     "output_type": "stream",
     "text": [
      "Skip ทิสโก้ for year 1999\n"
     ]
    },
    {
     "name": "stderr",
     "output_type": "stream",
     "text": [
      "\r\n",
      " 17% (5 of 28) |####                     | Elapsed Time: 0:00:01 ETA:   0:00:05"
     ]
    },
    {
     "name": "stdout",
     "output_type": "stream",
     "text": [
      "Skip ทิสโก้ for year 2000\n"
     ]
    },
    {
     "name": "stderr",
     "output_type": "stream",
     "text": [
      "\r\n",
      " 21% (6 of 28) |#####                    | Elapsed Time: 0:00:01 ETA:   0:00:04"
     ]
    },
    {
     "name": "stdout",
     "output_type": "stream",
     "text": [
      "Skip ทิสโก้ for year 2001\n"
     ]
    },
    {
     "name": "stderr",
     "output_type": "stream",
     "text": [
      "\r\n",
      " 25% (7 of 28) |######                   | Elapsed Time: 0:00:01 ETA:   0:00:04"
     ]
    },
    {
     "name": "stdout",
     "output_type": "stream",
     "text": [
      "Skip ทิสโก้ for year 2002\n"
     ]
    },
    {
     "name": "stderr",
     "output_type": "stream",
     "text": [
      "\r\n",
      " 28% (8 of 28) |#######                  | Elapsed Time: 0:00:01 ETA:   0:00:04"
     ]
    },
    {
     "name": "stdout",
     "output_type": "stream",
     "text": [
      "Skip ทิสโก้ for year 2003\n"
     ]
    },
    {
     "name": "stderr",
     "output_type": "stream",
     "text": [
      "\r\n",
      " 32% (9 of 28) |########                 | Elapsed Time: 0:00:02 ETA:   0:00:04"
     ]
    },
    {
     "name": "stdout",
     "output_type": "stream",
     "text": [
      "Skip ทิสโก้ for year 2004\n"
     ]
    },
    {
     "name": "stderr",
     "output_type": "stream",
     "text": [
      "100% (28 of 28) |########################| Elapsed Time: 0:00:15 Time:  0:00:15\n",
      "  0% (0 of 28) |                         | Elapsed Time: 0:00:00 ETA:  --:--:--"
     ]
    },
    {
     "name": "stdout",
     "output_type": "stream",
     "text": [
      "Bank : มหานคร\n"
     ]
    },
    {
     "name": "stderr",
     "output_type": "stream",
     "text": [
      " 17% (5 of 28) |####                     | Elapsed Time: 0:00:01 ETA:   0:00:05"
     ]
    },
    {
     "name": "stdout",
     "output_type": "stream",
     "text": [
      "Skip มหานคร for year 1999\n",
      "Skip มหานคร for year 2000\n"
     ]
    },
    {
     "name": "stderr",
     "output_type": "stream",
     "text": [
      " 25% (7 of 28) |######                   | Elapsed Time: 0:00:01 ETA:   0:00:04"
     ]
    },
    {
     "name": "stdout",
     "output_type": "stream",
     "text": [
      "Skip มหานคร for year 2001\n",
      "Skip มหานคร for year 2002\n"
     ]
    },
    {
     "name": "stderr",
     "output_type": "stream",
     "text": [
      " 32% (9 of 28) |########                 | Elapsed Time: 0:00:02 ETA:   0:00:04"
     ]
    },
    {
     "name": "stdout",
     "output_type": "stream",
     "text": [
      "Skip มหานคร for year 2003\n",
      "Skip มหานคร for year 2004\n"
     ]
    },
    {
     "name": "stderr",
     "output_type": "stream",
     "text": [
      " 39% (11 of 28) |#########               | Elapsed Time: 0:00:02 ETA:   0:00:03"
     ]
    },
    {
     "name": "stdout",
     "output_type": "stream",
     "text": [
      "Skip มหานคร for year 2005\n",
      "Skip มหานคร for year 2006\n"
     ]
    },
    {
     "name": "stderr",
     "output_type": "stream",
     "text": [
      " 46% (13 of 28) |###########             | Elapsed Time: 0:00:02 ETA:   0:00:02"
     ]
    },
    {
     "name": "stdout",
     "output_type": "stream",
     "text": [
      "Skip มหานคร for year 2007\n",
      "Skip มหานคร for year 2008\n"
     ]
    },
    {
     "name": "stderr",
     "output_type": "stream",
     "text": [
      " 53% (15 of 28) |############            | Elapsed Time: 0:00:03 ETA:   0:00:02"
     ]
    },
    {
     "name": "stdout",
     "output_type": "stream",
     "text": [
      "Skip มหานคร for year 2009\n",
      "Skip มหานคร for year 2010\n"
     ]
    },
    {
     "name": "stderr",
     "output_type": "stream",
     "text": [
      "\r\n",
      " 57% (16 of 28) |#############           | Elapsed Time: 0:00:03 ETA:   0:00:02"
     ]
    },
    {
     "name": "stdout",
     "output_type": "stream",
     "text": [
      "Skip มหานคร for year 2011\n"
     ]
    },
    {
     "name": "stderr",
     "output_type": "stream",
     "text": [
      "\r\n",
      " 60% (17 of 28) |##############          | Elapsed Time: 0:00:03 ETA:   0:00:02"
     ]
    },
    {
     "name": "stdout",
     "output_type": "stream",
     "text": [
      "Skip มหานคร for year 2012\n"
     ]
    },
    {
     "name": "stderr",
     "output_type": "stream",
     "text": [
      " 67% (19 of 28) |################        | Elapsed Time: 0:00:03 ETA:   0:00:01"
     ]
    },
    {
     "name": "stdout",
     "output_type": "stream",
     "text": [
      "Skip มหานคร for year 2013\n",
      "Skip มหานคร for year 2014\n"
     ]
    },
    {
     "name": "stderr",
     "output_type": "stream",
     "text": [
      " 75% (21 of 28) |##################      | Elapsed Time: 0:00:04 ETA:   0:00:01"
     ]
    },
    {
     "name": "stdout",
     "output_type": "stream",
     "text": [
      "Skip มหานคร for year 2015\n",
      "Skip มหานคร for year 2016\n"
     ]
    },
    {
     "name": "stderr",
     "output_type": "stream",
     "text": [
      " 82% (23 of 28) |###################     | Elapsed Time: 0:00:04 ETA:   0:00:00"
     ]
    },
    {
     "name": "stdout",
     "output_type": "stream",
     "text": [
      "Skip มหานคร for year 2017\n",
      "Skip มหานคร for year 2018\n"
     ]
    },
    {
     "name": "stderr",
     "output_type": "stream",
     "text": [
      " 89% (25 of 28) |#####################   | Elapsed Time: 0:00:04 ETA:   0:00:00"
     ]
    },
    {
     "name": "stdout",
     "output_type": "stream",
     "text": [
      "Skip มหานคร for year 2019\n",
      "Skip มหานคร for year 2020\n"
     ]
    },
    {
     "name": "stderr",
     "output_type": "stream",
     "text": [
      " 96% (27 of 28) |####################### | Elapsed Time: 0:00:05 ETA:   0:00:00"
     ]
    },
    {
     "name": "stdout",
     "output_type": "stream",
     "text": [
      "Skip มหานคร for year 2021\n",
      "Skip มหานคร for year 2022\n"
     ]
    },
    {
     "name": "stderr",
     "output_type": "stream",
     "text": [
      "100% (28 of 28) |########################| Elapsed Time: 0:00:05 Time:  0:00:05\n",
      "  0% (0 of 28) |                         | Elapsed Time: 0:00:00 ETA:  --:--:--"
     ]
    },
    {
     "name": "stdout",
     "output_type": "stream",
     "text": [
      "Skip มหานคร for year 2023\n",
      "Bank : เมกะ สากลพาณิชย์\n"
     ]
    },
    {
     "name": "stderr",
     "output_type": "stream",
     "text": [
      "100% (28 of 28) |########################| Elapsed Time: 0:00:16 Time:  0:00:16\n",
      "  0% (0 of 28) |                         | Elapsed Time: 0:00:00 ETA:  --:--:--"
     ]
    },
    {
     "name": "stdout",
     "output_type": "stream",
     "text": [
      "Bank : สากลพาณิชย์แห่งประเทศจีน\n"
     ]
    },
    {
     "name": "stderr",
     "output_type": "stream",
     "text": [
      "100% (28 of 28) |########################| Elapsed Time: 0:00:22 Time:  0:00:22\n",
      "  3% (1 of 28) |                         | Elapsed Time: 0:00:00 ETA:   0:00:05"
     ]
    },
    {
     "name": "stdout",
     "output_type": "stream",
     "text": [
      "Bank : โซซิเยเต้ เจเนราล\n",
      "Skip โซซิเยเต้ เจเนราล for year 1996\n"
     ]
    },
    {
     "name": "stderr",
     "output_type": "stream",
     "text": [
      " 10% (3 of 28) |##                       | Elapsed Time: 0:00:00 ETA:   0:00:04"
     ]
    },
    {
     "name": "stdout",
     "output_type": "stream",
     "text": [
      "Skip โซซิเยเต้ เจเนราล for year 1997\n",
      "Skip โซซิเยเต้ เจเนราล for year 1998\n"
     ]
    },
    {
     "name": "stderr",
     "output_type": "stream",
     "text": [
      " 17% (5 of 28) |####                     | Elapsed Time: 0:00:00 ETA:   0:00:04"
     ]
    },
    {
     "name": "stdout",
     "output_type": "stream",
     "text": [
      "Skip โซซิเยเต้ เจเนราล for year 1999\n",
      "Skip โซซิเยเต้ เจเนราล for year 2000\n"
     ]
    },
    {
     "name": "stderr",
     "output_type": "stream",
     "text": [
      " 25% (7 of 28) |######                   | Elapsed Time: 0:00:01 ETA:   0:00:03"
     ]
    },
    {
     "name": "stdout",
     "output_type": "stream",
     "text": [
      "Skip โซซิเยเต้ เจเนราล for year 2001\n",
      "Skip โซซิเยเต้ เจเนราล for year 2002\n"
     ]
    },
    {
     "name": "stderr",
     "output_type": "stream",
     "text": [
      " 32% (9 of 28) |########                 | Elapsed Time: 0:00:01 ETA:   0:00:03"
     ]
    },
    {
     "name": "stdout",
     "output_type": "stream",
     "text": [
      "Skip โซซิเยเต้ เจเนราล for year 2003\n",
      "Skip โซซิเยเต้ เจเนราล for year 2004\n"
     ]
    },
    {
     "name": "stderr",
     "output_type": "stream",
     "text": [
      " 57% (16 of 28) |#############           | Elapsed Time: 0:00:04 ETA:   0:00:04"
     ]
    },
    {
     "name": "stdout",
     "output_type": "stream",
     "text": [
      "Skip โซซิเยเต้ เจเนราล for year 2010\n",
      "Skip โซซิเยเต้ เจเนราล for year 2011\n"
     ]
    },
    {
     "name": "stderr",
     "output_type": "stream",
     "text": [
      " 64% (18 of 28) |###############         | Elapsed Time: 0:00:04 ETA:   0:00:03"
     ]
    },
    {
     "name": "stdout",
     "output_type": "stream",
     "text": [
      "Skip โซซิเยเต้ เจเนราล for year 2012\n",
      "Skip โซซิเยเต้ เจเนราล for year 2013\n"
     ]
    },
    {
     "name": "stderr",
     "output_type": "stream",
     "text": [
      " 71% (20 of 28) |#################       | Elapsed Time: 0:00:05 ETA:   0:00:02"
     ]
    },
    {
     "name": "stdout",
     "output_type": "stream",
     "text": [
      "Skip โซซิเยเต้ เจเนราล for year 2014\n",
      "Skip โซซิเยเต้ เจเนราล for year 2015\n"
     ]
    },
    {
     "name": "stderr",
     "output_type": "stream",
     "text": [
      " 78% (22 of 28) |##################      | Elapsed Time: 0:00:05 ETA:   0:00:01"
     ]
    },
    {
     "name": "stdout",
     "output_type": "stream",
     "text": [
      "Skip โซซิเยเต้ เจเนราล for year 2016\n",
      "Skip โซซิเยเต้ เจเนราล for year 2017\n"
     ]
    },
    {
     "name": "stderr",
     "output_type": "stream",
     "text": [
      " 85% (24 of 28) |####################    | Elapsed Time: 0:00:05 ETA:   0:00:00"
     ]
    },
    {
     "name": "stdout",
     "output_type": "stream",
     "text": [
      "Skip โซซิเยเต้ เจเนราล for year 2018\n",
      "Skip โซซิเยเต้ เจเนราล for year 2019\n"
     ]
    },
    {
     "name": "stderr",
     "output_type": "stream",
     "text": [
      " 92% (26 of 28) |######################  | Elapsed Time: 0:00:06 ETA:   0:00:00"
     ]
    },
    {
     "name": "stdout",
     "output_type": "stream",
     "text": [
      "Skip โซซิเยเต้ เจเนราล for year 2020\n",
      "Skip โซซิเยเต้ เจเนราล for year 2021\n"
     ]
    },
    {
     "name": "stderr",
     "output_type": "stream",
     "text": [
      "100% (28 of 28) |########################| Elapsed Time: 0:00:06 Time:  0:00:06\n",
      "  0% (0 of 28) |                         | Elapsed Time: 0:00:00 ETA:  --:--:--"
     ]
    },
    {
     "name": "stdout",
     "output_type": "stream",
     "text": [
      "Skip โซซิเยเต้ เจเนราล for year 2022\n",
      "Skip โซซิเยเต้ เจเนราล for year 2023\n",
      "Bank : ยูเอฟเจ\n"
     ]
    },
    {
     "name": "stderr",
     "output_type": "stream",
     "text": [
      "  7% (2 of 28) |#                        | Elapsed Time: 0:00:00 ETA:   0:00:04"
     ]
    },
    {
     "name": "stdout",
     "output_type": "stream",
     "text": [
      "Skip ยูเอฟเจ for year 1996\n",
      "Skip ยูเอฟเจ for year 1997\n"
     ]
    },
    {
     "name": "stderr",
     "output_type": "stream",
     "text": [
      " 14% (4 of 28) |###                      | Elapsed Time: 0:00:00 ETA:   0:00:04"
     ]
    },
    {
     "name": "stdout",
     "output_type": "stream",
     "text": [
      "Skip ยูเอฟเจ for year 1998\n",
      "Skip ยูเอฟเจ for year 1999\n"
     ]
    },
    {
     "name": "stderr",
     "output_type": "stream",
     "text": [
      " 21% (6 of 28) |#####                    | Elapsed Time: 0:00:01 ETA:   0:00:04"
     ]
    },
    {
     "name": "stdout",
     "output_type": "stream",
     "text": [
      "Skip ยูเอฟเจ for year 2000\n",
      "Skip ยูเอฟเจ for year 2001\n"
     ]
    },
    {
     "name": "stderr",
     "output_type": "stream",
     "text": [
      " 28% (8 of 28) |#######                  | Elapsed Time: 0:00:01 ETA:   0:00:03"
     ]
    },
    {
     "name": "stdout",
     "output_type": "stream",
     "text": [
      "Skip ยูเอฟเจ for year 2002\n",
      "Skip ยูเอฟเจ for year 2003\n"
     ]
    },
    {
     "name": "stderr",
     "output_type": "stream",
     "text": [
      "\r\n",
      " 32% (9 of 28) |########                 | Elapsed Time: 0:00:01 ETA:   0:00:03"
     ]
    },
    {
     "name": "stdout",
     "output_type": "stream",
     "text": [
      "Skip ยูเอฟเจ for year 2004\n"
     ]
    },
    {
     "name": "stderr",
     "output_type": "stream",
     "text": [
      " 42% (12 of 28) |##########              | Elapsed Time: 0:00:02 ETA:   0:00:03"
     ]
    },
    {
     "name": "stdout",
     "output_type": "stream",
     "text": [
      "Skip ยูเอฟเจ for year 2006\n",
      "Skip ยูเอฟเจ for year 2007\n"
     ]
    },
    {
     "name": "stderr",
     "output_type": "stream",
     "text": [
      " 50% (14 of 28) |############            | Elapsed Time: 0:00:02 ETA:   0:00:03"
     ]
    },
    {
     "name": "stdout",
     "output_type": "stream",
     "text": [
      "Skip ยูเอฟเจ for year 2008\n",
      "Skip ยูเอฟเจ for year 2009\n"
     ]
    },
    {
     "name": "stderr",
     "output_type": "stream",
     "text": [
      " 57% (16 of 28) |#############           | Elapsed Time: 0:00:03 ETA:   0:00:02"
     ]
    },
    {
     "name": "stdout",
     "output_type": "stream",
     "text": [
      "Skip ยูเอฟเจ for year 2010\n",
      "Skip ยูเอฟเจ for year 2011\n"
     ]
    },
    {
     "name": "stderr",
     "output_type": "stream",
     "text": [
      " 64% (18 of 28) |###############         | Elapsed Time: 0:00:03 ETA:   0:00:02"
     ]
    },
    {
     "name": "stdout",
     "output_type": "stream",
     "text": [
      "Skip ยูเอฟเจ for year 2012\n",
      "Skip ยูเอฟเจ for year 2013\n"
     ]
    },
    {
     "name": "stderr",
     "output_type": "stream",
     "text": [
      " 71% (20 of 28) |#################       | Elapsed Time: 0:00:03 ETA:   0:00:01"
     ]
    },
    {
     "name": "stdout",
     "output_type": "stream",
     "text": [
      "Skip ยูเอฟเจ for year 2014\n",
      "Skip ยูเอฟเจ for year 2015\n"
     ]
    },
    {
     "name": "stderr",
     "output_type": "stream",
     "text": [
      " 78% (22 of 28) |##################      | Elapsed Time: 0:00:04 ETA:   0:00:01"
     ]
    },
    {
     "name": "stdout",
     "output_type": "stream",
     "text": [
      "Skip ยูเอฟเจ for year 2016\n",
      "Skip ยูเอฟเจ for year 2017\n"
     ]
    },
    {
     "name": "stderr",
     "output_type": "stream",
     "text": [
      " 85% (24 of 28) |####################    | Elapsed Time: 0:00:04 ETA:   0:00:00"
     ]
    },
    {
     "name": "stdout",
     "output_type": "stream",
     "text": [
      "Skip ยูเอฟเจ for year 2018\n",
      "Skip ยูเอฟเจ for year 2019\n"
     ]
    },
    {
     "name": "stderr",
     "output_type": "stream",
     "text": [
      " 92% (26 of 28) |######################  | Elapsed Time: 0:00:05 ETA:   0:00:00"
     ]
    },
    {
     "name": "stdout",
     "output_type": "stream",
     "text": [
      "Skip ยูเอฟเจ for year 2020\n",
      "Skip ยูเอฟเจ for year 2021\n"
     ]
    },
    {
     "name": "stderr",
     "output_type": "stream",
     "text": [
      "100% (28 of 28) |########################| Elapsed Time: 0:00:05 Time:  0:00:05\n",
      "  0% (0 of 28) |                         | Elapsed Time: 0:00:00 ETA:  --:--:--"
     ]
    },
    {
     "name": "stdout",
     "output_type": "stream",
     "text": [
      "Skip ยูเอฟเจ for year 2022\n",
      "Skip ยูเอฟเจ for year 2023\n",
      "Bank : เกียรตินาคิน\n"
     ]
    },
    {
     "name": "stderr",
     "output_type": "stream",
     "text": [
      "\r\n",
      "  3% (1 of 28) |                         | Elapsed Time: 0:00:00 ETA:   0:00:06"
     ]
    },
    {
     "name": "stdout",
     "output_type": "stream",
     "text": [
      "Skip เกียรตินาคิน for year 1996\n"
     ]
    },
    {
     "name": "stderr",
     "output_type": "stream",
     "text": [
      "\r\n",
      "  7% (2 of 28) |#                        | Elapsed Time: 0:00:00 ETA:   0:00:06"
     ]
    },
    {
     "name": "stdout",
     "output_type": "stream",
     "text": [
      "Skip เกียรตินาคิน for year 1997\n"
     ]
    },
    {
     "name": "stderr",
     "output_type": "stream",
     "text": [
      "\r\n",
      " 10% (3 of 28) |##                       | Elapsed Time: 0:00:00 ETA:   0:00:06"
     ]
    },
    {
     "name": "stdout",
     "output_type": "stream",
     "text": [
      "Skip เกียรตินาคิน for year 1998\n"
     ]
    },
    {
     "name": "stderr",
     "output_type": "stream",
     "text": [
      "\r\n",
      " 14% (4 of 28) |###                      | Elapsed Time: 0:00:01 ETA:   0:00:08"
     ]
    },
    {
     "name": "stdout",
     "output_type": "stream",
     "text": [
      "Skip เกียรตินาคิน for year 1999\n"
     ]
    },
    {
     "name": "stderr",
     "output_type": "stream",
     "text": [
      "\r\n",
      " 17% (5 of 28) |####                     | Elapsed Time: 0:00:01 ETA:   0:00:08"
     ]
    },
    {
     "name": "stdout",
     "output_type": "stream",
     "text": [
      "Skip เกียรตินาคิน for year 2000\n"
     ]
    },
    {
     "name": "stderr",
     "output_type": "stream",
     "text": [
      "\r\n",
      " 21% (6 of 28) |#####                    | Elapsed Time: 0:00:02 ETA:   0:00:07"
     ]
    },
    {
     "name": "stdout",
     "output_type": "stream",
     "text": [
      "Skip เกียรตินาคิน for year 2001\n"
     ]
    },
    {
     "name": "stderr",
     "output_type": "stream",
     "text": [
      "\r\n",
      " 25% (7 of 28) |######                   | Elapsed Time: 0:00:02 ETA:   0:00:07"
     ]
    },
    {
     "name": "stdout",
     "output_type": "stream",
     "text": [
      "Skip เกียรตินาคิน for year 2002\n"
     ]
    },
    {
     "name": "stderr",
     "output_type": "stream",
     "text": [
      "\r\n",
      " 28% (8 of 28) |#######                  | Elapsed Time: 0:00:02 ETA:   0:00:07"
     ]
    },
    {
     "name": "stdout",
     "output_type": "stream",
     "text": [
      "Skip เกียรตินาคิน for year 2003\n"
     ]
    },
    {
     "name": "stderr",
     "output_type": "stream",
     "text": [
      "\r\n",
      " 32% (9 of 28) |########                 | Elapsed Time: 0:00:02 ETA:   0:00:06"
     ]
    },
    {
     "name": "stdout",
     "output_type": "stream",
     "text": [
      "Skip เกียรตินาคิน for year 2004\n"
     ]
    },
    {
     "name": "stderr",
     "output_type": "stream",
     "text": [
      "100% (28 of 28) |########################| Elapsed Time: 0:00:14 Time:  0:00:14\n",
      "  0% (0 of 28) |                         | Elapsed Time: 0:00:00 ETA:  --:--:--"
     ]
    },
    {
     "name": "stdout",
     "output_type": "stream",
     "text": [
      "Bank : เกียรตินาคินภัทร\n"
     ]
    },
    {
     "name": "stderr",
     "output_type": "stream",
     "text": [
      "\r\n",
      "  3% (1 of 28) |                         | Elapsed Time: 0:00:00 ETA:   0:00:07"
     ]
    },
    {
     "name": "stdout",
     "output_type": "stream",
     "text": [
      "Skip เกียรตินาคินภัทร for year 1996\n"
     ]
    },
    {
     "name": "stderr",
     "output_type": "stream",
     "text": [
      "\r\n",
      "  7% (2 of 28) |#                        | Elapsed Time: 0:00:00 ETA:   0:00:06"
     ]
    },
    {
     "name": "stdout",
     "output_type": "stream",
     "text": [
      "Skip เกียรตินาคินภัทร for year 1997\n"
     ]
    },
    {
     "name": "stderr",
     "output_type": "stream",
     "text": [
      "\r\n",
      " 10% (3 of 28) |##                       | Elapsed Time: 0:00:00 ETA:   0:00:06"
     ]
    },
    {
     "name": "stdout",
     "output_type": "stream",
     "text": [
      "Skip เกียรตินาคินภัทร for year 1998\n"
     ]
    },
    {
     "name": "stderr",
     "output_type": "stream",
     "text": [
      "\r\n",
      " 14% (4 of 28) |###                      | Elapsed Time: 0:00:00 ETA:   0:00:05"
     ]
    },
    {
     "name": "stdout",
     "output_type": "stream",
     "text": [
      "Skip เกียรตินาคินภัทร for year 1999\n"
     ]
    },
    {
     "name": "stderr",
     "output_type": "stream",
     "text": [
      "\r\n",
      " 17% (5 of 28) |####                     | Elapsed Time: 0:00:01 ETA:   0:00:05"
     ]
    },
    {
     "name": "stdout",
     "output_type": "stream",
     "text": [
      "Skip เกียรตินาคินภัทร for year 2000\n"
     ]
    },
    {
     "name": "stderr",
     "output_type": "stream",
     "text": [
      "\r\n",
      " 21% (6 of 28) |#####                    | Elapsed Time: 0:00:01 ETA:   0:00:05"
     ]
    },
    {
     "name": "stdout",
     "output_type": "stream",
     "text": [
      "Skip เกียรตินาคินภัทร for year 2001\n"
     ]
    },
    {
     "name": "stderr",
     "output_type": "stream",
     "text": [
      "\r\n",
      " 25% (7 of 28) |######                   | Elapsed Time: 0:00:01 ETA:   0:00:04"
     ]
    },
    {
     "name": "stdout",
     "output_type": "stream",
     "text": [
      "Skip เกียรตินาคินภัทร for year 2002\n"
     ]
    },
    {
     "name": "stderr",
     "output_type": "stream",
     "text": [
      "\r\n",
      " 28% (8 of 28) |#######                  | Elapsed Time: 0:00:01 ETA:   0:00:04"
     ]
    },
    {
     "name": "stdout",
     "output_type": "stream",
     "text": [
      "Skip เกียรตินาคินภัทร for year 2003\n"
     ]
    },
    {
     "name": "stderr",
     "output_type": "stream",
     "text": [
      "\r\n",
      " 32% (9 of 28) |########                 | Elapsed Time: 0:00:02 ETA:   0:00:04"
     ]
    },
    {
     "name": "stdout",
     "output_type": "stream",
     "text": [
      "Skip เกียรตินาคินภัทร for year 2004\n"
     ]
    },
    {
     "name": "stderr",
     "output_type": "stream",
     "text": [
      "100% (28 of 28) |########################| Elapsed Time: 0:00:12 Time:  0:00:12\n",
      "  0% (0 of 28) |                         | Elapsed Time: 0:00:00 ETA:  --:--:--"
     ]
    },
    {
     "name": "stdout",
     "output_type": "stream",
     "text": [
      "Bank : แลนด์ แอนด์ เฮ้าส์ \n"
     ]
    },
    {
     "name": "stderr",
     "output_type": "stream",
     "text": [
      "\r\n",
      "  3% (1 of 28) |                         | Elapsed Time: 0:00:00 ETA:   0:00:06"
     ]
    },
    {
     "name": "stdout",
     "output_type": "stream",
     "text": [
      "Skip แลนด์ แอนด์ เฮ้าส์  for year 1996\n"
     ]
    },
    {
     "name": "stderr",
     "output_type": "stream",
     "text": [
      "\r\n",
      "  7% (2 of 28) |#                        | Elapsed Time: 0:00:00 ETA:   0:00:06"
     ]
    },
    {
     "name": "stdout",
     "output_type": "stream",
     "text": [
      "Skip แลนด์ แอนด์ เฮ้าส์  for year 1997\n"
     ]
    },
    {
     "name": "stderr",
     "output_type": "stream",
     "text": [
      "\r\n",
      " 10% (3 of 28) |##                       | Elapsed Time: 0:00:00 ETA:   0:00:06"
     ]
    },
    {
     "name": "stdout",
     "output_type": "stream",
     "text": [
      "Skip แลนด์ แอนด์ เฮ้าส์  for year 1998\n"
     ]
    },
    {
     "name": "stderr",
     "output_type": "stream",
     "text": [
      "\r\n",
      " 14% (4 of 28) |###                      | Elapsed Time: 0:00:01 ETA:   0:00:06"
     ]
    },
    {
     "name": "stdout",
     "output_type": "stream",
     "text": [
      "Skip แลนด์ แอนด์ เฮ้าส์  for year 1999\n"
     ]
    },
    {
     "name": "stderr",
     "output_type": "stream",
     "text": [
      "\r\n",
      " 17% (5 of 28) |####                     | Elapsed Time: 0:00:01 ETA:   0:00:06"
     ]
    },
    {
     "name": "stdout",
     "output_type": "stream",
     "text": [
      "Skip แลนด์ แอนด์ เฮ้าส์  for year 2000\n"
     ]
    },
    {
     "name": "stderr",
     "output_type": "stream",
     "text": [
      "\r\n",
      " 21% (6 of 28) |#####                    | Elapsed Time: 0:00:01 ETA:   0:00:05"
     ]
    },
    {
     "name": "stdout",
     "output_type": "stream",
     "text": [
      "Skip แลนด์ แอนด์ เฮ้าส์  for year 2001\n"
     ]
    },
    {
     "name": "stderr",
     "output_type": "stream",
     "text": [
      "\r\n",
      " 25% (7 of 28) |######                   | Elapsed Time: 0:00:01 ETA:   0:00:05"
     ]
    },
    {
     "name": "stdout",
     "output_type": "stream",
     "text": [
      "Skip แลนด์ แอนด์ เฮ้าส์  for year 2002\n"
     ]
    },
    {
     "name": "stderr",
     "output_type": "stream",
     "text": [
      "\r\n",
      " 28% (8 of 28) |#######                  | Elapsed Time: 0:00:02 ETA:   0:00:05"
     ]
    },
    {
     "name": "stdout",
     "output_type": "stream",
     "text": [
      "Skip แลนด์ แอนด์ เฮ้าส์  for year 2003\n"
     ]
    },
    {
     "name": "stderr",
     "output_type": "stream",
     "text": [
      "\r\n",
      " 32% (9 of 28) |########                 | Elapsed Time: 0:00:02 ETA:   0:00:04"
     ]
    },
    {
     "name": "stdout",
     "output_type": "stream",
     "text": [
      "Skip แลนด์ แอนด์ เฮ้าส์  for year 2004\n"
     ]
    },
    {
     "name": "stderr",
     "output_type": "stream",
     "text": [
      "100% (28 of 28) |########################| Elapsed Time: 0:00:13 Time:  0:00:13\n",
      "  0% (0 of 28) |                         | Elapsed Time: 0:00:00 ETA:  --:--:--"
     ]
    },
    {
     "name": "stdout",
     "output_type": "stream",
     "text": [
      "Bank : แลนด์ แอนด์ เฮ้าส์ เพื่อรายย่อย\n"
     ]
    },
    {
     "name": "stderr",
     "output_type": "stream",
     "text": [
      "\r\n",
      "  3% (1 of 28) |                         | Elapsed Time: 0:00:00 ETA:   0:00:05"
     ]
    },
    {
     "name": "stdout",
     "output_type": "stream",
     "text": [
      "Skip แลนด์ แอนด์ เฮ้าส์ เพื่อรายย่อย for year 1996\n"
     ]
    },
    {
     "name": "stderr",
     "output_type": "stream",
     "text": [
      "\r\n",
      "  7% (2 of 28) |#                        | Elapsed Time: 0:00:00 ETA:   0:00:05"
     ]
    },
    {
     "name": "stdout",
     "output_type": "stream",
     "text": [
      "Skip แลนด์ แอนด์ เฮ้าส์ เพื่อรายย่อย for year 1997\n",
      "Skip แลนด์ แอนด์ เฮ้าส์ เพื่อรายย่อย for year 1998\n"
     ]
    },
    {
     "name": "stderr",
     "output_type": "stream",
     "text": [
      " 17% (5 of 28) |####                     | Elapsed Time: 0:00:01 ETA:   0:00:04"
     ]
    },
    {
     "name": "stdout",
     "output_type": "stream",
     "text": [
      "Skip แลนด์ แอนด์ เฮ้าส์ เพื่อรายย่อย for year 1999\n",
      "Skip แลนด์ แอนด์ เฮ้าส์ เพื่อรายย่อย for year 2000\n"
     ]
    },
    {
     "name": "stderr",
     "output_type": "stream",
     "text": [
      "\r\n",
      " 21% (6 of 28) |#####                    | Elapsed Time: 0:00:01 ETA:   0:00:04"
     ]
    },
    {
     "name": "stdout",
     "output_type": "stream",
     "text": [
      "Skip แลนด์ แอนด์ เฮ้าส์ เพื่อรายย่อย for year 2001\n"
     ]
    },
    {
     "name": "stderr",
     "output_type": "stream",
     "text": [
      "\r\n",
      " 25% (7 of 28) |######                   | Elapsed Time: 0:00:01 ETA:   0:00:04"
     ]
    },
    {
     "name": "stdout",
     "output_type": "stream",
     "text": [
      "Skip แลนด์ แอนด์ เฮ้าส์ เพื่อรายย่อย for year 2002\n"
     ]
    },
    {
     "name": "stderr",
     "output_type": "stream",
     "text": [
      "\r\n",
      " 28% (8 of 28) |#######                  | Elapsed Time: 0:00:01 ETA:   0:00:04"
     ]
    },
    {
     "name": "stdout",
     "output_type": "stream",
     "text": [
      "Skip แลนด์ แอนด์ เฮ้าส์ เพื่อรายย่อย for year 2003\n"
     ]
    },
    {
     "name": "stderr",
     "output_type": "stream",
     "text": [
      "\r\n",
      " 32% (9 of 28) |########                 | Elapsed Time: 0:00:01 ETA:   0:00:04"
     ]
    },
    {
     "name": "stdout",
     "output_type": "stream",
     "text": [
      "Skip แลนด์ แอนด์ เฮ้าส์ เพื่อรายย่อย for year 2004\n"
     ]
    },
    {
     "name": "stderr",
     "output_type": "stream",
     "text": [
      "100% (28 of 28) |########################| Elapsed Time: 0:00:11 Time:  0:00:11\n",
      "  0% (0 of 28) |                         | Elapsed Time: 0:00:00 ETA:  --:--:--"
     ]
    },
    {
     "name": "stdout",
     "output_type": "stream",
     "text": [
      "Bank : สินเอเซีย\n"
     ]
    },
    {
     "name": "stderr",
     "output_type": "stream",
     "text": [
      "\r\n",
      "  3% (1 of 28) |                         | Elapsed Time: 0:00:00 ETA:   0:00:06"
     ]
    },
    {
     "name": "stdout",
     "output_type": "stream",
     "text": [
      "Skip สินเอเซีย for year 1996\n"
     ]
    },
    {
     "name": "stderr",
     "output_type": "stream",
     "text": [
      "\r\n",
      "  7% (2 of 28) |#                        | Elapsed Time: 0:00:00 ETA:   0:00:06"
     ]
    },
    {
     "name": "stdout",
     "output_type": "stream",
     "text": [
      "Skip สินเอเซีย for year 1997\n"
     ]
    },
    {
     "name": "stderr",
     "output_type": "stream",
     "text": [
      "\r\n",
      " 10% (3 of 28) |##                       | Elapsed Time: 0:00:00 ETA:   0:00:06"
     ]
    },
    {
     "name": "stdout",
     "output_type": "stream",
     "text": [
      "Skip สินเอเซีย for year 1998\n"
     ]
    },
    {
     "name": "stderr",
     "output_type": "stream",
     "text": [
      "\r\n",
      " 14% (4 of 28) |###                      | Elapsed Time: 0:00:00 ETA:   0:00:05"
     ]
    },
    {
     "name": "stdout",
     "output_type": "stream",
     "text": [
      "Skip สินเอเซีย for year 1999\n"
     ]
    },
    {
     "name": "stderr",
     "output_type": "stream",
     "text": [
      "\r\n",
      " 17% (5 of 28) |####                     | Elapsed Time: 0:00:01 ETA:   0:00:05"
     ]
    },
    {
     "name": "stdout",
     "output_type": "stream",
     "text": [
      "Skip สินเอเซีย for year 2000\n"
     ]
    },
    {
     "name": "stderr",
     "output_type": "stream",
     "text": [
      "\r\n",
      " 21% (6 of 28) |#####                    | Elapsed Time: 0:00:01 ETA:   0:00:05"
     ]
    },
    {
     "name": "stdout",
     "output_type": "stream",
     "text": [
      "Skip สินเอเซีย for year 2001\n"
     ]
    },
    {
     "name": "stderr",
     "output_type": "stream",
     "text": [
      "\r\n",
      " 25% (7 of 28) |######                   | Elapsed Time: 0:00:01 ETA:   0:00:05"
     ]
    },
    {
     "name": "stdout",
     "output_type": "stream",
     "text": [
      "Skip สินเอเซีย for year 2002\n"
     ]
    },
    {
     "name": "stderr",
     "output_type": "stream",
     "text": [
      "\r\n",
      " 28% (8 of 28) |#######                  | Elapsed Time: 0:00:01 ETA:   0:00:04"
     ]
    },
    {
     "name": "stdout",
     "output_type": "stream",
     "text": [
      "Skip สินเอเซีย for year 2003\n"
     ]
    },
    {
     "name": "stderr",
     "output_type": "stream",
     "text": [
      "\r\n",
      " 32% (9 of 28) |########                 | Elapsed Time: 0:00:02 ETA:   0:00:05"
     ]
    },
    {
     "name": "stdout",
     "output_type": "stream",
     "text": [
      "Skip สินเอเซีย for year 2004\n"
     ]
    },
    {
     "name": "stderr",
     "output_type": "stream",
     "text": [
      "100% (28 of 28) |########################| Elapsed Time: 0:00:13 Time:  0:00:13\n",
      "  0% (0 of 28) |                         | Elapsed Time: 0:00:00 ETA:  --:--:--"
     ]
    },
    {
     "name": "stdout",
     "output_type": "stream",
     "text": [
      "Bank : ไอซีบีซี (ไทย)\n"
     ]
    },
    {
     "name": "stderr",
     "output_type": "stream",
     "text": [
      "\r\n",
      "  3% (1 of 28) |                         | Elapsed Time: 0:00:00 ETA:   0:00:06"
     ]
    },
    {
     "name": "stdout",
     "output_type": "stream",
     "text": [
      "Skip ไอซีบีซี (ไทย) for year 1996\n"
     ]
    },
    {
     "name": "stderr",
     "output_type": "stream",
     "text": [
      "\r\n",
      "  7% (2 of 28) |#                        | Elapsed Time: 0:00:00 ETA:   0:00:05"
     ]
    },
    {
     "name": "stdout",
     "output_type": "stream",
     "text": [
      "Skip ไอซีบีซี (ไทย) for year 1997\n"
     ]
    },
    {
     "name": "stderr",
     "output_type": "stream",
     "text": [
      "\r\n",
      " 10% (3 of 28) |##                       | Elapsed Time: 0:00:00 ETA:   0:00:05"
     ]
    },
    {
     "name": "stdout",
     "output_type": "stream",
     "text": [
      "Skip ไอซีบีซี (ไทย) for year 1998\n"
     ]
    },
    {
     "name": "stderr",
     "output_type": "stream",
     "text": [
      "\r\n",
      " 14% (4 of 28) |###                      | Elapsed Time: 0:00:00 ETA:   0:00:05"
     ]
    },
    {
     "name": "stdout",
     "output_type": "stream",
     "text": [
      "Skip ไอซีบีซี (ไทย) for year 1999\n"
     ]
    },
    {
     "name": "stderr",
     "output_type": "stream",
     "text": [
      "\r\n",
      " 17% (5 of 28) |####                     | Elapsed Time: 0:00:01 ETA:   0:00:05"
     ]
    },
    {
     "name": "stdout",
     "output_type": "stream",
     "text": [
      "Skip ไอซีบีซี (ไทย) for year 2000\n"
     ]
    },
    {
     "name": "stderr",
     "output_type": "stream",
     "text": [
      "\r\n",
      " 21% (6 of 28) |#####                    | Elapsed Time: 0:00:01 ETA:   0:00:04"
     ]
    },
    {
     "name": "stdout",
     "output_type": "stream",
     "text": [
      "Skip ไอซีบีซี (ไทย) for year 2001\n"
     ]
    },
    {
     "name": "stderr",
     "output_type": "stream",
     "text": [
      "\r\n",
      " 25% (7 of 28) |######                   | Elapsed Time: 0:00:01 ETA:   0:00:04"
     ]
    },
    {
     "name": "stdout",
     "output_type": "stream",
     "text": [
      "Skip ไอซีบีซี (ไทย) for year 2002\n"
     ]
    },
    {
     "name": "stderr",
     "output_type": "stream",
     "text": [
      "\r\n",
      " 28% (8 of 28) |#######                  | Elapsed Time: 0:00:01 ETA:   0:00:04"
     ]
    },
    {
     "name": "stdout",
     "output_type": "stream",
     "text": [
      "Skip ไอซีบีซี (ไทย) for year 2003\n"
     ]
    },
    {
     "name": "stderr",
     "output_type": "stream",
     "text": [
      "\r\n",
      " 32% (9 of 28) |########                 | Elapsed Time: 0:00:01 ETA:   0:00:04"
     ]
    },
    {
     "name": "stdout",
     "output_type": "stream",
     "text": [
      "Skip ไอซีบีซี (ไทย) for year 2004\n"
     ]
    },
    {
     "name": "stderr",
     "output_type": "stream",
     "text": [
      "100% (28 of 28) |########################| Elapsed Time: 0:00:12 Time:  0:00:12\n",
      "  3% (1 of 28) |                         | Elapsed Time: 0:00:00 ETA:   0:00:04"
     ]
    },
    {
     "name": "stdout",
     "output_type": "stream",
     "text": [
      "Bank : จีอี มันนี่ เพื่อรายย่อย\n",
      "Skip จีอี มันนี่ เพื่อรายย่อย for year 1996\n"
     ]
    },
    {
     "name": "stderr",
     "output_type": "stream",
     "text": [
      " 10% (3 of 28) |##                       | Elapsed Time: 0:00:00 ETA:   0:00:04"
     ]
    },
    {
     "name": "stdout",
     "output_type": "stream",
     "text": [
      "Skip จีอี มันนี่ เพื่อรายย่อย for year 1997\n",
      "Skip จีอี มันนี่ เพื่อรายย่อย for year 1998\n"
     ]
    },
    {
     "name": "stderr",
     "output_type": "stream",
     "text": [
      " 17% (5 of 28) |####                     | Elapsed Time: 0:00:00 ETA:   0:00:03"
     ]
    },
    {
     "name": "stdout",
     "output_type": "stream",
     "text": [
      "Skip จีอี มันนี่ เพื่อรายย่อย for year 1999\n",
      "Skip จีอี มันนี่ เพื่อรายย่อย for year 2000\n"
     ]
    },
    {
     "name": "stderr",
     "output_type": "stream",
     "text": [
      " 25% (7 of 28) |######                   | Elapsed Time: 0:00:01 ETA:   0:00:03"
     ]
    },
    {
     "name": "stdout",
     "output_type": "stream",
     "text": [
      "Skip จีอี มันนี่ เพื่อรายย่อย for year 2001\n",
      "Skip จีอี มันนี่ เพื่อรายย่อย for year 2002\n"
     ]
    },
    {
     "name": "stderr",
     "output_type": "stream",
     "text": [
      " 32% (9 of 28) |########                 | Elapsed Time: 0:00:01 ETA:   0:00:03"
     ]
    },
    {
     "name": "stdout",
     "output_type": "stream",
     "text": [
      "Skip จีอี มันนี่ เพื่อรายย่อย for year 2003\n",
      "Skip จีอี มันนี่ เพื่อรายย่อย for year 2004\n"
     ]
    },
    {
     "name": "stderr",
     "output_type": "stream",
     "text": [
      "\r\n",
      " 35% (10 of 28) |########                | Elapsed Time: 0:00:01 ETA:   0:00:02"
     ]
    },
    {
     "name": "stdout",
     "output_type": "stream",
     "text": [
      "Skip จีอี มันนี่ เพื่อรายย่อย for year 2005\n"
     ]
    },
    {
     "name": "stderr",
     "output_type": "stream",
     "text": [
      " 50% (14 of 28) |############            | Elapsed Time: 0:00:02 ETA:   0:00:03"
     ]
    },
    {
     "name": "stdout",
     "output_type": "stream",
     "text": [
      "Skip จีอี มันนี่ เพื่อรายย่อย for year 2008\n",
      "Skip จีอี มันนี่ เพื่อรายย่อย for year 2009\n"
     ]
    },
    {
     "name": "stderr",
     "output_type": "stream",
     "text": [
      " 57% (16 of 28) |#############           | Elapsed Time: 0:00:03 ETA:   0:00:02"
     ]
    },
    {
     "name": "stdout",
     "output_type": "stream",
     "text": [
      "Skip จีอี มันนี่ เพื่อรายย่อย for year 2010\n",
      "Skip จีอี มันนี่ เพื่อรายย่อย for year 2011\n"
     ]
    },
    {
     "name": "stderr",
     "output_type": "stream",
     "text": [
      " 64% (18 of 28) |###############         | Elapsed Time: 0:00:03 ETA:   0:00:02"
     ]
    },
    {
     "name": "stdout",
     "output_type": "stream",
     "text": [
      "Skip จีอี มันนี่ เพื่อรายย่อย for year 2012\n",
      "Skip จีอี มันนี่ เพื่อรายย่อย for year 2013\n"
     ]
    },
    {
     "name": "stderr",
     "output_type": "stream",
     "text": [
      " 71% (20 of 28) |#################       | Elapsed Time: 0:00:03 ETA:   0:00:01"
     ]
    },
    {
     "name": "stdout",
     "output_type": "stream",
     "text": [
      "Skip จีอี มันนี่ เพื่อรายย่อย for year 2014\n",
      "Skip จีอี มันนี่ เพื่อรายย่อย for year 2015\n"
     ]
    },
    {
     "name": "stderr",
     "output_type": "stream",
     "text": [
      " 78% (22 of 28) |##################      | Elapsed Time: 0:00:04 ETA:   0:00:01"
     ]
    },
    {
     "name": "stdout",
     "output_type": "stream",
     "text": [
      "Skip จีอี มันนี่ เพื่อรายย่อย for year 2016\n",
      "Skip จีอี มันนี่ เพื่อรายย่อย for year 2017\n"
     ]
    },
    {
     "name": "stderr",
     "output_type": "stream",
     "text": [
      " 85% (24 of 28) |####################    | Elapsed Time: 0:00:04 ETA:   0:00:00"
     ]
    },
    {
     "name": "stdout",
     "output_type": "stream",
     "text": [
      "Skip จีอี มันนี่ เพื่อรายย่อย for year 2018\n",
      "Skip จีอี มันนี่ เพื่อรายย่อย for year 2019\n"
     ]
    },
    {
     "name": "stderr",
     "output_type": "stream",
     "text": [
      " 92% (26 of 28) |######################  | Elapsed Time: 0:00:04 ETA:   0:00:00"
     ]
    },
    {
     "name": "stdout",
     "output_type": "stream",
     "text": [
      "Skip จีอี มันนี่ เพื่อรายย่อย for year 2020\n",
      "Skip จีอี มันนี่ เพื่อรายย่อย for year 2021\n"
     ]
    },
    {
     "name": "stderr",
     "output_type": "stream",
     "text": [
      "100% (28 of 28) |########################| Elapsed Time: 0:00:05 Time:  0:00:05\n",
      "  0% (0 of 28) |                         | Elapsed Time: 0:00:00 ETA:  --:--:--"
     ]
    },
    {
     "name": "stdout",
     "output_type": "stream",
     "text": [
      "Skip จีอี มันนี่ เพื่อรายย่อย for year 2022\n",
      "Skip จีอี มันนี่ เพื่อรายย่อย for year 2023\n",
      "Bank : ไทยเครดิตเพื่อรายย่อย\n"
     ]
    },
    {
     "name": "stderr",
     "output_type": "stream",
     "text": [
      "\r\n",
      "  3% (1 of 28) |                         | Elapsed Time: 0:00:00 ETA:   0:00:06"
     ]
    },
    {
     "name": "stdout",
     "output_type": "stream",
     "text": [
      "Skip ไทยเครดิตเพื่อรายย่อย for year 1996\n"
     ]
    },
    {
     "name": "stderr",
     "output_type": "stream",
     "text": [
      "\r\n",
      "  7% (2 of 28) |#                        | Elapsed Time: 0:00:00 ETA:   0:00:05"
     ]
    },
    {
     "name": "stdout",
     "output_type": "stream",
     "text": [
      "Skip ไทยเครดิตเพื่อรายย่อย for year 1997\n"
     ]
    },
    {
     "name": "stderr",
     "output_type": "stream",
     "text": [
      " 14% (4 of 28) |###                      | Elapsed Time: 0:00:00 ETA:   0:00:05"
     ]
    },
    {
     "name": "stdout",
     "output_type": "stream",
     "text": [
      "Skip ไทยเครดิตเพื่อรายย่อย for year 1998\n",
      "Skip ไทยเครดิตเพื่อรายย่อย for year 1999\n"
     ]
    },
    {
     "name": "stderr",
     "output_type": "stream",
     "text": [
      "\r\n",
      " 17% (5 of 28) |####                     | Elapsed Time: 0:00:01 ETA:   0:00:04"
     ]
    },
    {
     "name": "stdout",
     "output_type": "stream",
     "text": [
      "Skip ไทยเครดิตเพื่อรายย่อย for year 2000\n"
     ]
    },
    {
     "name": "stderr",
     "output_type": "stream",
     "text": [
      "\r\n",
      " 21% (6 of 28) |#####                    | Elapsed Time: 0:00:01 ETA:   0:00:04"
     ]
    },
    {
     "name": "stdout",
     "output_type": "stream",
     "text": [
      "Skip ไทยเครดิตเพื่อรายย่อย for year 2001\n",
      "Skip ไทยเครดิตเพื่อรายย่อย for year 2002\n"
     ]
    },
    {
     "name": "stderr",
     "output_type": "stream",
     "text": [
      " 28% (8 of 28) |#######                  | Elapsed Time: 0:00:01 ETA:   0:00:04"
     ]
    },
    {
     "name": "stdout",
     "output_type": "stream",
     "text": [
      "Skip ไทยเครดิตเพื่อรายย่อย for year 2003\n",
      "Skip ไทยเครดิตเพื่อรายย่อย for year 2004\n"
     ]
    },
    {
     "name": "stderr",
     "output_type": "stream",
     "text": [
      " 35% (10 of 28) |########                | Elapsed Time: 0:00:02 ETA:   0:00:03"
     ]
    },
    {
     "name": "stdout",
     "output_type": "stream",
     "text": [
      "Skip ไทยเครดิตเพื่อรายย่อย for year 2005\n"
     ]
    },
    {
     "name": "stderr",
     "output_type": "stream",
     "text": [
      "\r\n",
      " 39% (11 of 28) |#########               | Elapsed Time: 0:00:02 ETA:   0:00:03"
     ]
    },
    {
     "name": "stdout",
     "output_type": "stream",
     "text": [
      "Skip ไทยเครดิตเพื่อรายย่อย for year 2006\n"
     ]
    },
    {
     "name": "stderr",
     "output_type": "stream",
     "text": [
      "100% (28 of 28) |########################| Elapsed Time: 0:00:12 Time:  0:00:12\n",
      "  3% (1 of 28) |                         | Elapsed Time: 0:00:00 ETA:   0:00:04"
     ]
    },
    {
     "name": "stdout",
     "output_type": "stream",
     "text": [
      "Bank : เอไอจี เพื่อรายย่อย\n",
      "Skip เอไอจี เพื่อรายย่อย for year 1996\n"
     ]
    },
    {
     "name": "stderr",
     "output_type": "stream",
     "text": [
      " 10% (3 of 28) |##                       | Elapsed Time: 0:00:00 ETA:   0:00:04"
     ]
    },
    {
     "name": "stdout",
     "output_type": "stream",
     "text": [
      "Skip เอไอจี เพื่อรายย่อย for year 1997\n",
      "Skip เอไอจี เพื่อรายย่อย for year 1998\n"
     ]
    },
    {
     "name": "stderr",
     "output_type": "stream",
     "text": [
      " 17% (5 of 28) |####                     | Elapsed Time: 0:00:00 ETA:   0:00:04"
     ]
    },
    {
     "name": "stdout",
     "output_type": "stream",
     "text": [
      "Skip เอไอจี เพื่อรายย่อย for year 1999\n",
      "Skip เอไอจี เพื่อรายย่อย for year 2000\n"
     ]
    },
    {
     "name": "stderr",
     "output_type": "stream",
     "text": [
      " 25% (7 of 28) |######                   | Elapsed Time: 0:00:01 ETA:   0:00:03"
     ]
    },
    {
     "name": "stdout",
     "output_type": "stream",
     "text": [
      "Skip เอไอจี เพื่อรายย่อย for year 2001\n",
      "Skip เอไอจี เพื่อรายย่อย for year 2002\n"
     ]
    },
    {
     "name": "stderr",
     "output_type": "stream",
     "text": [
      " 32% (9 of 28) |########                 | Elapsed Time: 0:00:01 ETA:   0:00:03"
     ]
    },
    {
     "name": "stdout",
     "output_type": "stream",
     "text": [
      "Skip เอไอจี เพื่อรายย่อย for year 2003\n",
      "Skip เอไอจี เพื่อรายย่อย for year 2004\n"
     ]
    },
    {
     "name": "stderr",
     "output_type": "stream",
     "text": [
      " 39% (11 of 28) |#########               | Elapsed Time: 0:00:01 ETA:   0:00:03"
     ]
    },
    {
     "name": "stdout",
     "output_type": "stream",
     "text": [
      "Skip เอไอจี เพื่อรายย่อย for year 2005\n",
      "Skip เอไอจี เพื่อรายย่อย for year 2006\n"
     ]
    },
    {
     "name": "stderr",
     "output_type": "stream",
     "text": [
      " 57% (16 of 28) |#############           | Elapsed Time: 0:00:04 ETA:   0:00:05"
     ]
    },
    {
     "name": "stdout",
     "output_type": "stream",
     "text": [
      "Skip เอไอจี เพื่อรายย่อย for year 2010\n",
      "Skip เอไอจี เพื่อรายย่อย for year 2011\n"
     ]
    },
    {
     "name": "stderr",
     "output_type": "stream",
     "text": [
      " 64% (18 of 28) |###############         | Elapsed Time: 0:00:04 ETA:   0:00:03"
     ]
    },
    {
     "name": "stdout",
     "output_type": "stream",
     "text": [
      "Skip เอไอจี เพื่อรายย่อย for year 2012\n",
      "Skip เอไอจี เพื่อรายย่อย for year 2013\n"
     ]
    },
    {
     "name": "stderr",
     "output_type": "stream",
     "text": [
      " 71% (20 of 28) |#################       | Elapsed Time: 0:00:04 ETA:   0:00:02"
     ]
    },
    {
     "name": "stdout",
     "output_type": "stream",
     "text": [
      "Skip เอไอจี เพื่อรายย่อย for year 2014\n",
      "Skip เอไอจี เพื่อรายย่อย for year 2015\n"
     ]
    },
    {
     "name": "stderr",
     "output_type": "stream",
     "text": [
      " 78% (22 of 28) |##################      | Elapsed Time: 0:00:05 ETA:   0:00:01"
     ]
    },
    {
     "name": "stdout",
     "output_type": "stream",
     "text": [
      "Skip เอไอจี เพื่อรายย่อย for year 2016\n",
      "Skip เอไอจี เพื่อรายย่อย for year 2017\n"
     ]
    },
    {
     "name": "stderr",
     "output_type": "stream",
     "text": [
      " 85% (24 of 28) |####################    | Elapsed Time: 0:00:05 ETA:   0:00:00"
     ]
    },
    {
     "name": "stdout",
     "output_type": "stream",
     "text": [
      "Skip เอไอจี เพื่อรายย่อย for year 2018\n",
      "Skip เอไอจี เพื่อรายย่อย for year 2019\n"
     ]
    },
    {
     "name": "stderr",
     "output_type": "stream",
     "text": [
      " 92% (26 of 28) |######################  | Elapsed Time: 0:00:05 ETA:   0:00:00"
     ]
    },
    {
     "name": "stdout",
     "output_type": "stream",
     "text": [
      "Skip เอไอจี เพื่อรายย่อย for year 2020\n",
      "Skip เอไอจี เพื่อรายย่อย for year 2021\n"
     ]
    },
    {
     "name": "stderr",
     "output_type": "stream",
     "text": [
      "100% (28 of 28) |########################| Elapsed Time: 0:00:06 Time:  0:00:06\n",
      "  0% (0 of 28) |                         | Elapsed Time: 0:00:00 ETA:  --:--:--"
     ]
    },
    {
     "name": "stdout",
     "output_type": "stream",
     "text": [
      "Skip เอไอจี เพื่อรายย่อย for year 2022\n",
      "Skip เอไอจี เพื่อรายย่อย for year 2023\n",
      "Bank : แห่งประเทศจีน(ไทย)\n"
     ]
    },
    {
     "name": "stderr",
     "output_type": "stream",
     "text": [
      "\r\n",
      "  3% (1 of 28) |                         | Elapsed Time: 0:00:00 ETA:   0:00:05"
     ]
    },
    {
     "name": "stdout",
     "output_type": "stream",
     "text": [
      "Skip แห่งประเทศจีน(ไทย) for year 1996\n"
     ]
    },
    {
     "name": "stderr",
     "output_type": "stream",
     "text": [
      "100% (28 of 28) |########################| Elapsed Time: 0:00:16 Time:  0:00:16\n",
      "  3% (1 of 28) |                         | Elapsed Time: 0:00:00 ETA:   0:00:05"
     ]
    },
    {
     "name": "stdout",
     "output_type": "stream",
     "text": [
      "Bank : ธนาคารเอเอ็นแซด (ไทย) จำกัด (มหาชน)\n",
      "Skip ธนาคารเอเอ็นแซด (ไทย) จำกัด (มหาชน) for year 1996\n"
     ]
    },
    {
     "name": "stderr",
     "output_type": "stream",
     "text": [
      " 10% (3 of 28) |##                       | Elapsed Time: 0:00:00 ETA:   0:00:04"
     ]
    },
    {
     "name": "stdout",
     "output_type": "stream",
     "text": [
      "Skip ธนาคารเอเอ็นแซด (ไทย) จำกัด (มหาชน) for year 1997\n",
      "Skip ธนาคารเอเอ็นแซด (ไทย) จำกัด (มหาชน) for year 1998\n"
     ]
    },
    {
     "name": "stderr",
     "output_type": "stream",
     "text": [
      " 17% (5 of 28) |####                     | Elapsed Time: 0:00:00 ETA:   0:00:04"
     ]
    },
    {
     "name": "stdout",
     "output_type": "stream",
     "text": [
      "Skip ธนาคารเอเอ็นแซด (ไทย) จำกัด (มหาชน) for year 1999\n",
      "Skip ธนาคารเอเอ็นแซด (ไทย) จำกัด (มหาชน) for year 2000\n"
     ]
    },
    {
     "name": "stderr",
     "output_type": "stream",
     "text": [
      " 25% (7 of 28) |######                   | Elapsed Time: 0:00:01 ETA:   0:00:03"
     ]
    },
    {
     "name": "stdout",
     "output_type": "stream",
     "text": [
      "Skip ธนาคารเอเอ็นแซด (ไทย) จำกัด (มหาชน) for year 2001\n",
      "Skip ธนาคารเอเอ็นแซด (ไทย) จำกัด (มหาชน) for year 2002\n"
     ]
    },
    {
     "name": "stderr",
     "output_type": "stream",
     "text": [
      " 32% (9 of 28) |########                 | Elapsed Time: 0:00:01 ETA:   0:00:03"
     ]
    },
    {
     "name": "stdout",
     "output_type": "stream",
     "text": [
      "Skip ธนาคารเอเอ็นแซด (ไทย) จำกัด (มหาชน) for year 2003\n",
      "Skip ธนาคารเอเอ็นแซด (ไทย) จำกัด (มหาชน) for year 2004\n"
     ]
    },
    {
     "name": "stderr",
     "output_type": "stream",
     "text": [
      " 39% (11 of 28) |#########               | Elapsed Time: 0:00:02 ETA:   0:00:03"
     ]
    },
    {
     "name": "stdout",
     "output_type": "stream",
     "text": [
      "Skip ธนาคารเอเอ็นแซด (ไทย) จำกัด (มหาชน) for year 2005\n",
      "Skip ธนาคารเอเอ็นแซด (ไทย) จำกัด (มหาชน) for year 2006\n"
     ]
    },
    {
     "name": "stderr",
     "output_type": "stream",
     "text": [
      "\r\n",
      " 42% (12 of 28) |##########              | Elapsed Time: 0:00:02 ETA:   0:00:03"
     ]
    },
    {
     "name": "stdout",
     "output_type": "stream",
     "text": [
      "Skip ธนาคารเอเอ็นแซด (ไทย) จำกัด (มหาชน) for year 2007\n"
     ]
    },
    {
     "name": "stderr",
     "output_type": "stream",
     "text": [
      " 50% (14 of 28) |############            | Elapsed Time: 0:00:02 ETA:   0:00:02"
     ]
    },
    {
     "name": "stdout",
     "output_type": "stream",
     "text": [
      "Skip ธนาคารเอเอ็นแซด (ไทย) จำกัด (มหาชน) for year 2008\n",
      "Skip ธนาคารเอเอ็นแซด (ไทย) จำกัด (มหาชน) for year 2009\n"
     ]
    },
    {
     "name": "stderr",
     "output_type": "stream",
     "text": [
      "\r\n",
      " 53% (15 of 28) |############            | Elapsed Time: 0:00:02 ETA:   0:00:02"
     ]
    },
    {
     "name": "stdout",
     "output_type": "stream",
     "text": [
      "Skip ธนาคารเอเอ็นแซด (ไทย) จำกัด (มหาชน) for year 2010\n"
     ]
    },
    {
     "name": "stderr",
     "output_type": "stream",
     "text": [
      "\r\n",
      " 57% (16 of 28) |#############           | Elapsed Time: 0:00:03 ETA:   0:00:02"
     ]
    },
    {
     "name": "stdout",
     "output_type": "stream",
     "text": [
      "Skip ธนาคารเอเอ็นแซด (ไทย) จำกัด (มหาชน) for year 2011\n"
     ]
    },
    {
     "name": "stderr",
     "output_type": "stream",
     "text": [
      "\r\n",
      " 60% (17 of 28) |##############          | Elapsed Time: 0:00:03 ETA:   0:00:02"
     ]
    },
    {
     "name": "stdout",
     "output_type": "stream",
     "text": [
      "Skip ธนาคารเอเอ็นแซด (ไทย) จำกัด (มหาชน) for year 2012\n",
      "Skip ธนาคารเอเอ็นแซด (ไทย) จำกัด (มหาชน) for year 2013\n"
     ]
    },
    {
     "name": "stderr",
     "output_type": "stream",
     "text": [
      " 67% (19 of 28) |################        | Elapsed Time: 0:00:03 ETA:   0:00:01"
     ]
    },
    {
     "name": "stdout",
     "output_type": "stream",
     "text": [
      "Skip ธนาคารเอเอ็นแซด (ไทย) จำกัด (มหาชน) for year 2014\n"
     ]
    },
    {
     "name": "stderr",
     "output_type": "stream",
     "text": [
      "100% (28 of 28) |########################| Elapsed Time: 0:00:08 Time:  0:00:08\n",
      "  3% (1 of 28) |                         | Elapsed Time: 0:00:00 ETA:   0:00:04"
     ]
    },
    {
     "name": "stdout",
     "output_type": "stream",
     "text": [
      "Skip ธนาคารเอเอ็นแซด (ไทย) จำกัด (มหาชน) for year 2023\n",
      "Bank : ซูมิโตโม มิตซุย ทรัสต์  (ไทย)\n",
      "Skip ซูมิโตโม มิตซุย ทรัสต์  (ไทย) for year 1996\n"
     ]
    },
    {
     "name": "stderr",
     "output_type": "stream",
     "text": [
      " 10% (3 of 28) |##                       | Elapsed Time: 0:00:00 ETA:   0:00:04"
     ]
    },
    {
     "name": "stdout",
     "output_type": "stream",
     "text": [
      "Skip ซูมิโตโม มิตซุย ทรัสต์  (ไทย) for year 1997\n",
      "Skip ซูมิโตโม มิตซุย ทรัสต์  (ไทย) for year 1998\n"
     ]
    },
    {
     "name": "stderr",
     "output_type": "stream",
     "text": [
      " 17% (5 of 28) |####                     | Elapsed Time: 0:00:00 ETA:   0:00:04"
     ]
    },
    {
     "name": "stdout",
     "output_type": "stream",
     "text": [
      "Skip ซูมิโตโม มิตซุย ทรัสต์  (ไทย) for year 1999\n",
      "Skip ซูมิโตโม มิตซุย ทรัสต์  (ไทย) for year 2000\n"
     ]
    },
    {
     "name": "stderr",
     "output_type": "stream",
     "text": [
      " 25% (7 of 28) |######                   | Elapsed Time: 0:00:01 ETA:   0:00:03"
     ]
    },
    {
     "name": "stdout",
     "output_type": "stream",
     "text": [
      "Skip ซูมิโตโม มิตซุย ทรัสต์  (ไทย) for year 2001\n",
      "Skip ซูมิโตโม มิตซุย ทรัสต์  (ไทย) for year 2002\n"
     ]
    },
    {
     "name": "stderr",
     "output_type": "stream",
     "text": [
      " 32% (9 of 28) |########                 | Elapsed Time: 0:00:01 ETA:   0:00:03"
     ]
    },
    {
     "name": "stdout",
     "output_type": "stream",
     "text": [
      "Skip ซูมิโตโม มิตซุย ทรัสต์  (ไทย) for year 2003\n",
      "Skip ซูมิโตโม มิตซุย ทรัสต์  (ไทย) for year 2004\n"
     ]
    },
    {
     "name": "stderr",
     "output_type": "stream",
     "text": [
      " 39% (11 of 28) |#########               | Elapsed Time: 0:00:02 ETA:   0:00:03"
     ]
    },
    {
     "name": "stdout",
     "output_type": "stream",
     "text": [
      "Skip ซูมิโตโม มิตซุย ทรัสต์  (ไทย) for year 2005\n",
      "Skip ซูมิโตโม มิตซุย ทรัสต์  (ไทย) for year 2006\n"
     ]
    },
    {
     "name": "stderr",
     "output_type": "stream",
     "text": [
      "\r\n",
      " 42% (12 of 28) |##########              | Elapsed Time: 0:00:02 ETA:   0:00:02"
     ]
    },
    {
     "name": "stdout",
     "output_type": "stream",
     "text": [
      "Skip ซูมิโตโม มิตซุย ทรัสต์  (ไทย) for year 2007\n",
      "Skip ซูมิโตโม มิตซุย ทรัสต์  (ไทย) for year 2008\n"
     ]
    },
    {
     "name": "stderr",
     "output_type": "stream",
     "text": [
      " 53% (15 of 28) |############            | Elapsed Time: 0:00:02 ETA:   0:00:02"
     ]
    },
    {
     "name": "stdout",
     "output_type": "stream",
     "text": [
      "Skip ซูมิโตโม มิตซุย ทรัสต์  (ไทย) for year 2009\n",
      "Skip ซูมิโตโม มิตซุย ทรัสต์  (ไทย) for year 2010\n"
     ]
    },
    {
     "name": "stderr",
     "output_type": "stream",
     "text": [
      " 60% (17 of 28) |##############          | Elapsed Time: 0:00:03 ETA:   0:00:02"
     ]
    },
    {
     "name": "stdout",
     "output_type": "stream",
     "text": [
      "Skip ซูมิโตโม มิตซุย ทรัสต์  (ไทย) for year 2011\n",
      "Skip ซูมิโตโม มิตซุย ทรัสต์  (ไทย) for year 2012\n"
     ]
    },
    {
     "name": "stderr",
     "output_type": "stream",
     "text": [
      " 67% (19 of 28) |################        | Elapsed Time: 0:00:03 ETA:   0:00:01"
     ]
    },
    {
     "name": "stdout",
     "output_type": "stream",
     "text": [
      "Skip ซูมิโตโม มิตซุย ทรัสต์  (ไทย) for year 2013\n",
      "Skip ซูมิโตโม มิตซุย ทรัสต์  (ไทย) for year 2014\n"
     ]
    },
    {
     "name": "stderr",
     "output_type": "stream",
     "text": [
      "100% (28 of 28) |########################| Elapsed Time: 0:00:08 Time:  0:00:08\n"
     ]
    }
   ],
   "source": [
    "for index,row in bank_df.iterrows():\n",
    "    bankValue = row.bankValue\n",
    "    bankName = row.bankName\n",
    "    bankBar = progressbar.ProgressBar()\n",
    "    print(\"Bank : {}\".format(bankName))\n",
    "    for year in bankBar(range(startYear,currentYear+1)):\n",
    "        dateFrom = \"01/01/{}\".format(buddhistYear(year))\n",
    "        dateTo = \"31/12/{}\".format(buddhistYear(year))\n",
    "\n",
    "        if(year==startYear):\n",
    "            dateFrom=\"31/01/{}\".format(buddhistYear(year))\n",
    "        elif(year==currentYear):\n",
    "            date = today.day\n",
    "            month = today.month\n",
    "            dateTo = \"{}/{}/{}\".format(date,month,buddhistYear(year))\n",
    "\n",
    "        dlType = \"interestCSV\"\n",
    "        rdoTypeStr = \"0\" \n",
    "\n",
    "        url = getBOT_URL(dateFrom,dateTo,bankValue,bankName,rdoTypeStr)\n",
    "        res = requests.get(url)\n",
    "        \n",
    "        if(re.search(\"ไม่พบข้อมูลสำหรับสร้างไฟล์\",res.text)):\n",
    "            print(\"Skip {} for year {}\".format(bankName,year))\n",
    "        else:\n",
    "            df = pd.read_csv(io.StringIO(res.text),sep=\"|\",encoding=\"iso8859_11\",skiprows=[0,1])\n",
    "            df[\"bank\"] = bankName\n",
    "            all_dfs.append(df)"
   ]
  },
  {
   "cell_type": "code",
   "execution_count": 7,
   "id": "18486fc6",
   "metadata": {},
   "outputs": [],
   "source": [
    "consolidated_df = pd.concat(all_dfs)"
   ]
  },
  {
   "cell_type": "code",
   "execution_count": 8,
   "id": "4584c30a",
   "metadata": {},
   "outputs": [],
   "source": [
    "consolidated_df.to_csv(\"./output/deposit-interest-rates.csv\",index=False)"
   ]
  },
  {
   "cell_type": "code",
   "execution_count": null,
   "id": "cc231bb5",
   "metadata": {},
   "outputs": [],
   "source": []
  }
 ],
 "metadata": {
  "kernelspec": {
   "display_name": "Python 3 (ipykernel)",
   "language": "python",
   "name": "python3"
  },
  "language_info": {
   "codemirror_mode": {
    "name": "ipython",
    "version": 3
   },
   "file_extension": ".py",
   "mimetype": "text/x-python",
   "name": "python",
   "nbconvert_exporter": "python",
   "pygments_lexer": "ipython3",
   "version": "3.10.6"
  },
  "vscode": {
   "interpreter": {
    "hash": "c8854027efda5f33bfc7bd9b0296086f9c5bc1581bf19ec0642c6fb37b77ba8f"
   }
  }
 },
 "nbformat": 4,
 "nbformat_minor": 5
}
